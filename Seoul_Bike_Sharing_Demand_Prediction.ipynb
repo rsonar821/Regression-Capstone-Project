{
  "nbformat": 4,
  "nbformat_minor": 0,
  "metadata": {
    "colab": {
      "name": "Seoul Bike Sharing Demand Prediction.ipynb",
      "provenance": [],
      "collapsed_sections": [],
      "authorship_tag": "ABX9TyPUt8ghKZewBO8lZbKXsr3Y",
      "include_colab_link": true
    },
    "kernelspec": {
      "name": "python3",
      "display_name": "Python 3"
    },
    "language_info": {
      "name": "python"
    }
  },
  "cells": [
    {
      "cell_type": "markdown",
      "metadata": {
        "id": "view-in-github",
        "colab_type": "text"
      },
      "source": [
        "<a href=\"https://colab.research.google.com/github/rsonar821/Regression-Capstone-Project/blob/main/Seoul_Bike_Sharing_Demand_Prediction.ipynb\" target=\"_parent\"><img src=\"https://colab.research.google.com/assets/colab-badge.svg\" alt=\"Open In Colab\"/></a>"
      ]
    },
    {
      "cell_type": "markdown",
      "source": [
        "# <b><u> Project Title : Seoul Bike Sharing Demand Prediction </u></b>"
      ],
      "metadata": {
        "id": "zivys5s5BPPq"
      }
    },
    {
      "cell_type": "markdown",
      "source": [
        "## <b> Problem Description </b>\n",
        "\n",
        "### Currently Rental bikes are introduced in many urban cities for the enhancement of mobility comfort. It is important to make the rental bike available and accessible to the public at the right time as it lessens the waiting time. Eventually, providing the city with a stable supply of rental bikes becomes a major concern. The crucial part is the prediction of bike count required at each hour for the stable supply of rental bikes."
      ],
      "metadata": {
        "id": "eeZjr6kOBSs0"
      }
    },
    {
      "cell_type": "markdown",
      "source": [
        "## <b> Data Description </b>\n",
        "\n",
        "### <b> The dataset contains weather information (Temperature, Humidity, Windspeed, Visibility, Dewpoint, Solar radiation, Snowfall, Rainfall), the number of bikes rented per hour and date information.</b>\n",
        "\n",
        "\n",
        "### <b>Attribute Information: </b>\n",
        "\n",
        "* ### Date: Date on which bike was rented (Format: year-month-day)\n",
        "* ### Rented Bike Count: Count of bikes rented at each hour\n",
        "* ### Hour: Hour of the day\n",
        "* ### Temperature: Temperature of the hour in Celsius\n",
        "* ### Humidity: Humidity% of the hour\n",
        "* ### Windspeed: Windspeed of the hour in m/s\n",
        "* ### Visibility: Visibility of the hour in units of 10m\n",
        "* ### Dew Point Temperature: Dew Point Temperature of the hour in Celsius\n",
        "* ### Solar Radiation: Solar Radiation of the hour in MJ/m2\n",
        "* ### Rainfall: Rainfall of the hour in mm\n",
        "* ### Snowfall: Snowfall of the hour in cm\n",
        "* ### Seasons: 4 seasons (Winter, Spring, Summer and Autumn)\n",
        "* ### Holiday: Whether the day is a Holiday or a Working Day\n",
        "* ### Functional Day: Whether the day is functional for renting bikes or not."
      ],
      "metadata": {
        "id": "OPPOd0ScBXQE"
      }
    },
    {
      "cell_type": "code",
      "execution_count": 59,
      "metadata": {
        "id": "OyLGpE-_9hqe"
      },
      "outputs": [],
      "source": [
        "# Importing Basic Libraries\n",
        "import pandas as pd\n",
        "import numpy as np\n",
        "import math\n",
        "import matplotlib.pyplot as plt\n",
        "import seaborn as sns\n",
        "%matplotlib inline\n",
        "\n",
        "import warnings\n",
        "warnings.filterwarnings('ignore')\n",
        "\n",
        "# Importing Algorithms\n",
        "from sklearn.linear_model import LinearRegression\n",
        "from sklearn.linear_model import Ridge\n",
        "from sklearn.linear_model import Lasso\n",
        "from sklearn.svm import SVR\n",
        "from sklearn.ensemble import RandomForestRegressor, GradientBoostingRegressor\n",
        "from sklearn.tree import DecisionTreeRegressor\n",
        "from xgboost import XGBRegressor\n",
        "\n",
        "# Importing Libraries for Data Processing\n",
        "from sklearn.model_selection import cross_val_score\n",
        "from sklearn.model_selection import train_test_split\n",
        "from sklearn.preprocessing import StandardScaler\n",
        "from sklearn.preprocessing import PowerTransformer\n",
        "from sklearn.model_selection import RandomizedSearchCV\n",
        "\n",
        "# Importing Model Evaluation Metrics\n",
        "from sklearn.metrics import r2_score, mean_squared_error, mean_absolute_error"
      ]
    },
    {
      "cell_type": "code",
      "source": [
        "# Mounting google drive\n",
        "\n",
        "from google.colab import drive\n",
        "drive.mount('/content/drive')"
      ],
      "metadata": {
        "colab": {
          "base_uri": "https://localhost:8080/"
        },
        "id": "kbY9ZHuRCGvn",
        "outputId": "03a8d365-eb5b-461d-d170-0afa6f57dda9"
      },
      "execution_count": 60,
      "outputs": [
        {
          "output_type": "stream",
          "name": "stdout",
          "text": [
            "Drive already mounted at /content/drive; to attempt to forcibly remount, call drive.mount(\"/content/drive\", force_remount=True).\n"
          ]
        }
      ]
    },
    {
      "cell_type": "code",
      "source": [
        "# Loading the dataset\n",
        "\n",
        "df = pd.read_csv(\"/content/drive/MyDrive/SeoulBikeData.csv\", encoding= 'unicode_escape')"
      ],
      "metadata": {
        "id": "aLVAd3og9lhf"
      },
      "execution_count": 61,
      "outputs": []
    },
    {
      "cell_type": "markdown",
      "source": [
        "## **Analyzing and understanding the dataset**"
      ],
      "metadata": {
        "id": "US5wyhDGDNqN"
      }
    },
    {
      "cell_type": "code",
      "source": [
        "# Printing the first 5 rows\n",
        "\n",
        "df.head()"
      ],
      "metadata": {
        "colab": {
          "base_uri": "https://localhost:8080/",
          "height": 372
        },
        "id": "1cdfPPDi9wBb",
        "outputId": "fa4c8573-f34a-446d-fbe9-2c91cdf719cc"
      },
      "execution_count": 62,
      "outputs": [
        {
          "output_type": "execute_result",
          "data": {
            "text/plain": [
              "         Date  Rented Bike Count  Hour  Temperature(°C)  Humidity(%)  \\\n",
              "0  01/12/2017                254     0             -5.2           37   \n",
              "1  01/12/2017                204     1             -5.5           38   \n",
              "2  01/12/2017                173     2             -6.0           39   \n",
              "3  01/12/2017                107     3             -6.2           40   \n",
              "4  01/12/2017                 78     4             -6.0           36   \n",
              "\n",
              "   Wind speed (m/s)  Visibility (10m)  Dew point temperature(°C)  \\\n",
              "0               2.2              2000                      -17.6   \n",
              "1               0.8              2000                      -17.6   \n",
              "2               1.0              2000                      -17.7   \n",
              "3               0.9              2000                      -17.6   \n",
              "4               2.3              2000                      -18.6   \n",
              "\n",
              "   Solar Radiation (MJ/m2)  Rainfall(mm)  Snowfall (cm) Seasons     Holiday  \\\n",
              "0                      0.0           0.0            0.0  Winter  No Holiday   \n",
              "1                      0.0           0.0            0.0  Winter  No Holiday   \n",
              "2                      0.0           0.0            0.0  Winter  No Holiday   \n",
              "3                      0.0           0.0            0.0  Winter  No Holiday   \n",
              "4                      0.0           0.0            0.0  Winter  No Holiday   \n",
              "\n",
              "  Functioning Day  \n",
              "0             Yes  \n",
              "1             Yes  \n",
              "2             Yes  \n",
              "3             Yes  \n",
              "4             Yes  "
            ],
            "text/html": [
              "\n",
              "  <div id=\"df-b23c17da-23e2-4280-a7f1-9cf1b0acc4dc\">\n",
              "    <div class=\"colab-df-container\">\n",
              "      <div>\n",
              "<style scoped>\n",
              "    .dataframe tbody tr th:only-of-type {\n",
              "        vertical-align: middle;\n",
              "    }\n",
              "\n",
              "    .dataframe tbody tr th {\n",
              "        vertical-align: top;\n",
              "    }\n",
              "\n",
              "    .dataframe thead th {\n",
              "        text-align: right;\n",
              "    }\n",
              "</style>\n",
              "<table border=\"1\" class=\"dataframe\">\n",
              "  <thead>\n",
              "    <tr style=\"text-align: right;\">\n",
              "      <th></th>\n",
              "      <th>Date</th>\n",
              "      <th>Rented Bike Count</th>\n",
              "      <th>Hour</th>\n",
              "      <th>Temperature(°C)</th>\n",
              "      <th>Humidity(%)</th>\n",
              "      <th>Wind speed (m/s)</th>\n",
              "      <th>Visibility (10m)</th>\n",
              "      <th>Dew point temperature(°C)</th>\n",
              "      <th>Solar Radiation (MJ/m2)</th>\n",
              "      <th>Rainfall(mm)</th>\n",
              "      <th>Snowfall (cm)</th>\n",
              "      <th>Seasons</th>\n",
              "      <th>Holiday</th>\n",
              "      <th>Functioning Day</th>\n",
              "    </tr>\n",
              "  </thead>\n",
              "  <tbody>\n",
              "    <tr>\n",
              "      <th>0</th>\n",
              "      <td>01/12/2017</td>\n",
              "      <td>254</td>\n",
              "      <td>0</td>\n",
              "      <td>-5.2</td>\n",
              "      <td>37</td>\n",
              "      <td>2.2</td>\n",
              "      <td>2000</td>\n",
              "      <td>-17.6</td>\n",
              "      <td>0.0</td>\n",
              "      <td>0.0</td>\n",
              "      <td>0.0</td>\n",
              "      <td>Winter</td>\n",
              "      <td>No Holiday</td>\n",
              "      <td>Yes</td>\n",
              "    </tr>\n",
              "    <tr>\n",
              "      <th>1</th>\n",
              "      <td>01/12/2017</td>\n",
              "      <td>204</td>\n",
              "      <td>1</td>\n",
              "      <td>-5.5</td>\n",
              "      <td>38</td>\n",
              "      <td>0.8</td>\n",
              "      <td>2000</td>\n",
              "      <td>-17.6</td>\n",
              "      <td>0.0</td>\n",
              "      <td>0.0</td>\n",
              "      <td>0.0</td>\n",
              "      <td>Winter</td>\n",
              "      <td>No Holiday</td>\n",
              "      <td>Yes</td>\n",
              "    </tr>\n",
              "    <tr>\n",
              "      <th>2</th>\n",
              "      <td>01/12/2017</td>\n",
              "      <td>173</td>\n",
              "      <td>2</td>\n",
              "      <td>-6.0</td>\n",
              "      <td>39</td>\n",
              "      <td>1.0</td>\n",
              "      <td>2000</td>\n",
              "      <td>-17.7</td>\n",
              "      <td>0.0</td>\n",
              "      <td>0.0</td>\n",
              "      <td>0.0</td>\n",
              "      <td>Winter</td>\n",
              "      <td>No Holiday</td>\n",
              "      <td>Yes</td>\n",
              "    </tr>\n",
              "    <tr>\n",
              "      <th>3</th>\n",
              "      <td>01/12/2017</td>\n",
              "      <td>107</td>\n",
              "      <td>3</td>\n",
              "      <td>-6.2</td>\n",
              "      <td>40</td>\n",
              "      <td>0.9</td>\n",
              "      <td>2000</td>\n",
              "      <td>-17.6</td>\n",
              "      <td>0.0</td>\n",
              "      <td>0.0</td>\n",
              "      <td>0.0</td>\n",
              "      <td>Winter</td>\n",
              "      <td>No Holiday</td>\n",
              "      <td>Yes</td>\n",
              "    </tr>\n",
              "    <tr>\n",
              "      <th>4</th>\n",
              "      <td>01/12/2017</td>\n",
              "      <td>78</td>\n",
              "      <td>4</td>\n",
              "      <td>-6.0</td>\n",
              "      <td>36</td>\n",
              "      <td>2.3</td>\n",
              "      <td>2000</td>\n",
              "      <td>-18.6</td>\n",
              "      <td>0.0</td>\n",
              "      <td>0.0</td>\n",
              "      <td>0.0</td>\n",
              "      <td>Winter</td>\n",
              "      <td>No Holiday</td>\n",
              "      <td>Yes</td>\n",
              "    </tr>\n",
              "  </tbody>\n",
              "</table>\n",
              "</div>\n",
              "      <button class=\"colab-df-convert\" onclick=\"convertToInteractive('df-b23c17da-23e2-4280-a7f1-9cf1b0acc4dc')\"\n",
              "              title=\"Convert this dataframe to an interactive table.\"\n",
              "              style=\"display:none;\">\n",
              "        \n",
              "  <svg xmlns=\"http://www.w3.org/2000/svg\" height=\"24px\"viewBox=\"0 0 24 24\"\n",
              "       width=\"24px\">\n",
              "    <path d=\"M0 0h24v24H0V0z\" fill=\"none\"/>\n",
              "    <path d=\"M18.56 5.44l.94 2.06.94-2.06 2.06-.94-2.06-.94-.94-2.06-.94 2.06-2.06.94zm-11 1L8.5 8.5l.94-2.06 2.06-.94-2.06-.94L8.5 2.5l-.94 2.06-2.06.94zm10 10l.94 2.06.94-2.06 2.06-.94-2.06-.94-.94-2.06-.94 2.06-2.06.94z\"/><path d=\"M17.41 7.96l-1.37-1.37c-.4-.4-.92-.59-1.43-.59-.52 0-1.04.2-1.43.59L10.3 9.45l-7.72 7.72c-.78.78-.78 2.05 0 2.83L4 21.41c.39.39.9.59 1.41.59.51 0 1.02-.2 1.41-.59l7.78-7.78 2.81-2.81c.8-.78.8-2.07 0-2.86zM5.41 20L4 18.59l7.72-7.72 1.47 1.35L5.41 20z\"/>\n",
              "  </svg>\n",
              "      </button>\n",
              "      \n",
              "  <style>\n",
              "    .colab-df-container {\n",
              "      display:flex;\n",
              "      flex-wrap:wrap;\n",
              "      gap: 12px;\n",
              "    }\n",
              "\n",
              "    .colab-df-convert {\n",
              "      background-color: #E8F0FE;\n",
              "      border: none;\n",
              "      border-radius: 50%;\n",
              "      cursor: pointer;\n",
              "      display: none;\n",
              "      fill: #1967D2;\n",
              "      height: 32px;\n",
              "      padding: 0 0 0 0;\n",
              "      width: 32px;\n",
              "    }\n",
              "\n",
              "    .colab-df-convert:hover {\n",
              "      background-color: #E2EBFA;\n",
              "      box-shadow: 0px 1px 2px rgba(60, 64, 67, 0.3), 0px 1px 3px 1px rgba(60, 64, 67, 0.15);\n",
              "      fill: #174EA6;\n",
              "    }\n",
              "\n",
              "    [theme=dark] .colab-df-convert {\n",
              "      background-color: #3B4455;\n",
              "      fill: #D2E3FC;\n",
              "    }\n",
              "\n",
              "    [theme=dark] .colab-df-convert:hover {\n",
              "      background-color: #434B5C;\n",
              "      box-shadow: 0px 1px 3px 1px rgba(0, 0, 0, 0.15);\n",
              "      filter: drop-shadow(0px 1px 2px rgba(0, 0, 0, 0.3));\n",
              "      fill: #FFFFFF;\n",
              "    }\n",
              "  </style>\n",
              "\n",
              "      <script>\n",
              "        const buttonEl =\n",
              "          document.querySelector('#df-b23c17da-23e2-4280-a7f1-9cf1b0acc4dc button.colab-df-convert');\n",
              "        buttonEl.style.display =\n",
              "          google.colab.kernel.accessAllowed ? 'block' : 'none';\n",
              "\n",
              "        async function convertToInteractive(key) {\n",
              "          const element = document.querySelector('#df-b23c17da-23e2-4280-a7f1-9cf1b0acc4dc');\n",
              "          const dataTable =\n",
              "            await google.colab.kernel.invokeFunction('convertToInteractive',\n",
              "                                                     [key], {});\n",
              "          if (!dataTable) return;\n",
              "\n",
              "          const docLinkHtml = 'Like what you see? Visit the ' +\n",
              "            '<a target=\"_blank\" href=https://colab.research.google.com/notebooks/data_table.ipynb>data table notebook</a>'\n",
              "            + ' to learn more about interactive tables.';\n",
              "          element.innerHTML = '';\n",
              "          dataTable['output_type'] = 'display_data';\n",
              "          await google.colab.output.renderOutput(dataTable, element);\n",
              "          const docLink = document.createElement('div');\n",
              "          docLink.innerHTML = docLinkHtml;\n",
              "          element.appendChild(docLink);\n",
              "        }\n",
              "      </script>\n",
              "    </div>\n",
              "  </div>\n",
              "  "
            ]
          },
          "metadata": {},
          "execution_count": 62
        }
      ]
    },
    {
      "cell_type": "code",
      "source": [
        "# Printing the last 5 rows\n",
        "\n",
        "df.tail()"
      ],
      "metadata": {
        "colab": {
          "base_uri": "https://localhost:8080/",
          "height": 372
        },
        "id": "0M5Gmwp8j1fG",
        "outputId": "6e8dd995-d07d-4e45-b181-513347c12693"
      },
      "execution_count": 63,
      "outputs": [
        {
          "output_type": "execute_result",
          "data": {
            "text/plain": [
              "            Date  Rented Bike Count  Hour  Temperature(°C)  Humidity(%)  \\\n",
              "8755  30/11/2018               1003    19              4.2           34   \n",
              "8756  30/11/2018                764    20              3.4           37   \n",
              "8757  30/11/2018                694    21              2.6           39   \n",
              "8758  30/11/2018                712    22              2.1           41   \n",
              "8759  30/11/2018                584    23              1.9           43   \n",
              "\n",
              "      Wind speed (m/s)  Visibility (10m)  Dew point temperature(°C)  \\\n",
              "8755               2.6              1894                      -10.3   \n",
              "8756               2.3              2000                       -9.9   \n",
              "8757               0.3              1968                       -9.9   \n",
              "8758               1.0              1859                       -9.8   \n",
              "8759               1.3              1909                       -9.3   \n",
              "\n",
              "      Solar Radiation (MJ/m2)  Rainfall(mm)  Snowfall (cm) Seasons  \\\n",
              "8755                      0.0           0.0            0.0  Autumn   \n",
              "8756                      0.0           0.0            0.0  Autumn   \n",
              "8757                      0.0           0.0            0.0  Autumn   \n",
              "8758                      0.0           0.0            0.0  Autumn   \n",
              "8759                      0.0           0.0            0.0  Autumn   \n",
              "\n",
              "         Holiday Functioning Day  \n",
              "8755  No Holiday             Yes  \n",
              "8756  No Holiday             Yes  \n",
              "8757  No Holiday             Yes  \n",
              "8758  No Holiday             Yes  \n",
              "8759  No Holiday             Yes  "
            ],
            "text/html": [
              "\n",
              "  <div id=\"df-e7519253-57ba-4833-83d7-698d4473389c\">\n",
              "    <div class=\"colab-df-container\">\n",
              "      <div>\n",
              "<style scoped>\n",
              "    .dataframe tbody tr th:only-of-type {\n",
              "        vertical-align: middle;\n",
              "    }\n",
              "\n",
              "    .dataframe tbody tr th {\n",
              "        vertical-align: top;\n",
              "    }\n",
              "\n",
              "    .dataframe thead th {\n",
              "        text-align: right;\n",
              "    }\n",
              "</style>\n",
              "<table border=\"1\" class=\"dataframe\">\n",
              "  <thead>\n",
              "    <tr style=\"text-align: right;\">\n",
              "      <th></th>\n",
              "      <th>Date</th>\n",
              "      <th>Rented Bike Count</th>\n",
              "      <th>Hour</th>\n",
              "      <th>Temperature(°C)</th>\n",
              "      <th>Humidity(%)</th>\n",
              "      <th>Wind speed (m/s)</th>\n",
              "      <th>Visibility (10m)</th>\n",
              "      <th>Dew point temperature(°C)</th>\n",
              "      <th>Solar Radiation (MJ/m2)</th>\n",
              "      <th>Rainfall(mm)</th>\n",
              "      <th>Snowfall (cm)</th>\n",
              "      <th>Seasons</th>\n",
              "      <th>Holiday</th>\n",
              "      <th>Functioning Day</th>\n",
              "    </tr>\n",
              "  </thead>\n",
              "  <tbody>\n",
              "    <tr>\n",
              "      <th>8755</th>\n",
              "      <td>30/11/2018</td>\n",
              "      <td>1003</td>\n",
              "      <td>19</td>\n",
              "      <td>4.2</td>\n",
              "      <td>34</td>\n",
              "      <td>2.6</td>\n",
              "      <td>1894</td>\n",
              "      <td>-10.3</td>\n",
              "      <td>0.0</td>\n",
              "      <td>0.0</td>\n",
              "      <td>0.0</td>\n",
              "      <td>Autumn</td>\n",
              "      <td>No Holiday</td>\n",
              "      <td>Yes</td>\n",
              "    </tr>\n",
              "    <tr>\n",
              "      <th>8756</th>\n",
              "      <td>30/11/2018</td>\n",
              "      <td>764</td>\n",
              "      <td>20</td>\n",
              "      <td>3.4</td>\n",
              "      <td>37</td>\n",
              "      <td>2.3</td>\n",
              "      <td>2000</td>\n",
              "      <td>-9.9</td>\n",
              "      <td>0.0</td>\n",
              "      <td>0.0</td>\n",
              "      <td>0.0</td>\n",
              "      <td>Autumn</td>\n",
              "      <td>No Holiday</td>\n",
              "      <td>Yes</td>\n",
              "    </tr>\n",
              "    <tr>\n",
              "      <th>8757</th>\n",
              "      <td>30/11/2018</td>\n",
              "      <td>694</td>\n",
              "      <td>21</td>\n",
              "      <td>2.6</td>\n",
              "      <td>39</td>\n",
              "      <td>0.3</td>\n",
              "      <td>1968</td>\n",
              "      <td>-9.9</td>\n",
              "      <td>0.0</td>\n",
              "      <td>0.0</td>\n",
              "      <td>0.0</td>\n",
              "      <td>Autumn</td>\n",
              "      <td>No Holiday</td>\n",
              "      <td>Yes</td>\n",
              "    </tr>\n",
              "    <tr>\n",
              "      <th>8758</th>\n",
              "      <td>30/11/2018</td>\n",
              "      <td>712</td>\n",
              "      <td>22</td>\n",
              "      <td>2.1</td>\n",
              "      <td>41</td>\n",
              "      <td>1.0</td>\n",
              "      <td>1859</td>\n",
              "      <td>-9.8</td>\n",
              "      <td>0.0</td>\n",
              "      <td>0.0</td>\n",
              "      <td>0.0</td>\n",
              "      <td>Autumn</td>\n",
              "      <td>No Holiday</td>\n",
              "      <td>Yes</td>\n",
              "    </tr>\n",
              "    <tr>\n",
              "      <th>8759</th>\n",
              "      <td>30/11/2018</td>\n",
              "      <td>584</td>\n",
              "      <td>23</td>\n",
              "      <td>1.9</td>\n",
              "      <td>43</td>\n",
              "      <td>1.3</td>\n",
              "      <td>1909</td>\n",
              "      <td>-9.3</td>\n",
              "      <td>0.0</td>\n",
              "      <td>0.0</td>\n",
              "      <td>0.0</td>\n",
              "      <td>Autumn</td>\n",
              "      <td>No Holiday</td>\n",
              "      <td>Yes</td>\n",
              "    </tr>\n",
              "  </tbody>\n",
              "</table>\n",
              "</div>\n",
              "      <button class=\"colab-df-convert\" onclick=\"convertToInteractive('df-e7519253-57ba-4833-83d7-698d4473389c')\"\n",
              "              title=\"Convert this dataframe to an interactive table.\"\n",
              "              style=\"display:none;\">\n",
              "        \n",
              "  <svg xmlns=\"http://www.w3.org/2000/svg\" height=\"24px\"viewBox=\"0 0 24 24\"\n",
              "       width=\"24px\">\n",
              "    <path d=\"M0 0h24v24H0V0z\" fill=\"none\"/>\n",
              "    <path d=\"M18.56 5.44l.94 2.06.94-2.06 2.06-.94-2.06-.94-.94-2.06-.94 2.06-2.06.94zm-11 1L8.5 8.5l.94-2.06 2.06-.94-2.06-.94L8.5 2.5l-.94 2.06-2.06.94zm10 10l.94 2.06.94-2.06 2.06-.94-2.06-.94-.94-2.06-.94 2.06-2.06.94z\"/><path d=\"M17.41 7.96l-1.37-1.37c-.4-.4-.92-.59-1.43-.59-.52 0-1.04.2-1.43.59L10.3 9.45l-7.72 7.72c-.78.78-.78 2.05 0 2.83L4 21.41c.39.39.9.59 1.41.59.51 0 1.02-.2 1.41-.59l7.78-7.78 2.81-2.81c.8-.78.8-2.07 0-2.86zM5.41 20L4 18.59l7.72-7.72 1.47 1.35L5.41 20z\"/>\n",
              "  </svg>\n",
              "      </button>\n",
              "      \n",
              "  <style>\n",
              "    .colab-df-container {\n",
              "      display:flex;\n",
              "      flex-wrap:wrap;\n",
              "      gap: 12px;\n",
              "    }\n",
              "\n",
              "    .colab-df-convert {\n",
              "      background-color: #E8F0FE;\n",
              "      border: none;\n",
              "      border-radius: 50%;\n",
              "      cursor: pointer;\n",
              "      display: none;\n",
              "      fill: #1967D2;\n",
              "      height: 32px;\n",
              "      padding: 0 0 0 0;\n",
              "      width: 32px;\n",
              "    }\n",
              "\n",
              "    .colab-df-convert:hover {\n",
              "      background-color: #E2EBFA;\n",
              "      box-shadow: 0px 1px 2px rgba(60, 64, 67, 0.3), 0px 1px 3px 1px rgba(60, 64, 67, 0.15);\n",
              "      fill: #174EA6;\n",
              "    }\n",
              "\n",
              "    [theme=dark] .colab-df-convert {\n",
              "      background-color: #3B4455;\n",
              "      fill: #D2E3FC;\n",
              "    }\n",
              "\n",
              "    [theme=dark] .colab-df-convert:hover {\n",
              "      background-color: #434B5C;\n",
              "      box-shadow: 0px 1px 3px 1px rgba(0, 0, 0, 0.15);\n",
              "      filter: drop-shadow(0px 1px 2px rgba(0, 0, 0, 0.3));\n",
              "      fill: #FFFFFF;\n",
              "    }\n",
              "  </style>\n",
              "\n",
              "      <script>\n",
              "        const buttonEl =\n",
              "          document.querySelector('#df-e7519253-57ba-4833-83d7-698d4473389c button.colab-df-convert');\n",
              "        buttonEl.style.display =\n",
              "          google.colab.kernel.accessAllowed ? 'block' : 'none';\n",
              "\n",
              "        async function convertToInteractive(key) {\n",
              "          const element = document.querySelector('#df-e7519253-57ba-4833-83d7-698d4473389c');\n",
              "          const dataTable =\n",
              "            await google.colab.kernel.invokeFunction('convertToInteractive',\n",
              "                                                     [key], {});\n",
              "          if (!dataTable) return;\n",
              "\n",
              "          const docLinkHtml = 'Like what you see? Visit the ' +\n",
              "            '<a target=\"_blank\" href=https://colab.research.google.com/notebooks/data_table.ipynb>data table notebook</a>'\n",
              "            + ' to learn more about interactive tables.';\n",
              "          element.innerHTML = '';\n",
              "          dataTable['output_type'] = 'display_data';\n",
              "          await google.colab.output.renderOutput(dataTable, element);\n",
              "          const docLink = document.createElement('div');\n",
              "          docLink.innerHTML = docLinkHtml;\n",
              "          element.appendChild(docLink);\n",
              "        }\n",
              "      </script>\n",
              "    </div>\n",
              "  </div>\n",
              "  "
            ]
          },
          "metadata": {},
          "execution_count": 63
        }
      ]
    },
    {
      "cell_type": "code",
      "source": [
        "# Checking the shape of the dataset\n",
        "\n",
        "print('Shape of the dataset:',end='')\n",
        "df.shape"
      ],
      "metadata": {
        "colab": {
          "base_uri": "https://localhost:8080/"
        },
        "id": "tBqzpiXVkC-L",
        "outputId": "f23b988e-c8f0-418c-a0ad-5599e894b3c6"
      },
      "execution_count": 64,
      "outputs": [
        {
          "output_type": "stream",
          "name": "stdout",
          "text": [
            "Shape of the dataset:"
          ]
        },
        {
          "output_type": "execute_result",
          "data": {
            "text/plain": [
              "(8760, 14)"
            ]
          },
          "metadata": {},
          "execution_count": 64
        }
      ]
    },
    {
      "cell_type": "code",
      "source": [
        "# Checking the names of all the columns of the dataset\n",
        "\n",
        "df.columns"
      ],
      "metadata": {
        "colab": {
          "base_uri": "https://localhost:8080/"
        },
        "id": "eCDe2ZsWkFgT",
        "outputId": "0a22e503-813f-491a-b7b3-7b09f2a26c9e"
      },
      "execution_count": 65,
      "outputs": [
        {
          "output_type": "execute_result",
          "data": {
            "text/plain": [
              "Index(['Date', 'Rented Bike Count', 'Hour', 'Temperature(°C)', 'Humidity(%)',\n",
              "       'Wind speed (m/s)', 'Visibility (10m)', 'Dew point temperature(°C)',\n",
              "       'Solar Radiation (MJ/m2)', 'Rainfall(mm)', 'Snowfall (cm)', 'Seasons',\n",
              "       'Holiday', 'Functioning Day'],\n",
              "      dtype='object')"
            ]
          },
          "metadata": {},
          "execution_count": 65
        }
      ]
    },
    {
      "cell_type": "code",
      "source": [
        "# Checking the basic information of the dataset\n",
        "\n",
        "df.info()"
      ],
      "metadata": {
        "colab": {
          "base_uri": "https://localhost:8080/"
        },
        "id": "wB7BzbsU9qlF",
        "outputId": "bd87877c-40be-4953-ac8a-cc4b0d3feeeb"
      },
      "execution_count": 66,
      "outputs": [
        {
          "output_type": "stream",
          "name": "stdout",
          "text": [
            "<class 'pandas.core.frame.DataFrame'>\n",
            "RangeIndex: 8760 entries, 0 to 8759\n",
            "Data columns (total 14 columns):\n",
            " #   Column                     Non-Null Count  Dtype  \n",
            "---  ------                     --------------  -----  \n",
            " 0   Date                       8760 non-null   object \n",
            " 1   Rented Bike Count          8760 non-null   int64  \n",
            " 2   Hour                       8760 non-null   int64  \n",
            " 3   Temperature(°C)            8760 non-null   float64\n",
            " 4   Humidity(%)                8760 non-null   int64  \n",
            " 5   Wind speed (m/s)           8760 non-null   float64\n",
            " 6   Visibility (10m)           8760 non-null   int64  \n",
            " 7   Dew point temperature(°C)  8760 non-null   float64\n",
            " 8   Solar Radiation (MJ/m2)    8760 non-null   float64\n",
            " 9   Rainfall(mm)               8760 non-null   float64\n",
            " 10  Snowfall (cm)              8760 non-null   float64\n",
            " 11  Seasons                    8760 non-null   object \n",
            " 12  Holiday                    8760 non-null   object \n",
            " 13  Functioning Day            8760 non-null   object \n",
            "dtypes: float64(6), int64(4), object(4)\n",
            "memory usage: 958.2+ KB\n"
          ]
        }
      ]
    },
    {
      "cell_type": "code",
      "source": [
        "# Checking null values in the dataset\n",
        "\n",
        "df.isnull().sum()"
      ],
      "metadata": {
        "colab": {
          "base_uri": "https://localhost:8080/"
        },
        "id": "8lNINOkFBChr",
        "outputId": "0bbee66d-f76b-4df1-ac9d-028181997b64"
      },
      "execution_count": 67,
      "outputs": [
        {
          "output_type": "execute_result",
          "data": {
            "text/plain": [
              "Date                         0\n",
              "Rented Bike Count            0\n",
              "Hour                         0\n",
              "Temperature(°C)              0\n",
              "Humidity(%)                  0\n",
              "Wind speed (m/s)             0\n",
              "Visibility (10m)             0\n",
              "Dew point temperature(°C)    0\n",
              "Solar Radiation (MJ/m2)      0\n",
              "Rainfall(mm)                 0\n",
              "Snowfall (cm)                0\n",
              "Seasons                      0\n",
              "Holiday                      0\n",
              "Functioning Day              0\n",
              "dtype: int64"
            ]
          },
          "metadata": {},
          "execution_count": 67
        }
      ]
    },
    {
      "cell_type": "markdown",
      "source": [
        "No null values in the dataset"
      ],
      "metadata": {
        "id": "X0A1ejrsBFlV"
      }
    },
    {
      "cell_type": "code",
      "source": [
        "# Statistical description of the dataset\n",
        "\n",
        "df.describe(include='all')"
      ],
      "metadata": {
        "colab": {
          "base_uri": "https://localhost:8080/",
          "height": 510
        },
        "id": "zHVVbSlPkNC0",
        "outputId": "2274ed4d-6a64-4fad-d560-e40b02146d17"
      },
      "execution_count": 68,
      "outputs": [
        {
          "output_type": "execute_result",
          "data": {
            "text/plain": [
              "              Date  Rented Bike Count         Hour  Temperature(°C)  \\\n",
              "count         8760        8760.000000  8760.000000      8760.000000   \n",
              "unique         365                NaN          NaN              NaN   \n",
              "top     01/12/2017                NaN          NaN              NaN   \n",
              "freq            24                NaN          NaN              NaN   \n",
              "mean           NaN         704.602055    11.500000        12.882922   \n",
              "std            NaN         644.997468     6.922582        11.944825   \n",
              "min            NaN           0.000000     0.000000       -17.800000   \n",
              "25%            NaN         191.000000     5.750000         3.500000   \n",
              "50%            NaN         504.500000    11.500000        13.700000   \n",
              "75%            NaN        1065.250000    17.250000        22.500000   \n",
              "max            NaN        3556.000000    23.000000        39.400000   \n",
              "\n",
              "        Humidity(%)  Wind speed (m/s)  Visibility (10m)  \\\n",
              "count   8760.000000       8760.000000       8760.000000   \n",
              "unique          NaN               NaN               NaN   \n",
              "top             NaN               NaN               NaN   \n",
              "freq            NaN               NaN               NaN   \n",
              "mean      58.226256          1.724909       1436.825799   \n",
              "std       20.362413          1.036300        608.298712   \n",
              "min        0.000000          0.000000         27.000000   \n",
              "25%       42.000000          0.900000        940.000000   \n",
              "50%       57.000000          1.500000       1698.000000   \n",
              "75%       74.000000          2.300000       2000.000000   \n",
              "max       98.000000          7.400000       2000.000000   \n",
              "\n",
              "        Dew point temperature(°C)  Solar Radiation (MJ/m2)  Rainfall(mm)  \\\n",
              "count                 8760.000000              8760.000000   8760.000000   \n",
              "unique                        NaN                      NaN           NaN   \n",
              "top                           NaN                      NaN           NaN   \n",
              "freq                          NaN                      NaN           NaN   \n",
              "mean                     4.073813                 0.569111      0.148687   \n",
              "std                     13.060369                 0.868746      1.128193   \n",
              "min                    -30.600000                 0.000000      0.000000   \n",
              "25%                     -4.700000                 0.000000      0.000000   \n",
              "50%                      5.100000                 0.010000      0.000000   \n",
              "75%                     14.800000                 0.930000      0.000000   \n",
              "max                     27.200000                 3.520000     35.000000   \n",
              "\n",
              "        Snowfall (cm) Seasons     Holiday Functioning Day  \n",
              "count     8760.000000    8760        8760            8760  \n",
              "unique            NaN       4           2               2  \n",
              "top               NaN  Spring  No Holiday             Yes  \n",
              "freq              NaN    2208        8328            8465  \n",
              "mean         0.075068     NaN         NaN             NaN  \n",
              "std          0.436746     NaN         NaN             NaN  \n",
              "min          0.000000     NaN         NaN             NaN  \n",
              "25%          0.000000     NaN         NaN             NaN  \n",
              "50%          0.000000     NaN         NaN             NaN  \n",
              "75%          0.000000     NaN         NaN             NaN  \n",
              "max          8.800000     NaN         NaN             NaN  "
            ],
            "text/html": [
              "\n",
              "  <div id=\"df-3aa3afed-21af-4be0-823a-913808bbd765\">\n",
              "    <div class=\"colab-df-container\">\n",
              "      <div>\n",
              "<style scoped>\n",
              "    .dataframe tbody tr th:only-of-type {\n",
              "        vertical-align: middle;\n",
              "    }\n",
              "\n",
              "    .dataframe tbody tr th {\n",
              "        vertical-align: top;\n",
              "    }\n",
              "\n",
              "    .dataframe thead th {\n",
              "        text-align: right;\n",
              "    }\n",
              "</style>\n",
              "<table border=\"1\" class=\"dataframe\">\n",
              "  <thead>\n",
              "    <tr style=\"text-align: right;\">\n",
              "      <th></th>\n",
              "      <th>Date</th>\n",
              "      <th>Rented Bike Count</th>\n",
              "      <th>Hour</th>\n",
              "      <th>Temperature(°C)</th>\n",
              "      <th>Humidity(%)</th>\n",
              "      <th>Wind speed (m/s)</th>\n",
              "      <th>Visibility (10m)</th>\n",
              "      <th>Dew point temperature(°C)</th>\n",
              "      <th>Solar Radiation (MJ/m2)</th>\n",
              "      <th>Rainfall(mm)</th>\n",
              "      <th>Snowfall (cm)</th>\n",
              "      <th>Seasons</th>\n",
              "      <th>Holiday</th>\n",
              "      <th>Functioning Day</th>\n",
              "    </tr>\n",
              "  </thead>\n",
              "  <tbody>\n",
              "    <tr>\n",
              "      <th>count</th>\n",
              "      <td>8760</td>\n",
              "      <td>8760.000000</td>\n",
              "      <td>8760.000000</td>\n",
              "      <td>8760.000000</td>\n",
              "      <td>8760.000000</td>\n",
              "      <td>8760.000000</td>\n",
              "      <td>8760.000000</td>\n",
              "      <td>8760.000000</td>\n",
              "      <td>8760.000000</td>\n",
              "      <td>8760.000000</td>\n",
              "      <td>8760.000000</td>\n",
              "      <td>8760</td>\n",
              "      <td>8760</td>\n",
              "      <td>8760</td>\n",
              "    </tr>\n",
              "    <tr>\n",
              "      <th>unique</th>\n",
              "      <td>365</td>\n",
              "      <td>NaN</td>\n",
              "      <td>NaN</td>\n",
              "      <td>NaN</td>\n",
              "      <td>NaN</td>\n",
              "      <td>NaN</td>\n",
              "      <td>NaN</td>\n",
              "      <td>NaN</td>\n",
              "      <td>NaN</td>\n",
              "      <td>NaN</td>\n",
              "      <td>NaN</td>\n",
              "      <td>4</td>\n",
              "      <td>2</td>\n",
              "      <td>2</td>\n",
              "    </tr>\n",
              "    <tr>\n",
              "      <th>top</th>\n",
              "      <td>01/12/2017</td>\n",
              "      <td>NaN</td>\n",
              "      <td>NaN</td>\n",
              "      <td>NaN</td>\n",
              "      <td>NaN</td>\n",
              "      <td>NaN</td>\n",
              "      <td>NaN</td>\n",
              "      <td>NaN</td>\n",
              "      <td>NaN</td>\n",
              "      <td>NaN</td>\n",
              "      <td>NaN</td>\n",
              "      <td>Spring</td>\n",
              "      <td>No Holiday</td>\n",
              "      <td>Yes</td>\n",
              "    </tr>\n",
              "    <tr>\n",
              "      <th>freq</th>\n",
              "      <td>24</td>\n",
              "      <td>NaN</td>\n",
              "      <td>NaN</td>\n",
              "      <td>NaN</td>\n",
              "      <td>NaN</td>\n",
              "      <td>NaN</td>\n",
              "      <td>NaN</td>\n",
              "      <td>NaN</td>\n",
              "      <td>NaN</td>\n",
              "      <td>NaN</td>\n",
              "      <td>NaN</td>\n",
              "      <td>2208</td>\n",
              "      <td>8328</td>\n",
              "      <td>8465</td>\n",
              "    </tr>\n",
              "    <tr>\n",
              "      <th>mean</th>\n",
              "      <td>NaN</td>\n",
              "      <td>704.602055</td>\n",
              "      <td>11.500000</td>\n",
              "      <td>12.882922</td>\n",
              "      <td>58.226256</td>\n",
              "      <td>1.724909</td>\n",
              "      <td>1436.825799</td>\n",
              "      <td>4.073813</td>\n",
              "      <td>0.569111</td>\n",
              "      <td>0.148687</td>\n",
              "      <td>0.075068</td>\n",
              "      <td>NaN</td>\n",
              "      <td>NaN</td>\n",
              "      <td>NaN</td>\n",
              "    </tr>\n",
              "    <tr>\n",
              "      <th>std</th>\n",
              "      <td>NaN</td>\n",
              "      <td>644.997468</td>\n",
              "      <td>6.922582</td>\n",
              "      <td>11.944825</td>\n",
              "      <td>20.362413</td>\n",
              "      <td>1.036300</td>\n",
              "      <td>608.298712</td>\n",
              "      <td>13.060369</td>\n",
              "      <td>0.868746</td>\n",
              "      <td>1.128193</td>\n",
              "      <td>0.436746</td>\n",
              "      <td>NaN</td>\n",
              "      <td>NaN</td>\n",
              "      <td>NaN</td>\n",
              "    </tr>\n",
              "    <tr>\n",
              "      <th>min</th>\n",
              "      <td>NaN</td>\n",
              "      <td>0.000000</td>\n",
              "      <td>0.000000</td>\n",
              "      <td>-17.800000</td>\n",
              "      <td>0.000000</td>\n",
              "      <td>0.000000</td>\n",
              "      <td>27.000000</td>\n",
              "      <td>-30.600000</td>\n",
              "      <td>0.000000</td>\n",
              "      <td>0.000000</td>\n",
              "      <td>0.000000</td>\n",
              "      <td>NaN</td>\n",
              "      <td>NaN</td>\n",
              "      <td>NaN</td>\n",
              "    </tr>\n",
              "    <tr>\n",
              "      <th>25%</th>\n",
              "      <td>NaN</td>\n",
              "      <td>191.000000</td>\n",
              "      <td>5.750000</td>\n",
              "      <td>3.500000</td>\n",
              "      <td>42.000000</td>\n",
              "      <td>0.900000</td>\n",
              "      <td>940.000000</td>\n",
              "      <td>-4.700000</td>\n",
              "      <td>0.000000</td>\n",
              "      <td>0.000000</td>\n",
              "      <td>0.000000</td>\n",
              "      <td>NaN</td>\n",
              "      <td>NaN</td>\n",
              "      <td>NaN</td>\n",
              "    </tr>\n",
              "    <tr>\n",
              "      <th>50%</th>\n",
              "      <td>NaN</td>\n",
              "      <td>504.500000</td>\n",
              "      <td>11.500000</td>\n",
              "      <td>13.700000</td>\n",
              "      <td>57.000000</td>\n",
              "      <td>1.500000</td>\n",
              "      <td>1698.000000</td>\n",
              "      <td>5.100000</td>\n",
              "      <td>0.010000</td>\n",
              "      <td>0.000000</td>\n",
              "      <td>0.000000</td>\n",
              "      <td>NaN</td>\n",
              "      <td>NaN</td>\n",
              "      <td>NaN</td>\n",
              "    </tr>\n",
              "    <tr>\n",
              "      <th>75%</th>\n",
              "      <td>NaN</td>\n",
              "      <td>1065.250000</td>\n",
              "      <td>17.250000</td>\n",
              "      <td>22.500000</td>\n",
              "      <td>74.000000</td>\n",
              "      <td>2.300000</td>\n",
              "      <td>2000.000000</td>\n",
              "      <td>14.800000</td>\n",
              "      <td>0.930000</td>\n",
              "      <td>0.000000</td>\n",
              "      <td>0.000000</td>\n",
              "      <td>NaN</td>\n",
              "      <td>NaN</td>\n",
              "      <td>NaN</td>\n",
              "    </tr>\n",
              "    <tr>\n",
              "      <th>max</th>\n",
              "      <td>NaN</td>\n",
              "      <td>3556.000000</td>\n",
              "      <td>23.000000</td>\n",
              "      <td>39.400000</td>\n",
              "      <td>98.000000</td>\n",
              "      <td>7.400000</td>\n",
              "      <td>2000.000000</td>\n",
              "      <td>27.200000</td>\n",
              "      <td>3.520000</td>\n",
              "      <td>35.000000</td>\n",
              "      <td>8.800000</td>\n",
              "      <td>NaN</td>\n",
              "      <td>NaN</td>\n",
              "      <td>NaN</td>\n",
              "    </tr>\n",
              "  </tbody>\n",
              "</table>\n",
              "</div>\n",
              "      <button class=\"colab-df-convert\" onclick=\"convertToInteractive('df-3aa3afed-21af-4be0-823a-913808bbd765')\"\n",
              "              title=\"Convert this dataframe to an interactive table.\"\n",
              "              style=\"display:none;\">\n",
              "        \n",
              "  <svg xmlns=\"http://www.w3.org/2000/svg\" height=\"24px\"viewBox=\"0 0 24 24\"\n",
              "       width=\"24px\">\n",
              "    <path d=\"M0 0h24v24H0V0z\" fill=\"none\"/>\n",
              "    <path d=\"M18.56 5.44l.94 2.06.94-2.06 2.06-.94-2.06-.94-.94-2.06-.94 2.06-2.06.94zm-11 1L8.5 8.5l.94-2.06 2.06-.94-2.06-.94L8.5 2.5l-.94 2.06-2.06.94zm10 10l.94 2.06.94-2.06 2.06-.94-2.06-.94-.94-2.06-.94 2.06-2.06.94z\"/><path d=\"M17.41 7.96l-1.37-1.37c-.4-.4-.92-.59-1.43-.59-.52 0-1.04.2-1.43.59L10.3 9.45l-7.72 7.72c-.78.78-.78 2.05 0 2.83L4 21.41c.39.39.9.59 1.41.59.51 0 1.02-.2 1.41-.59l7.78-7.78 2.81-2.81c.8-.78.8-2.07 0-2.86zM5.41 20L4 18.59l7.72-7.72 1.47 1.35L5.41 20z\"/>\n",
              "  </svg>\n",
              "      </button>\n",
              "      \n",
              "  <style>\n",
              "    .colab-df-container {\n",
              "      display:flex;\n",
              "      flex-wrap:wrap;\n",
              "      gap: 12px;\n",
              "    }\n",
              "\n",
              "    .colab-df-convert {\n",
              "      background-color: #E8F0FE;\n",
              "      border: none;\n",
              "      border-radius: 50%;\n",
              "      cursor: pointer;\n",
              "      display: none;\n",
              "      fill: #1967D2;\n",
              "      height: 32px;\n",
              "      padding: 0 0 0 0;\n",
              "      width: 32px;\n",
              "    }\n",
              "\n",
              "    .colab-df-convert:hover {\n",
              "      background-color: #E2EBFA;\n",
              "      box-shadow: 0px 1px 2px rgba(60, 64, 67, 0.3), 0px 1px 3px 1px rgba(60, 64, 67, 0.15);\n",
              "      fill: #174EA6;\n",
              "    }\n",
              "\n",
              "    [theme=dark] .colab-df-convert {\n",
              "      background-color: #3B4455;\n",
              "      fill: #D2E3FC;\n",
              "    }\n",
              "\n",
              "    [theme=dark] .colab-df-convert:hover {\n",
              "      background-color: #434B5C;\n",
              "      box-shadow: 0px 1px 3px 1px rgba(0, 0, 0, 0.15);\n",
              "      filter: drop-shadow(0px 1px 2px rgba(0, 0, 0, 0.3));\n",
              "      fill: #FFFFFF;\n",
              "    }\n",
              "  </style>\n",
              "\n",
              "      <script>\n",
              "        const buttonEl =\n",
              "          document.querySelector('#df-3aa3afed-21af-4be0-823a-913808bbd765 button.colab-df-convert');\n",
              "        buttonEl.style.display =\n",
              "          google.colab.kernel.accessAllowed ? 'block' : 'none';\n",
              "\n",
              "        async function convertToInteractive(key) {\n",
              "          const element = document.querySelector('#df-3aa3afed-21af-4be0-823a-913808bbd765');\n",
              "          const dataTable =\n",
              "            await google.colab.kernel.invokeFunction('convertToInteractive',\n",
              "                                                     [key], {});\n",
              "          if (!dataTable) return;\n",
              "\n",
              "          const docLinkHtml = 'Like what you see? Visit the ' +\n",
              "            '<a target=\"_blank\" href=https://colab.research.google.com/notebooks/data_table.ipynb>data table notebook</a>'\n",
              "            + ' to learn more about interactive tables.';\n",
              "          element.innerHTML = '';\n",
              "          dataTable['output_type'] = 'display_data';\n",
              "          await google.colab.output.renderOutput(dataTable, element);\n",
              "          const docLink = document.createElement('div');\n",
              "          docLink.innerHTML = docLinkHtml;\n",
              "          element.appendChild(docLink);\n",
              "        }\n",
              "      </script>\n",
              "    </div>\n",
              "  </div>\n",
              "  "
            ]
          },
          "metadata": {},
          "execution_count": 68
        }
      ]
    },
    {
      "cell_type": "code",
      "source": [
        "# Checking the unique values of the 'Seasons' column\n",
        "\n",
        "df['Seasons'].unique()"
      ],
      "metadata": {
        "colab": {
          "base_uri": "https://localhost:8080/"
        },
        "id": "_kd83BCc-o95",
        "outputId": "5b8b9afa-7f59-4d4a-f061-34a251b0b8c2"
      },
      "execution_count": 69,
      "outputs": [
        {
          "output_type": "execute_result",
          "data": {
            "text/plain": [
              "array(['Winter', 'Spring', 'Summer', 'Autumn'], dtype=object)"
            ]
          },
          "metadata": {},
          "execution_count": 69
        }
      ]
    },
    {
      "cell_type": "code",
      "source": [
        "# Checking the unique values of the 'Holiday' column\n",
        "\n",
        "df['Holiday'].unique()"
      ],
      "metadata": {
        "colab": {
          "base_uri": "https://localhost:8080/"
        },
        "id": "M-E9TQ6n_Xka",
        "outputId": "0b42fdff-34da-40cd-a66b-5c353a95f3a0"
      },
      "execution_count": 70,
      "outputs": [
        {
          "output_type": "execute_result",
          "data": {
            "text/plain": [
              "array(['No Holiday', 'Holiday'], dtype=object)"
            ]
          },
          "metadata": {},
          "execution_count": 70
        }
      ]
    },
    {
      "cell_type": "code",
      "source": [
        "# Checking the unique values of the 'Functioning Day' column\n",
        "\n",
        "df['Functioning Day'].unique()"
      ],
      "metadata": {
        "colab": {
          "base_uri": "https://localhost:8080/"
        },
        "id": "-QqyKTLV-6vX",
        "outputId": "5500b574-0964-47d9-e2e4-013112ffa9d7"
      },
      "execution_count": 71,
      "outputs": [
        {
          "output_type": "execute_result",
          "data": {
            "text/plain": [
              "array(['Yes', 'No'], dtype=object)"
            ]
          },
          "metadata": {},
          "execution_count": 71
        }
      ]
    },
    {
      "cell_type": "markdown",
      "source": [
        "## **Data Preprocessing**"
      ],
      "metadata": {
        "id": "PQXench4Q4uY"
      }
    },
    {
      "cell_type": "code",
      "source": [
        "# Checking the shape of the dataset where rented bike count is equal to 0\n",
        "\n",
        "df[df['Rented Bike Count']==0].shape"
      ],
      "metadata": {
        "colab": {
          "base_uri": "https://localhost:8080/"
        },
        "id": "vki5VPdP_2cR",
        "outputId": "9e341fac-9ed5-432f-a59f-cd1987743406"
      },
      "execution_count": 72,
      "outputs": [
        {
          "output_type": "execute_result",
          "data": {
            "text/plain": [
              "(295, 14)"
            ]
          },
          "metadata": {},
          "execution_count": 72
        }
      ]
    },
    {
      "cell_type": "code",
      "source": [
        "# Checking the shape of the dataset where the renting bike store was not functional\n",
        "\n",
        "df[df['Functioning Day']=='No'].shape"
      ],
      "metadata": {
        "colab": {
          "base_uri": "https://localhost:8080/"
        },
        "id": "qufU5BTi6Nrk",
        "outputId": "8e4a31e8-705c-48e9-861c-10ad32654620"
      },
      "execution_count": 73,
      "outputs": [
        {
          "output_type": "execute_result",
          "data": {
            "text/plain": [
              "(295, 14)"
            ]
          },
          "metadata": {},
          "execution_count": 73
        }
      ]
    },
    {
      "cell_type": "markdown",
      "source": [
        "The hours in which 0 bikes have been rented were the hours where the bike rental store was not functional and it is quite obvious that no bikes would be rented if the store is closed for that hour"
      ],
      "metadata": {
        "id": "56PfLwQrgNwO"
      }
    },
    {
      "cell_type": "code",
      "source": [
        "# Updating the dataframe where the bike rental count is not 0\n",
        "\n",
        "df = df[df['Rented Bike Count']!=0]"
      ],
      "metadata": {
        "id": "bFNCp7eoBV5T"
      },
      "execution_count": 74,
      "outputs": []
    },
    {
      "cell_type": "code",
      "source": [
        "# Checking the shape of the updated dataframe\n",
        "\n",
        "print('Shape of the dataset:', end='')\n",
        "df.shape"
      ],
      "metadata": {
        "id": "TG8lU5y2CEye",
        "colab": {
          "base_uri": "https://localhost:8080/"
        },
        "outputId": "420a800b-a5c3-4d46-9b25-67e3b3cec82f"
      },
      "execution_count": 75,
      "outputs": [
        {
          "output_type": "stream",
          "name": "stdout",
          "text": [
            "Shape of the dataset:"
          ]
        },
        {
          "output_type": "execute_result",
          "data": {
            "text/plain": [
              "(8465, 14)"
            ]
          },
          "metadata": {},
          "execution_count": 75
        }
      ]
    },
    {
      "cell_type": "code",
      "source": [
        "# Checking the basic information of the updated dataframe\n",
        "\n",
        "df.info()"
      ],
      "metadata": {
        "id": "mTH9cBEeCN4D",
        "colab": {
          "base_uri": "https://localhost:8080/"
        },
        "outputId": "2f6d03ee-4cd6-4dd3-e754-2deaf18e367b"
      },
      "execution_count": 76,
      "outputs": [
        {
          "output_type": "stream",
          "name": "stdout",
          "text": [
            "<class 'pandas.core.frame.DataFrame'>\n",
            "Int64Index: 8465 entries, 0 to 8759\n",
            "Data columns (total 14 columns):\n",
            " #   Column                     Non-Null Count  Dtype  \n",
            "---  ------                     --------------  -----  \n",
            " 0   Date                       8465 non-null   object \n",
            " 1   Rented Bike Count          8465 non-null   int64  \n",
            " 2   Hour                       8465 non-null   int64  \n",
            " 3   Temperature(°C)            8465 non-null   float64\n",
            " 4   Humidity(%)                8465 non-null   int64  \n",
            " 5   Wind speed (m/s)           8465 non-null   float64\n",
            " 6   Visibility (10m)           8465 non-null   int64  \n",
            " 7   Dew point temperature(°C)  8465 non-null   float64\n",
            " 8   Solar Radiation (MJ/m2)    8465 non-null   float64\n",
            " 9   Rainfall(mm)               8465 non-null   float64\n",
            " 10  Snowfall (cm)              8465 non-null   float64\n",
            " 11  Seasons                    8465 non-null   object \n",
            " 12  Holiday                    8465 non-null   object \n",
            " 13  Functioning Day            8465 non-null   object \n",
            "dtypes: float64(6), int64(4), object(4)\n",
            "memory usage: 992.0+ KB\n"
          ]
        }
      ]
    },
    {
      "cell_type": "code",
      "source": [
        "# Checking the statistical description of the updated dataframe\n",
        "\n",
        "df.describe(include='all')"
      ],
      "metadata": {
        "id": "qQwn_wXV6_8I",
        "colab": {
          "base_uri": "https://localhost:8080/",
          "height": 510
        },
        "outputId": "dd39f9af-4bdd-400a-aa1f-371c741710b3"
      },
      "execution_count": 77,
      "outputs": [
        {
          "output_type": "execute_result",
          "data": {
            "text/plain": [
              "              Date  Rented Bike Count         Hour  Temperature(°C)  \\\n",
              "count         8465        8465.000000  8465.000000      8465.000000   \n",
              "unique         353                NaN          NaN              NaN   \n",
              "top     01/12/2017                NaN          NaN              NaN   \n",
              "freq            24                NaN          NaN              NaN   \n",
              "mean           NaN         729.156999    11.507029        12.771057   \n",
              "std            NaN         642.351166     6.920899        12.104375   \n",
              "min            NaN           2.000000     0.000000       -17.800000   \n",
              "25%            NaN         214.000000     6.000000         3.000000   \n",
              "50%            NaN         542.000000    12.000000        13.500000   \n",
              "75%            NaN        1084.000000    18.000000        22.700000   \n",
              "max            NaN        3556.000000    23.000000        39.400000   \n",
              "\n",
              "        Humidity(%)  Wind speed (m/s)  Visibility (10m)  \\\n",
              "count   8465.000000       8465.000000       8465.000000   \n",
              "unique          NaN               NaN               NaN   \n",
              "top             NaN               NaN               NaN   \n",
              "freq            NaN               NaN               NaN   \n",
              "mean      58.147194          1.725883       1433.873479   \n",
              "std       20.484839          1.034281        609.051229   \n",
              "min        0.000000          0.000000         27.000000   \n",
              "25%       42.000000          0.900000        935.000000   \n",
              "50%       57.000000          1.500000       1690.000000   \n",
              "75%       74.000000          2.300000       2000.000000   \n",
              "max       98.000000          7.400000       2000.000000   \n",
              "\n",
              "        Dew point temperature(°C)  Solar Radiation (MJ/m2)  Rainfall(mm)  \\\n",
              "count                 8465.000000              8465.000000    8465.00000   \n",
              "unique                        NaN                      NaN           NaN   \n",
              "top                           NaN                      NaN           NaN   \n",
              "freq                          NaN                      NaN           NaN   \n",
              "mean                     3.944997                 0.567868       0.14912   \n",
              "std                     13.242399                 0.868245       1.12554   \n",
              "min                    -30.600000                 0.000000       0.00000   \n",
              "25%                     -5.100000                 0.000000       0.00000   \n",
              "50%                      4.700000                 0.010000       0.00000   \n",
              "75%                     15.200000                 0.930000       0.00000   \n",
              "max                     27.200000                 3.520000      35.00000   \n",
              "\n",
              "        Snowfall (cm) Seasons     Holiday Functioning Day  \n",
              "count     8465.000000    8465        8465            8465  \n",
              "unique            NaN       4           2               1  \n",
              "top               NaN  Summer  No Holiday             Yes  \n",
              "freq              NaN    2208        8057            8465  \n",
              "mean         0.077685     NaN         NaN             NaN  \n",
              "std          0.444063     NaN         NaN             NaN  \n",
              "min          0.000000     NaN         NaN             NaN  \n",
              "25%          0.000000     NaN         NaN             NaN  \n",
              "50%          0.000000     NaN         NaN             NaN  \n",
              "75%          0.000000     NaN         NaN             NaN  \n",
              "max          8.800000     NaN         NaN             NaN  "
            ],
            "text/html": [
              "\n",
              "  <div id=\"df-10655d19-bd9b-46bb-88b6-b84d7facb854\">\n",
              "    <div class=\"colab-df-container\">\n",
              "      <div>\n",
              "<style scoped>\n",
              "    .dataframe tbody tr th:only-of-type {\n",
              "        vertical-align: middle;\n",
              "    }\n",
              "\n",
              "    .dataframe tbody tr th {\n",
              "        vertical-align: top;\n",
              "    }\n",
              "\n",
              "    .dataframe thead th {\n",
              "        text-align: right;\n",
              "    }\n",
              "</style>\n",
              "<table border=\"1\" class=\"dataframe\">\n",
              "  <thead>\n",
              "    <tr style=\"text-align: right;\">\n",
              "      <th></th>\n",
              "      <th>Date</th>\n",
              "      <th>Rented Bike Count</th>\n",
              "      <th>Hour</th>\n",
              "      <th>Temperature(°C)</th>\n",
              "      <th>Humidity(%)</th>\n",
              "      <th>Wind speed (m/s)</th>\n",
              "      <th>Visibility (10m)</th>\n",
              "      <th>Dew point temperature(°C)</th>\n",
              "      <th>Solar Radiation (MJ/m2)</th>\n",
              "      <th>Rainfall(mm)</th>\n",
              "      <th>Snowfall (cm)</th>\n",
              "      <th>Seasons</th>\n",
              "      <th>Holiday</th>\n",
              "      <th>Functioning Day</th>\n",
              "    </tr>\n",
              "  </thead>\n",
              "  <tbody>\n",
              "    <tr>\n",
              "      <th>count</th>\n",
              "      <td>8465</td>\n",
              "      <td>8465.000000</td>\n",
              "      <td>8465.000000</td>\n",
              "      <td>8465.000000</td>\n",
              "      <td>8465.000000</td>\n",
              "      <td>8465.000000</td>\n",
              "      <td>8465.000000</td>\n",
              "      <td>8465.000000</td>\n",
              "      <td>8465.000000</td>\n",
              "      <td>8465.00000</td>\n",
              "      <td>8465.000000</td>\n",
              "      <td>8465</td>\n",
              "      <td>8465</td>\n",
              "      <td>8465</td>\n",
              "    </tr>\n",
              "    <tr>\n",
              "      <th>unique</th>\n",
              "      <td>353</td>\n",
              "      <td>NaN</td>\n",
              "      <td>NaN</td>\n",
              "      <td>NaN</td>\n",
              "      <td>NaN</td>\n",
              "      <td>NaN</td>\n",
              "      <td>NaN</td>\n",
              "      <td>NaN</td>\n",
              "      <td>NaN</td>\n",
              "      <td>NaN</td>\n",
              "      <td>NaN</td>\n",
              "      <td>4</td>\n",
              "      <td>2</td>\n",
              "      <td>1</td>\n",
              "    </tr>\n",
              "    <tr>\n",
              "      <th>top</th>\n",
              "      <td>01/12/2017</td>\n",
              "      <td>NaN</td>\n",
              "      <td>NaN</td>\n",
              "      <td>NaN</td>\n",
              "      <td>NaN</td>\n",
              "      <td>NaN</td>\n",
              "      <td>NaN</td>\n",
              "      <td>NaN</td>\n",
              "      <td>NaN</td>\n",
              "      <td>NaN</td>\n",
              "      <td>NaN</td>\n",
              "      <td>Summer</td>\n",
              "      <td>No Holiday</td>\n",
              "      <td>Yes</td>\n",
              "    </tr>\n",
              "    <tr>\n",
              "      <th>freq</th>\n",
              "      <td>24</td>\n",
              "      <td>NaN</td>\n",
              "      <td>NaN</td>\n",
              "      <td>NaN</td>\n",
              "      <td>NaN</td>\n",
              "      <td>NaN</td>\n",
              "      <td>NaN</td>\n",
              "      <td>NaN</td>\n",
              "      <td>NaN</td>\n",
              "      <td>NaN</td>\n",
              "      <td>NaN</td>\n",
              "      <td>2208</td>\n",
              "      <td>8057</td>\n",
              "      <td>8465</td>\n",
              "    </tr>\n",
              "    <tr>\n",
              "      <th>mean</th>\n",
              "      <td>NaN</td>\n",
              "      <td>729.156999</td>\n",
              "      <td>11.507029</td>\n",
              "      <td>12.771057</td>\n",
              "      <td>58.147194</td>\n",
              "      <td>1.725883</td>\n",
              "      <td>1433.873479</td>\n",
              "      <td>3.944997</td>\n",
              "      <td>0.567868</td>\n",
              "      <td>0.14912</td>\n",
              "      <td>0.077685</td>\n",
              "      <td>NaN</td>\n",
              "      <td>NaN</td>\n",
              "      <td>NaN</td>\n",
              "    </tr>\n",
              "    <tr>\n",
              "      <th>std</th>\n",
              "      <td>NaN</td>\n",
              "      <td>642.351166</td>\n",
              "      <td>6.920899</td>\n",
              "      <td>12.104375</td>\n",
              "      <td>20.484839</td>\n",
              "      <td>1.034281</td>\n",
              "      <td>609.051229</td>\n",
              "      <td>13.242399</td>\n",
              "      <td>0.868245</td>\n",
              "      <td>1.12554</td>\n",
              "      <td>0.444063</td>\n",
              "      <td>NaN</td>\n",
              "      <td>NaN</td>\n",
              "      <td>NaN</td>\n",
              "    </tr>\n",
              "    <tr>\n",
              "      <th>min</th>\n",
              "      <td>NaN</td>\n",
              "      <td>2.000000</td>\n",
              "      <td>0.000000</td>\n",
              "      <td>-17.800000</td>\n",
              "      <td>0.000000</td>\n",
              "      <td>0.000000</td>\n",
              "      <td>27.000000</td>\n",
              "      <td>-30.600000</td>\n",
              "      <td>0.000000</td>\n",
              "      <td>0.00000</td>\n",
              "      <td>0.000000</td>\n",
              "      <td>NaN</td>\n",
              "      <td>NaN</td>\n",
              "      <td>NaN</td>\n",
              "    </tr>\n",
              "    <tr>\n",
              "      <th>25%</th>\n",
              "      <td>NaN</td>\n",
              "      <td>214.000000</td>\n",
              "      <td>6.000000</td>\n",
              "      <td>3.000000</td>\n",
              "      <td>42.000000</td>\n",
              "      <td>0.900000</td>\n",
              "      <td>935.000000</td>\n",
              "      <td>-5.100000</td>\n",
              "      <td>0.000000</td>\n",
              "      <td>0.00000</td>\n",
              "      <td>0.000000</td>\n",
              "      <td>NaN</td>\n",
              "      <td>NaN</td>\n",
              "      <td>NaN</td>\n",
              "    </tr>\n",
              "    <tr>\n",
              "      <th>50%</th>\n",
              "      <td>NaN</td>\n",
              "      <td>542.000000</td>\n",
              "      <td>12.000000</td>\n",
              "      <td>13.500000</td>\n",
              "      <td>57.000000</td>\n",
              "      <td>1.500000</td>\n",
              "      <td>1690.000000</td>\n",
              "      <td>4.700000</td>\n",
              "      <td>0.010000</td>\n",
              "      <td>0.00000</td>\n",
              "      <td>0.000000</td>\n",
              "      <td>NaN</td>\n",
              "      <td>NaN</td>\n",
              "      <td>NaN</td>\n",
              "    </tr>\n",
              "    <tr>\n",
              "      <th>75%</th>\n",
              "      <td>NaN</td>\n",
              "      <td>1084.000000</td>\n",
              "      <td>18.000000</td>\n",
              "      <td>22.700000</td>\n",
              "      <td>74.000000</td>\n",
              "      <td>2.300000</td>\n",
              "      <td>2000.000000</td>\n",
              "      <td>15.200000</td>\n",
              "      <td>0.930000</td>\n",
              "      <td>0.00000</td>\n",
              "      <td>0.000000</td>\n",
              "      <td>NaN</td>\n",
              "      <td>NaN</td>\n",
              "      <td>NaN</td>\n",
              "    </tr>\n",
              "    <tr>\n",
              "      <th>max</th>\n",
              "      <td>NaN</td>\n",
              "      <td>3556.000000</td>\n",
              "      <td>23.000000</td>\n",
              "      <td>39.400000</td>\n",
              "      <td>98.000000</td>\n",
              "      <td>7.400000</td>\n",
              "      <td>2000.000000</td>\n",
              "      <td>27.200000</td>\n",
              "      <td>3.520000</td>\n",
              "      <td>35.00000</td>\n",
              "      <td>8.800000</td>\n",
              "      <td>NaN</td>\n",
              "      <td>NaN</td>\n",
              "      <td>NaN</td>\n",
              "    </tr>\n",
              "  </tbody>\n",
              "</table>\n",
              "</div>\n",
              "      <button class=\"colab-df-convert\" onclick=\"convertToInteractive('df-10655d19-bd9b-46bb-88b6-b84d7facb854')\"\n",
              "              title=\"Convert this dataframe to an interactive table.\"\n",
              "              style=\"display:none;\">\n",
              "        \n",
              "  <svg xmlns=\"http://www.w3.org/2000/svg\" height=\"24px\"viewBox=\"0 0 24 24\"\n",
              "       width=\"24px\">\n",
              "    <path d=\"M0 0h24v24H0V0z\" fill=\"none\"/>\n",
              "    <path d=\"M18.56 5.44l.94 2.06.94-2.06 2.06-.94-2.06-.94-.94-2.06-.94 2.06-2.06.94zm-11 1L8.5 8.5l.94-2.06 2.06-.94-2.06-.94L8.5 2.5l-.94 2.06-2.06.94zm10 10l.94 2.06.94-2.06 2.06-.94-2.06-.94-.94-2.06-.94 2.06-2.06.94z\"/><path d=\"M17.41 7.96l-1.37-1.37c-.4-.4-.92-.59-1.43-.59-.52 0-1.04.2-1.43.59L10.3 9.45l-7.72 7.72c-.78.78-.78 2.05 0 2.83L4 21.41c.39.39.9.59 1.41.59.51 0 1.02-.2 1.41-.59l7.78-7.78 2.81-2.81c.8-.78.8-2.07 0-2.86zM5.41 20L4 18.59l7.72-7.72 1.47 1.35L5.41 20z\"/>\n",
              "  </svg>\n",
              "      </button>\n",
              "      \n",
              "  <style>\n",
              "    .colab-df-container {\n",
              "      display:flex;\n",
              "      flex-wrap:wrap;\n",
              "      gap: 12px;\n",
              "    }\n",
              "\n",
              "    .colab-df-convert {\n",
              "      background-color: #E8F0FE;\n",
              "      border: none;\n",
              "      border-radius: 50%;\n",
              "      cursor: pointer;\n",
              "      display: none;\n",
              "      fill: #1967D2;\n",
              "      height: 32px;\n",
              "      padding: 0 0 0 0;\n",
              "      width: 32px;\n",
              "    }\n",
              "\n",
              "    .colab-df-convert:hover {\n",
              "      background-color: #E2EBFA;\n",
              "      box-shadow: 0px 1px 2px rgba(60, 64, 67, 0.3), 0px 1px 3px 1px rgba(60, 64, 67, 0.15);\n",
              "      fill: #174EA6;\n",
              "    }\n",
              "\n",
              "    [theme=dark] .colab-df-convert {\n",
              "      background-color: #3B4455;\n",
              "      fill: #D2E3FC;\n",
              "    }\n",
              "\n",
              "    [theme=dark] .colab-df-convert:hover {\n",
              "      background-color: #434B5C;\n",
              "      box-shadow: 0px 1px 3px 1px rgba(0, 0, 0, 0.15);\n",
              "      filter: drop-shadow(0px 1px 2px rgba(0, 0, 0, 0.3));\n",
              "      fill: #FFFFFF;\n",
              "    }\n",
              "  </style>\n",
              "\n",
              "      <script>\n",
              "        const buttonEl =\n",
              "          document.querySelector('#df-10655d19-bd9b-46bb-88b6-b84d7facb854 button.colab-df-convert');\n",
              "        buttonEl.style.display =\n",
              "          google.colab.kernel.accessAllowed ? 'block' : 'none';\n",
              "\n",
              "        async function convertToInteractive(key) {\n",
              "          const element = document.querySelector('#df-10655d19-bd9b-46bb-88b6-b84d7facb854');\n",
              "          const dataTable =\n",
              "            await google.colab.kernel.invokeFunction('convertToInteractive',\n",
              "                                                     [key], {});\n",
              "          if (!dataTable) return;\n",
              "\n",
              "          const docLinkHtml = 'Like what you see? Visit the ' +\n",
              "            '<a target=\"_blank\" href=https://colab.research.google.com/notebooks/data_table.ipynb>data table notebook</a>'\n",
              "            + ' to learn more about interactive tables.';\n",
              "          element.innerHTML = '';\n",
              "          dataTable['output_type'] = 'display_data';\n",
              "          await google.colab.output.renderOutput(dataTable, element);\n",
              "          const docLink = document.createElement('div');\n",
              "          docLink.innerHTML = docLinkHtml;\n",
              "          element.appendChild(docLink);\n",
              "        }\n",
              "      </script>\n",
              "    </div>\n",
              "  </div>\n",
              "  "
            ]
          },
          "metadata": {},
          "execution_count": 77
        }
      ]
    },
    {
      "cell_type": "markdown",
      "source": [
        "## Classifying the categorical and numerical data:\n",
        "\n",
        "*   **Categorical:**\n",
        "\n",
        " 1. Hour\n",
        " 2. Seasons\n",
        " 3. Holiday\n",
        " 4. Functioning Day\n",
        "\n",
        "\n",
        "*   **Numerical:**\n",
        "\n",
        " 1. Rented Bike Count\n",
        " 2. Temperature\n",
        " 3. Humidity\n",
        " 4. Windspeed\n",
        " 5. Visibility\n",
        " 6. Dew Point Temperature\n",
        " 7. Solar Radiation\n",
        " 8. Rainfall\n",
        " 9. Snowfall"
      ],
      "metadata": {
        "id": "yzhqjQBBIny9"
      }
    },
    {
      "cell_type": "markdown",
      "source": [
        "**Dependent Variable:**\n",
        "\n",
        "Rented Bike Count"
      ],
      "metadata": {
        "id": "5nU5qM2NIsNp"
      }
    },
    {
      "cell_type": "code",
      "source": [
        "# Converting the 'Date' column to a date-time datatype\n",
        "\n",
        "df['Date'] = pd.to_datetime(df['Date'])"
      ],
      "metadata": {
        "id": "aE29qFs2CZtJ"
      },
      "execution_count": 78,
      "outputs": []
    },
    {
      "cell_type": "code",
      "source": [
        "# Extracting the year, months and days from the 'Date' column\n",
        "\n",
        "df['Year'] = df['Date'].dt.year\n",
        "df['Month'] = df['Date'].dt.month_name()\n",
        "df['Day'] =df['Date'].dt.day_name()"
      ],
      "metadata": {
        "id": "huxuQ7o47KaZ"
      },
      "execution_count": 79,
      "outputs": []
    },
    {
      "cell_type": "markdown",
      "source": [
        "## **Exploratory Data Analysis**"
      ],
      "metadata": {
        "id": "e0HScoXpByab"
      }
    },
    {
      "cell_type": "markdown",
      "source": [
        "## **Categorical Variable Analysis**"
      ],
      "metadata": {
        "id": "89vCbFfaRPZU"
      }
    },
    {
      "cell_type": "markdown",
      "source": [
        "### **Average number of bikes rented on the days of the week**"
      ],
      "metadata": {
        "id": "o5vb7vk1RSM3"
      }
    },
    {
      "cell_type": "code",
      "source": [
        "# Defining plot size\n",
        "plt.figure(figsize=(8,5))\n",
        "\n",
        "# Plotting a bargraph \n",
        "figure = sns.barplot(x=df['Day'], y=df['Rented Bike Count'], order=['Sunday', 'Monday',\n",
        "                                                           'Tuesday', 'Wednesday',\n",
        "                                                           'Thursday', 'Friday',\n",
        "                                                           'Saturday'])\n",
        "\n",
        "# Defining the title and x and y labels\n",
        "figure.set(title='Mean number of bikes rented on the days of the week')\n",
        "figure.set(xlabel='Days', ylabel='Bikes Rented')\n",
        "\n",
        "# Displaying the graph\n",
        "plt.show(figure)"
      ],
      "metadata": {
        "colab": {
          "base_uri": "https://localhost:8080/",
          "height": 350
        },
        "id": "ZWFXUJomC1Px",
        "outputId": "5d55ebdb-b94c-42a3-e206-3c9da00523a5"
      },
      "execution_count": 80,
      "outputs": [
        {
          "output_type": "display_data",
          "data": {
            "text/plain": [
              "<Figure size 576x360 with 1 Axes>"
            ],
            "image/png": "[encoded data removed]"
          },
          "metadata": {
            "needs_background": "light"
          }
        }
      ]
    },
    {
      "cell_type": "markdown",
      "source": [
        "Least numbers of bikes are being rented on Sundays, it shows people tend to rent the bikes for work and office purposes"
      ],
      "metadata": {
        "id": "f0-bbbZS8Pny"
      }
    },
    {
      "cell_type": "markdown",
      "source": [
        "### **Average number of bikes rented in different seasons**"
      ],
      "metadata": {
        "id": "fm8sHE0oWgWT"
      }
    },
    {
      "cell_type": "code",
      "source": [
        "# Defining plot size\n",
        "plt.figure(figsize=(8,5))\n",
        "\n",
        "# Plotting a bargraph\n",
        "figure = sns.barplot(x=df['Seasons'], y=df['Rented Bike Count'])\n",
        "\n",
        "# Defining the title and x and y labels\n",
        "figure.set(title='Mean number of bikes rented in different seasons')\n",
        "figure.set(xlabel='Seasons', ylabel='Bikes Rented')\n",
        "\n",
        "# Displaying the graph\n",
        "plt.show(figure)"
      ],
      "metadata": {
        "colab": {
          "base_uri": "https://localhost:8080/",
          "height": 350
        },
        "id": "n_0MwTmzDCA6",
        "outputId": "05a7a895-2eaf-432e-a2cf-317445b5113c"
      },
      "execution_count": 81,
      "outputs": [
        {
          "output_type": "display_data",
          "data": {
            "text/plain": [
              "<Figure size 576x360 with 1 Axes>"
            ],
            "image/png": "[encoded data removed]"
          },
          "metadata": {
            "needs_background": "light"
          }
        }
      ]
    },
    {
      "cell_type": "markdown",
      "source": [
        "Maximum bikes are being rented in the Summer Season and least number of bikes are being rented in the Winter Season"
      ],
      "metadata": {
        "id": "fQLM3iCM8wrm"
      }
    },
    {
      "cell_type": "markdown",
      "source": [
        "### **Average number of bikes rented on holidays and working days**"
      ],
      "metadata": {
        "id": "jLaYP6OtXXzc"
      }
    },
    {
      "cell_type": "code",
      "source": [
        "# Defining plot size\n",
        "plt.figure(figsize=(8,5))\n",
        "\n",
        "# Plotting a bargraph\n",
        "figure = sns.barplot(x=df['Holiday'], y=df['Rented Bike Count'], order=['Holiday',\n",
        "                                                                        'No Holiday'])\n",
        "\n",
        "# Defining the title and x and y axis\n",
        "figure.set(title='Mean number of bikes rented on holidays and working days')\n",
        "figure.set(xlabel='Holiday', ylabel='Bikes Rented')\n",
        "\n",
        "# Displaying the graph\n",
        "plt.show(figure)"
      ],
      "metadata": {
        "colab": {
          "base_uri": "https://localhost:8080/",
          "height": 350
        },
        "id": "78arqQvbDGUm",
        "outputId": "86d788b5-34df-47e5-dee1-e9b27fca7b98"
      },
      "execution_count": 82,
      "outputs": [
        {
          "output_type": "display_data",
          "data": {
            "text/plain": [
              "<Figure size 576x360 with 1 Axes>"
            ],
            "image/png": "[encoded data removed]"
          },
          "metadata": {
            "needs_background": "light"
          }
        }
      ]
    },
    {
      "cell_type": "markdown",
      "source": [
        "More number of bikes are being rented on the working days indicating that people rent bikes for work purposes more than leisure purposes"
      ],
      "metadata": {
        "id": "YPKtF8cI9FXk"
      }
    },
    {
      "cell_type": "markdown",
      "source": [
        "### **Average number of bikes rented in different years**"
      ],
      "metadata": {
        "id": "B3waR_jGnozy"
      }
    },
    {
      "cell_type": "code",
      "source": [
        "# Defining plot size\n",
        "plt.figure(figsize=(8,5))\n",
        "\n",
        "# Plotting a bargraph\n",
        "figure = sns.barplot(x=df['Year'], y=df['Rented Bike Count'])\n",
        "\n",
        "# Defining the title and x and y label\n",
        "figure.set(title='Mean number of bikes rented in different years')\n",
        "figure.set(xlabel='Years', ylabel='Bikes Rented')\n",
        "\n",
        "# Displaying the graph\n",
        "plt.show(figure)"
      ],
      "metadata": {
        "colab": {
          "base_uri": "https://localhost:8080/",
          "height": 350
        },
        "id": "5PuoIMV_DVz2",
        "outputId": "3720d047-82d0-40ed-e179-c0e3a119430b"
      },
      "execution_count": 83,
      "outputs": [
        {
          "output_type": "display_data",
          "data": {
            "text/plain": [
              "<Figure size 576x360 with 1 Axes>"
            ],
            "image/png": "[encoded data removed]"
          },
          "metadata": {
            "needs_background": "light"
          }
        }
      ]
    },
    {
      "cell_type": "markdown",
      "source": [
        "The graph shows that the bike renting business is a growing business as the number of bikes rented in 2018 is more than the bikes rented in 2017"
      ],
      "metadata": {
        "id": "jt3o91SP9Wo7"
      }
    },
    {
      "cell_type": "markdown",
      "source": [
        "### **Average number of bikes rented in different months**"
      ],
      "metadata": {
        "id": "6VNCM1jHo7cJ"
      }
    },
    {
      "cell_type": "code",
      "source": [
        "# Defining the plot size\n",
        "plt.figure(figsize=(12,5))\n",
        "\n",
        "# Plotting a bargraph\n",
        "figure = sns.barplot(x=df['Month'], y=df['Rented Bike Count'])\n",
        "\n",
        "# Defining the title and x and y labels\n",
        "figure.set(title='Mean number of bikes rented in different months')\n",
        "figure.set(xlabel='Months', ylabel='Bikes Rented')\n",
        "\n",
        "# Displaying the graph\n",
        "plt.show(figure)"
      ],
      "metadata": {
        "colab": {
          "base_uri": "https://localhost:8080/",
          "height": 350
        },
        "id": "Xx7piuRcDsJY",
        "outputId": "56e34e3b-48d8-4cd9-aaeb-825fa7ed059e"
      },
      "execution_count": 84,
      "outputs": [
        {
          "output_type": "display_data",
          "data": {
            "text/plain": [
              "<Figure size 864x360 with 1 Axes>"
            ],
            "image/png": "[encoded data removed]"
          },
          "metadata": {
            "needs_background": "light"
          }
        }
      ]
    },
    {
      "cell_type": "markdown",
      "source": [
        "Maximum number of bikes are getting rented in the month of May, June and July which are the summer months and it can be seen that people love riding the bikes in the summer season"
      ],
      "metadata": {
        "id": "-SdbStFiCObM"
      }
    },
    {
      "cell_type": "markdown",
      "source": [
        "### **Average number of bikes rented in different hours of the day**"
      ],
      "metadata": {
        "id": "EHDo0SPHpvsT"
      }
    },
    {
      "cell_type": "code",
      "source": [
        "# Defining the plot size\n",
        "plt.figure(figsize=(12,5))\n",
        "\n",
        "# Plotting a bar graph\n",
        "figure = sns.barplot(x=df['Hour'], y=df['Rented Bike Count'])\n",
        "\n",
        "# Defining the title and x and y labels\n",
        "figure.set(title='Mean number of bikes rented in different hours of the day')\n",
        "figure.set(xlabel='Day Hours', ylabel='Bikes Rented')\n",
        "\n",
        "# Displaying the graph\n",
        "plt.show(figure)"
      ],
      "metadata": {
        "colab": {
          "base_uri": "https://localhost:8080/",
          "height": 350
        },
        "id": "nWT-nUR38BYZ",
        "outputId": "777068bb-9ee6-4613-dc90-a1d992e70422"
      },
      "execution_count": 85,
      "outputs": [
        {
          "output_type": "display_data",
          "data": {
            "text/plain": [
              "<Figure size 864x360 with 1 Axes>"
            ],
            "image/png": "[encoded data removed]"
          },
          "metadata": {
            "needs_background": "light"
          }
        }
      ]
    },
    {
      "cell_type": "markdown",
      "source": [
        "Maximum number of bikes being rented in the evening time are at 5pm, 6pm and 7pm showing that people mostly rent bikes in the evening for leisure purposes after the office time.\n",
        "\n",
        "Maximum number of bikes being rented in the morning time are at 8am showing that people rent bikes for going to office."
      ],
      "metadata": {
        "id": "9A9PCMyKCZWW"
      }
    },
    {
      "cell_type": "markdown",
      "source": [
        "### **Correlation between all the variables**"
      ],
      "metadata": {
        "id": "LFCxRvJLrca6"
      }
    },
    {
      "cell_type": "code",
      "source": [
        "# Defining plot size\n",
        "plt.figure(figsize=(10,8))\n",
        "\n",
        "# Plotting a correlation heatmap\n",
        "figure = sns.heatmap(df.corr(), annot=True, cmap='Spectral_r')\n",
        "\n",
        "# Defining the title of the heatmap\n",
        "figure.set(title='Correlation between all the variables')\n",
        "\n",
        "# Displaying the heatmap\n",
        "plt.show(figure)"
      ],
      "metadata": {
        "colab": {
          "base_uri": "https://localhost:8080/",
          "height": 625
        },
        "id": "ibXcA2XD8SxN",
        "outputId": "9702deeb-436b-48e3-d8db-82d34281ff69"
      },
      "execution_count": 86,
      "outputs": [
        {
          "output_type": "display_data",
          "data": {
            "text/plain": [
              "<Figure size 720x576 with 2 Axes>"
            ],
            "image/png": "[encoded data removed]"
          },
          "metadata": {
            "needs_background": "light"
          }
        }
      ]
    },
    {
      "cell_type": "markdown",
      "source": [
        "Maximum collinearity between dependent and independent variable:\n",
        "1. Temperature and Rented Bike Count\n",
        "2. Hour and Rented Bike Count\n",
        "\n",
        "Maximum collinearity between independent variables (Multi-Collinearity):\n",
        "1. Temperature and Dew Point Temperature\n",
        "2. Visibility and Humidity\n",
        "3. Dew Point Temperature and Humidity\n",
        "4. Solar Radiation and Humidity"
      ],
      "metadata": {
        "id": "Lm8qzPzFCi5C"
      }
    },
    {
      "cell_type": "markdown",
      "source": [
        "## **Continuous Variable Analysis**"
      ],
      "metadata": {
        "id": "1mEARMPksFpJ"
      }
    },
    {
      "cell_type": "markdown",
      "source": [
        "### **Effect of humidity on number of bikes rented**"
      ],
      "metadata": {
        "id": "Y7qjI4JVtvI5"
      }
    },
    {
      "cell_type": "code",
      "source": [
        "# Defining plot size\n",
        "plt.figure(figsize=(8,5))\n",
        "\n",
        "# Plotting a regression plot\n",
        "figure = sns.regplot(x=df['Humidity(%)'], y=df['Rented Bike Count'], x_bins=1000, fit_reg=True)\n",
        "\n",
        "# Defining the title and x and y labels\n",
        "figure.set(title='Effect of Humidity on the number of Bikes Rented')\n",
        "figure.set(xlabel='Humidity (%)', ylabel='Bikes Rented')\n",
        "\n",
        "# Displaying the graph\n",
        "plt.show(figure)"
      ],
      "metadata": {
        "colab": {
          "base_uri": "https://localhost:8080/",
          "height": 350
        },
        "id": "m30XpGnAZZHa",
        "outputId": "8d0decea-86fd-4e90-e475-4612d366b6fe"
      },
      "execution_count": 87,
      "outputs": [
        {
          "output_type": "display_data",
          "data": {
            "text/plain": [
              "<Figure size 576x360 with 1 Axes>"
            ],
            "image/png": "[encoded data removed]"
          },
          "metadata": {
            "needs_background": "light"
          }
        }
      ]
    },
    {
      "cell_type": "markdown",
      "source": [
        "Number of bikes rented and Humidity shows a negative correlation"
      ],
      "metadata": {
        "id": "M8-nyI7aCsDa"
      }
    },
    {
      "cell_type": "markdown",
      "source": [
        "### **Effect of temperature on number of bikes rented**"
      ],
      "metadata": {
        "id": "xCQ75x9duRhH"
      }
    },
    {
      "cell_type": "code",
      "source": [
        "# Defining the plot size\n",
        "plt.figure(figsize=(8,5))\n",
        "\n",
        "# Plotting a regression plot\n",
        "figure = sns.regplot(x=df['Temperature(°C)'], y=df['Rented Bike Count'], x_bins=100, fit_reg=True)\n",
        "\n",
        "# Defining the title and x and y labels\n",
        "figure.set(title='Effect of Temperature on number of Bikes Rented')\n",
        "figure.set(xlabel='Temperature (°C)', ylabel='Bikes Rented')\n",
        "\n",
        "# Displaying the graph\n",
        "plt.show(figure)"
      ],
      "metadata": {
        "colab": {
          "base_uri": "https://localhost:8080/",
          "height": 350
        },
        "id": "3AHWE5i4ZjCC",
        "outputId": "54b7f30c-b348-4a9b-dede-5ed9c895cbc2"
      },
      "execution_count": 88,
      "outputs": [
        {
          "output_type": "display_data",
          "data": {
            "text/plain": [
              "<Figure size 576x360 with 1 Axes>"
            ],
            "image/png": "[encoded data removed]"
          },
          "metadata": {
            "needs_background": "light"
          }
        }
      ]
    },
    {
      "cell_type": "markdown",
      "source": [
        "Number of bikes rented and Temperature shows a positive correlation"
      ],
      "metadata": {
        "id": "yntzdAF2CzKF"
      }
    },
    {
      "cell_type": "markdown",
      "source": [
        "### **Effect of wind speed on number of bikes rented**"
      ],
      "metadata": {
        "id": "71OWN0u0vKki"
      }
    },
    {
      "cell_type": "code",
      "source": [
        "# Defining the plot size\n",
        "plt.figure(figsize=(8,5))\n",
        "\n",
        "# Plotting a regression plot\n",
        "figure = sns.regplot(x=df['Wind speed (m/s)'], y=df['Rented Bike Count'], x_bins=1000, fit_reg=True)\n",
        "\n",
        "# Defining the title and the x and y labels\n",
        "figure.set(title='Effect of Wind Speed on number of Bikes Rented')\n",
        "figure.set(xlabel='Wind Speed (m/s)', ylabel='Bikes Rented')\n",
        "\n",
        "# Displaying the graph\n",
        "plt.show(figure)"
      ],
      "metadata": {
        "colab": {
          "base_uri": "https://localhost:8080/",
          "height": 350
        },
        "id": "6xoGTMulZqtf",
        "outputId": "0895a8c1-7aac-4d8d-bd14-3cf0c8a82b08"
      },
      "execution_count": 89,
      "outputs": [
        {
          "output_type": "display_data",
          "data": {
            "text/plain": [
              "<Figure size 576x360 with 1 Axes>"
            ],
            "image/png": "[encoded data removed]"
          },
          "metadata": {
            "needs_background": "light"
          }
        }
      ]
    },
    {
      "cell_type": "markdown",
      "source": [
        "Number of bikes rented and Windspeed does not show a good correlation"
      ],
      "metadata": {
        "id": "EaRvS--CC-bT"
      }
    },
    {
      "cell_type": "markdown",
      "source": [
        "### **Effect of visibilty on number of bikes rented**"
      ],
      "metadata": {
        "id": "e3yBcRM_v0tt"
      }
    },
    {
      "cell_type": "code",
      "source": [
        "# Defining the plot size\n",
        "plt.figure(figsize=(8,5))\n",
        "\n",
        "# Plotting a regression plot\n",
        "figure = sns.regplot(x=df['Visibility (10m)'], y=df['Rented Bike Count'], x_bins=100, fit_reg=True)\n",
        "\n",
        "# Defining the title and x and y labels\n",
        "figure.set(title='Effect of Visibility on number of Bikes Rented')\n",
        "figure.set(xlabel='Visibility (10m)', ylabel='Bikes Rented')\n",
        "\n",
        "# Displaying the graph\n",
        "plt.show(figure)"
      ],
      "metadata": {
        "colab": {
          "base_uri": "https://localhost:8080/",
          "height": 350
        },
        "id": "Wk6gxDIQZxBG",
        "outputId": "a3eeca1e-f9bd-4387-d534-5965ffe6f2a1"
      },
      "execution_count": 90,
      "outputs": [
        {
          "output_type": "display_data",
          "data": {
            "text/plain": [
              "<Figure size 576x360 with 1 Axes>"
            ],
            "image/png": "[encoded data removed]"
          },
          "metadata": {
            "needs_background": "light"
          }
        }
      ]
    },
    {
      "cell_type": "markdown",
      "source": [
        "Number of bikes rented and Visibilty shows a positive correlation"
      ],
      "metadata": {
        "id": "THpazL6fDFI9"
      }
    },
    {
      "cell_type": "markdown",
      "source": [
        "### **Effect of dew point temperature on number of bikes rented**"
      ],
      "metadata": {
        "id": "gI2N9hN-wdld"
      }
    },
    {
      "cell_type": "code",
      "source": [
        "# Defining the plot size\n",
        "plt.figure(figsize=(8,5))\n",
        "\n",
        "# Plotting a regression plot\n",
        "figure = sns.regplot(x=df['Dew point temperature(°C)'], y=df['Rented Bike Count'], x_bins=100, fit_reg=True)\n",
        "\n",
        "# Defining the title and x and y labels\n",
        "figure.set(title='Effect of Dew Point Temperature on number of Bikes Rented')\n",
        "figure.set(xlabel='Dew Point Temperature (°C)', ylabel='Bikes Rented')\n",
        "\n",
        "# Displaying the graph\n",
        "plt.show(figure)"
      ],
      "metadata": {
        "colab": {
          "base_uri": "https://localhost:8080/",
          "height": 350
        },
        "id": "qffIzFNxZ1op",
        "outputId": "49b9933e-804b-4a65-f146-cec22e4e593a"
      },
      "execution_count": 91,
      "outputs": [
        {
          "output_type": "display_data",
          "data": {
            "text/plain": [
              "<Figure size 576x360 with 1 Axes>"
            ],
            "image/png": "[encoded data removed]"
          },
          "metadata": {
            "needs_background": "light"
          }
        }
      ]
    },
    {
      "cell_type": "markdown",
      "source": [
        "Number of bikes rented and Dew Point Temperature shows a positive correlation"
      ],
      "metadata": {
        "id": "FIUecIvKDLQH"
      }
    },
    {
      "cell_type": "markdown",
      "source": [
        "### **Effect of solar radiation on number of bikes rented**"
      ],
      "metadata": {
        "id": "SpFArcF2xXXb"
      }
    },
    {
      "cell_type": "code",
      "source": [
        "# Defining the plot size\n",
        "plt.figure(figsize=(8,5))\n",
        "\n",
        "# Plotting a regression plot\n",
        "figure = sns.regplot(x=df['Solar Radiation (MJ/m2)'], y=df['Rented Bike Count'], x_bins=100, fit_reg=True)\n",
        "\n",
        "# Defining the title and x and y labels\n",
        "figure.set(title='Effect of Solar Radiation on number of Bikes Rented')\n",
        "figure.set(xlabel='Solar Radiation (MJ/m2)', ylabel='Bikes Rented')\n",
        "\n",
        "# Displaying the graph\n",
        "plt.show(figure)"
      ],
      "metadata": {
        "colab": {
          "base_uri": "https://localhost:8080/",
          "height": 350
        },
        "id": "VLOrTxf2Z6I9",
        "outputId": "8e9c416d-37ca-4db5-988c-02c5c5507406"
      },
      "execution_count": 92,
      "outputs": [
        {
          "output_type": "display_data",
          "data": {
            "text/plain": [
              "<Figure size 576x360 with 1 Axes>"
            ],
            "image/png": "[encoded data removed]"
          },
          "metadata": {
            "needs_background": "light"
          }
        }
      ]
    },
    {
      "cell_type": "markdown",
      "source": [
        "Number of bikes rented and Solar Radiation shows a positive correlation"
      ],
      "metadata": {
        "id": "aK0MKJzeDSlz"
      }
    },
    {
      "cell_type": "markdown",
      "source": [
        "### **Effect of rainfall on number of bikes rented**"
      ],
      "metadata": {
        "id": "N9odXIdLyDYN"
      }
    },
    {
      "cell_type": "code",
      "source": [
        "# Defining the plot size\n",
        "plt.figure(figsize=(8,5))\n",
        "\n",
        "# Plotting a regression plot\n",
        "figure = sns.regplot(x=df['Rainfall(mm)'], y=df['Rented Bike Count'], fit_reg=True)\n",
        "\n",
        "# Defining the title and x and y labels\n",
        "figure.set(title='Effect of Rainfall on the number of Bikes Rented')\n",
        "figure.set(xlabel='Rainfall (mm)', ylabel='Bikes Rented')\n",
        "\n",
        "# Displaying the graph\n",
        "plt.show(figure)"
      ],
      "metadata": {
        "colab": {
          "base_uri": "https://localhost:8080/",
          "height": 350
        },
        "id": "0PKM3THlZ93Q",
        "outputId": "73808740-5bfe-4360-eac7-1d9f3d729d2f"
      },
      "execution_count": 93,
      "outputs": [
        {
          "output_type": "display_data",
          "data": {
            "text/plain": [
              "<Figure size 576x360 with 1 Axes>"
            ],
            "image/png": "[encoded data removed]"
          },
          "metadata": {
            "needs_background": "light"
          }
        }
      ]
    },
    {
      "cell_type": "markdown",
      "source": [
        "Number of bikes rented and Rainfall does not show a good correlation"
      ],
      "metadata": {
        "id": "FQ6U5ShbDZMu"
      }
    },
    {
      "cell_type": "markdown",
      "source": [
        "### **Effect of snowfall on number of bikes rented**"
      ],
      "metadata": {
        "id": "g3rF77xIyeA5"
      }
    },
    {
      "cell_type": "code",
      "source": [
        "# Defining the plot size\n",
        "plt.figure(figsize=(8,5))\n",
        "\n",
        "# Plotting a regression plot\n",
        "figure = sns.regplot(x=df['Snowfall (cm)'], y=df['Rented Bike Count'], fit_reg=True)\n",
        "\n",
        "# Defining the title and x and y labels\n",
        "figure.set(title='Effect of Snowfall on the number of Bikes Rented')\n",
        "figure.set(xlabel='Snowfall (cm)', ylabel='Bikes Rented')\n",
        "\n",
        "# Diplaying the graph\n",
        "plt.show(figure)"
      ],
      "metadata": {
        "colab": {
          "base_uri": "https://localhost:8080/",
          "height": 350
        },
        "id": "5yKWf8h3aBxz",
        "outputId": "dc89377e-a973-4aba-f54a-0e894653725d"
      },
      "execution_count": 94,
      "outputs": [
        {
          "output_type": "display_data",
          "data": {
            "text/plain": [
              "<Figure size 576x360 with 1 Axes>"
            ],
            "image/png": "[encoded data removed]"
          },
          "metadata": {
            "needs_background": "light"
          }
        }
      ]
    },
    {
      "cell_type": "markdown",
      "source": [
        "Number of bikes rented and Snowfall does not show a good correlation"
      ],
      "metadata": {
        "id": "Alp2tvfsDfZ2"
      }
    },
    {
      "cell_type": "code",
      "source": [
        "# Converting Snowfall and Rainfall to categorical variables\n",
        "\n",
        "df['Snowfall (cm)'] = np.where(df['Snowfall (cm)']>df['Snowfall (cm)'].mean(), 1, 0)\n",
        "df['Rainfall(mm)'] = np.where(df['Rainfall(mm)']>df['Rainfall(mm)'].mean(), 1, 0)"
      ],
      "metadata": {
        "id": "-K5ofnexDqzj"
      },
      "execution_count": 95,
      "outputs": []
    },
    {
      "cell_type": "markdown",
      "source": [
        "### **Average number of bikes rented in snowfall and no snowfall hour**"
      ],
      "metadata": {
        "id": "S8QhPCg4zSfr"
      }
    },
    {
      "cell_type": "code",
      "source": [
        "# Defining the plot size\n",
        "plt.figure(figsize=(8,5))\n",
        "\n",
        "# Plotting a bargraph\n",
        "figure = sns.barplot(x=df['Snowfall (cm)'], y=df['Rented Bike Count'])\n",
        "\n",
        "# Defining the title, xticks and x and y labels\n",
        "figure.set(title='Mean number of bikes rented in a Snowfall and No Snowfall hour')\n",
        "figure.set(xlabel='Snowfall', ylabel='Bikes Rented')\n",
        "figure.set_xticklabels(['No Snowfall', 'Snowfall'])\n",
        "\n",
        "# Displaying the graph\n",
        "plt.show(figure)"
      ],
      "metadata": {
        "colab": {
          "base_uri": "https://localhost:8080/",
          "height": 350
        },
        "id": "GsdHRZQPDxpE",
        "outputId": "859c0546-d3db-4cbd-eb9b-2b8e7e5bd1ad"
      },
      "execution_count": 96,
      "outputs": [
        {
          "output_type": "display_data",
          "data": {
            "text/plain": [
              "<Figure size 576x360 with 1 Axes>"
            ],
            "image/png": "[encoded data removed]"
          },
          "metadata": {
            "needs_background": "light"
          }
        }
      ]
    },
    {
      "cell_type": "markdown",
      "source": [
        "Maximum number of bikes are rented in No Snowfall hour"
      ],
      "metadata": {
        "id": "QOJe9p5_D1rC"
      }
    },
    {
      "cell_type": "markdown",
      "source": [
        "### **Average number of bikes rented in rainfall and no rainfall hour**"
      ],
      "metadata": {
        "id": "rmBxmIURKD4c"
      }
    },
    {
      "cell_type": "code",
      "source": [
        "# Defining the plot size\n",
        "plt.figure(figsize=(8,5))\n",
        "\n",
        "# Plotting a bargraph\n",
        "figure = sns.barplot(x=df['Rainfall(mm)'], y=df['Rented Bike Count'])\n",
        "\n",
        "# Defining the title, xticks and x and y labels\n",
        "figure.set(title='Mean number of bikes rented in a Rainfall and No Rainfall hour')\n",
        "figure.set(xlabel='Rainfall', ylabel='Bikes Rented')\n",
        "figure.set_xticklabels(['No Rainfall', 'Rainfall'])\n",
        "\n",
        "# Displaying the graph\n",
        "plt.show(figure)"
      ],
      "metadata": {
        "colab": {
          "base_uri": "https://localhost:8080/",
          "height": 350
        },
        "id": "31IJOf6HD3Dx",
        "outputId": "9947628c-25fd-4b76-fb32-08a3640b85f0"
      },
      "execution_count": 97,
      "outputs": [
        {
          "output_type": "display_data",
          "data": {
            "text/plain": [
              "<Figure size 576x360 with 1 Axes>"
            ],
            "image/png": "[encoded data removed]"
          },
          "metadata": {
            "needs_background": "light"
          }
        }
      ]
    },
    {
      "cell_type": "markdown",
      "source": [
        "Maximum number of bikes are rented in No Rainfall hour"
      ],
      "metadata": {
        "id": "6fR-hhnsD8xZ"
      }
    },
    {
      "cell_type": "markdown",
      "source": [
        "### **Distribution of the number of bikes rented**"
      ],
      "metadata": {
        "id": "r8hdeSmzKioe"
      }
    },
    {
      "cell_type": "code",
      "source": [
        "# Defining the plot size\n",
        "plt.figure(figsize=(8,5))\n",
        "\n",
        "# Plotting a distribution plot\n",
        "figure = sns.distplot(df['Rented Bike Count'])\n",
        "\n",
        "# Defining the title and x and y labels\n",
        "figure.set(title='Distribution of the rented bikes')\n",
        "figure.set(xlabel='Bikes Rented')\n",
        "\n",
        "# Displaying the graph\n",
        "plt.show(figure)"
      ],
      "metadata": {
        "colab": {
          "base_uri": "https://localhost:8080/",
          "height": 350
        },
        "id": "BD-FMWBO76EE",
        "outputId": "61545cdf-2528-4eaa-80a9-1cdff75daf82"
      },
      "execution_count": 98,
      "outputs": [
        {
          "output_type": "display_data",
          "data": {
            "text/plain": [
              "<Figure size 576x360 with 1 Axes>"
            ],
            "image/png": "[encoded data removed]"
          },
          "metadata": {
            "needs_background": "light"
          }
        }
      ]
    },
    {
      "cell_type": "code",
      "source": [
        "# Checking the skewness of the dependent variable\n",
        "\n",
        "df['Rented Bike Count'].agg(['skew'])"
      ],
      "metadata": {
        "colab": {
          "base_uri": "https://localhost:8080/"
        },
        "id": "RxLF6ctL75_E",
        "outputId": "fb7b7322-4cc5-4b52-a4a9-e3bc7ef81452"
      },
      "execution_count": 99,
      "outputs": [
        {
          "output_type": "execute_result",
          "data": {
            "text/plain": [
              "skew    1.1397\n",
              "Name: Rented Bike Count, dtype: float64"
            ]
          },
          "metadata": {},
          "execution_count": 99
        }
      ]
    },
    {
      "cell_type": "markdown",
      "source": [
        "**Graph and Skewness**\n",
        "\n",
        "**Fairly Symmetrical:** -0.5 to 0.5\n",
        "\n",
        "**Moderate Skewed:** -0.5 to -1.0 and 0.5 to 1.0\n",
        "\n",
        "**Highly Skewed:** < -1.0 and > 1.0"
      ],
      "metadata": {
        "id": "UV06thmQaL4g"
      }
    },
    {
      "cell_type": "code",
      "source": [
        "# Square Root Transformation of the dependent variable\n",
        "\n",
        "df['Rented Bike Count'] = np.sqrt(df['Rented Bike Count'])"
      ],
      "metadata": {
        "id": "9hN7uAtWESCB"
      },
      "execution_count": 100,
      "outputs": []
    },
    {
      "cell_type": "markdown",
      "source": [
        "### **Distribution of the square root transformed rented bike count**"
      ],
      "metadata": {
        "id": "L8X6KTbAMiis"
      }
    },
    {
      "cell_type": "code",
      "source": [
        "# Defining the plot size\n",
        "plt.figure(figsize=(8,5))\n",
        "\n",
        "# Plotting a distribution plot\n",
        "figure = sns.distplot(df['Rented Bike Count'])\n",
        "\n",
        "# Defining the title and x and y labels\n",
        "figure.set(title='Distribution of square roots of the rented bikes')\n",
        "figure.set(xlabel='Bikes Rented')\n",
        "\n",
        "# Displaying the graph\n",
        "plt.show(figure)"
      ],
      "metadata": {
        "colab": {
          "base_uri": "https://localhost:8080/",
          "height": 350
        },
        "id": "OzcfxV3J758b",
        "outputId": "63f03468-0608-40a6-9818-9d46eb3523c9"
      },
      "execution_count": 101,
      "outputs": [
        {
          "output_type": "display_data",
          "data": {
            "text/plain": [
              "<Figure size 576x360 with 1 Axes>"
            ],
            "image/png": "[encoded data removed]"
          },
          "metadata": {
            "needs_background": "light"
          }
        }
      ]
    },
    {
      "cell_type": "code",
      "source": [
        "# Checking the skewness of the square root transformed dependent variable\n",
        "\n",
        "df['Rented Bike Count'].agg(['skew'])"
      ],
      "metadata": {
        "id": "ostxqiRumnBc",
        "colab": {
          "base_uri": "https://localhost:8080/"
        },
        "outputId": "5319524b-3ffe-48de-f56d-b04275ac10a3"
      },
      "execution_count": 102,
      "outputs": [
        {
          "output_type": "execute_result",
          "data": {
            "text/plain": [
              "skew    0.346703\n",
              "Name: Rented Bike Count, dtype: float64"
            ]
          },
          "metadata": {},
          "execution_count": 102
        }
      ]
    },
    {
      "cell_type": "markdown",
      "source": [
        "Now the graph is normally distributed"
      ],
      "metadata": {
        "id": "F19ogaYKMx37"
      }
    },
    {
      "cell_type": "markdown",
      "source": [
        "### **Distribution plots of all the rest continuous independent variables**"
      ],
      "metadata": {
        "id": "knTC70RAM8Ps"
      }
    },
    {
      "cell_type": "code",
      "source": [
        "# Storing the continuous independent variables in a list\n",
        "independent_variables = ['Temperature(°C)', 'Humidity(%)', 'Visibility (10m)', 'Solar Radiation (MJ/m2)']\n",
        "\n",
        "# Running a for loop to plot the distribution plot of all the continuous independent variables\n",
        "for i in independent_variables:\n",
        "  plt.figure(figsize=(8,5))\n",
        "  figure = sns.distplot(df[i])\n",
        "  figure.set(title=f'Distribution of {i}')\n",
        "  figure.set(xlabel=i)\n",
        "  plt.show(figure)\n",
        "  print(('---')*50)"
      ],
      "metadata": {
        "id": "pZBu2QAmmm6K",
        "colab": {
          "base_uri": "https://localhost:8080/",
          "height": 1000
        },
        "outputId": "9911da5f-4078-44fc-d2f0-7fe46e437e28"
      },
      "execution_count": 103,
      "outputs": [
        {
          "output_type": "display_data",
          "data": {
            "text/plain": [
              "<Figure size 576x360 with 1 Axes>"
            ],
            "image/png": "[encoded data removed]"
          },
          "metadata": {
            "needs_background": "light"
          }
        },
        {
          "output_type": "stream",
          "name": "stdout",
          "text": [
            "------------------------------------------------------------------------------------------------------------------------------------------------------\n"
          ]
        },
        {
          "output_type": "display_data",
          "data": {
            "text/plain": [
              "<Figure size 576x360 with 1 Axes>"
            ],
            "image/png": "[encoded data removed]"
          },
          "metadata": {
            "needs_background": "light"
          }
        },
        {
          "output_type": "stream",
          "name": "stdout",
          "text": [
            "------------------------------------------------------------------------------------------------------------------------------------------------------\n"
          ]
        },
        {
          "output_type": "display_data",
          "data": {
            "text/plain": [
              "<Figure size 576x360 with 1 Axes>"
            ],
            "image/png": "[encoded data removed]"
          },
          "metadata": {
            "needs_background": "light"
          }
        },
        {
          "output_type": "stream",
          "name": "stdout",
          "text": [
            "------------------------------------------------------------------------------------------------------------------------------------------------------\n"
          ]
        },
        {
          "output_type": "display_data",
          "data": {
            "text/plain": [
              "<Figure size 576x360 with 1 Axes>"
            ],
            "image/png": "[encoded data removed]"
          },
          "metadata": {
            "needs_background": "light"
          }
        },
        {
          "output_type": "stream",
          "name": "stdout",
          "text": [
            "------------------------------------------------------------------------------------------------------------------------------------------------------\n"
          ]
        }
      ]
    },
    {
      "cell_type": "markdown",
      "source": [
        "### **Boxplot of the dependent variable (Rented Bike Count)**"
      ],
      "metadata": {
        "id": "uhXcAfOKOEuo"
      }
    },
    {
      "cell_type": "code",
      "source": [
        "# Defining the plot size\n",
        "plt.figure(figsize=(8,5))\n",
        "\n",
        "# Plotting a boxplot\n",
        "figure = sns.boxplot(df['Rented Bike Count'])\n",
        "\n",
        "# Defining the title and x and y labels\n",
        "figure.set(title='Distribution of Rented Bikes')\n",
        "figure.set(xlabel='Bikes Rented')\n",
        "\n",
        "# Displaying the graph\n",
        "plt.show(figure)"
      ],
      "metadata": {
        "id": "KyPpqjbZmmwg",
        "colab": {
          "base_uri": "https://localhost:8080/",
          "height": 350
        },
        "outputId": "fe5e20bc-a13a-4c7c-8cb7-40319e8f4a68"
      },
      "execution_count": 104,
      "outputs": [
        {
          "output_type": "display_data",
          "data": {
            "text/plain": [
              "<Figure size 576x360 with 1 Axes>"
            ],
            "image/png": "[encoded data removed]"
          },
          "metadata": {
            "needs_background": "light"
          }
        }
      ]
    },
    {
      "cell_type": "markdown",
      "source": [
        "The dependent variable is evenly distributed now after the square root transformation"
      ],
      "metadata": {
        "id": "4YVgYjrCOPNa"
      }
    },
    {
      "cell_type": "markdown",
      "source": [
        "### **Boxplots of the rest continuous independent variables**"
      ],
      "metadata": {
        "id": "9vDa3rmUOWXx"
      }
    },
    {
      "cell_type": "code",
      "source": [
        "# Running a for loop to plot the boxplot of all the continuous independent variables\n",
        "for i in independent_variables:\n",
        "  plt.figure(figsize=(8,5))\n",
        "  figure = sns.boxplot(df[i])\n",
        "  figure.set(title=f'Distribution of {i}')\n",
        "  figure.set(xlabel=i)\n",
        "  plt.show(figure)\n",
        "  print(('---')*50)"
      ],
      "metadata": {
        "id": "IMhbq5kxmmom",
        "colab": {
          "base_uri": "https://localhost:8080/",
          "height": 1000
        },
        "outputId": "7788b7df-3d81-4dd2-de4d-3e823eecebc0"
      },
      "execution_count": 105,
      "outputs": [
        {
          "output_type": "display_data",
          "data": {
            "text/plain": [
              "<Figure size 576x360 with 1 Axes>"
            ],
            "image/png": "[encoded data removed]"
          },
          "metadata": {
            "needs_background": "light"
          }
        },
        {
          "output_type": "stream",
          "name": "stdout",
          "text": [
            "------------------------------------------------------------------------------------------------------------------------------------------------------\n"
          ]
        },
        {
          "output_type": "display_data",
          "data": {
            "text/plain": [
              "<Figure size 576x360 with 1 Axes>"
            ],
            "image/png": "[encoded data removed]"
          },
          "metadata": {
            "needs_background": "light"
          }
        },
        {
          "output_type": "stream",
          "name": "stdout",
          "text": [
            "------------------------------------------------------------------------------------------------------------------------------------------------------\n"
          ]
        },
        {
          "output_type": "display_data",
          "data": {
            "text/plain": [
              "<Figure size 576x360 with 1 Axes>"
            ],
            "image/png": "[encoded data removed]"
          },
          "metadata": {
            "needs_background": "light"
          }
        },
        {
          "output_type": "stream",
          "name": "stdout",
          "text": [
            "------------------------------------------------------------------------------------------------------------------------------------------------------\n"
          ]
        },
        {
          "output_type": "display_data",
          "data": {
            "text/plain": [
              "<Figure size 576x360 with 1 Axes>"
            ],
            "image/png": "[encoded data removed]"
          },
          "metadata": {
            "needs_background": "light"
          }
        },
        {
          "output_type": "stream",
          "name": "stdout",
          "text": [
            "------------------------------------------------------------------------------------------------------------------------------------------------------\n"
          ]
        }
      ]
    },
    {
      "cell_type": "markdown",
      "source": [
        "## **Data Preparation for Modelling**"
      ],
      "metadata": {
        "id": "u4NDqFVecg3K"
      }
    },
    {
      "cell_type": "code",
      "source": [
        "# Converting the 'Month' and 'Day' columns to numerical values for modelling\n",
        "\n",
        "df['Month'] = df['Date'].dt.month\n",
        "df['Day'] =df['Date'].dt.weekday"
      ],
      "metadata": {
        "id": "vvGHf1IB-WLI"
      },
      "execution_count": 106,
      "outputs": []
    },
    {
      "cell_type": "code",
      "source": [
        "# Creating numerical values from categorical columns 'Seasons', 'Holiday', and 'Year' for modelling\n",
        "\n",
        "df = pd.get_dummies(df, columns=['Seasons', 'Holiday', 'Year'], drop_first=True)"
      ],
      "metadata": {
        "id": "oM-QYst3_BxE"
      },
      "execution_count": 107,
      "outputs": []
    },
    {
      "cell_type": "code",
      "source": [
        "# Selecting the columns which are not required for the modelling\n",
        "drop_cols = ['Date', 'Dew point temperature(°C)', 'Wind speed (m/s)', 'Functioning Day']\n",
        "\n",
        "# Dropping the columns which are not required for modelling\n",
        "df.drop(drop_cols, axis=1, inplace=True)"
      ],
      "metadata": {
        "id": "598U2LYL_ye3"
      },
      "execution_count": 108,
      "outputs": []
    },
    {
      "cell_type": "code",
      "source": [
        "# Splitting the data into X and Y as independent and dependent variables respectively \n",
        "\n",
        "X = df.drop('Rented Bike Count', axis=1)\n",
        "Y = df['Rented Bike Count']"
      ],
      "metadata": {
        "id": "Y4qVlFTRBLYt"
      },
      "execution_count": 109,
      "outputs": []
    },
    {
      "cell_type": "code",
      "source": [
        "# Splitting the dataset into 20:80 ratio as test and train data respectively\n",
        "\n",
        "X_train, X_test, Y_train, Y_test = train_test_split(X, Y, test_size=0.2, shuffle=True)"
      ],
      "metadata": {
        "id": "3wD1S2lFA340"
      },
      "execution_count": 110,
      "outputs": []
    },
    {
      "cell_type": "code",
      "source": [
        "# Scaling the dataset for making all the values come in a common range\n",
        "\n",
        "std = StandardScaler()\n",
        "X_train = std.fit_transform(X_train)\n",
        "X_test = std.transform(X_test)"
      ],
      "metadata": {
        "id": "MRVJ-lcKAavu"
      },
      "execution_count": 111,
      "outputs": []
    },
    {
      "cell_type": "code",
      "source": [
        "# Transforming the data in gaussian form for better results\n",
        "\n",
        "power = PowerTransformer(method='yeo-johnson')\n",
        "X_train = power.fit_transform(X_train)"
      ],
      "metadata": {
        "id": "kz6Y5QyVDENY"
      },
      "execution_count": 112,
      "outputs": []
    },
    {
      "cell_type": "markdown",
      "source": [
        "## **Modelling:**"
      ],
      "metadata": {
        "id": "KZhfZnLalAj2"
      }
    },
    {
      "cell_type": "code",
      "source": [
        "# Storing all the algorithms in a list\n",
        "\n",
        "models = []\n",
        "models.append(('Linear Regression', LinearRegression()))\n",
        "models.append(('Ridge', Ridge()))\n",
        "models.append(('Lasso', Lasso()))\n",
        "models.append(('SVR', SVR()))\n",
        "models.append(('Decision Tree Regressor', DecisionTreeRegressor()))\n",
        "models.append(('Random Forest Regressor', RandomForestRegressor()))\n",
        "models.append(('Gradient Boosting', GradientBoostingRegressor()))\n",
        "models.append(('XGB Regressor', XGBRegressor()))"
      ],
      "metadata": {
        "id": "mPc0kNMRCEX4"
      },
      "execution_count": 113,
      "outputs": []
    },
    {
      "cell_type": "code",
      "source": [
        "# Calculating the 'r2' score for all the algorithms using cross validation\n",
        "\n",
        "scores = {}\n",
        "for name, model in models:\n",
        "  score = np.mean(cross_val_score(model, X_train, Y_train, cv=10, scoring='r2'))\n",
        "  scores[name] = score"
      ],
      "metadata": {
        "id": "nq2D1inzCIK-",
        "colab": {
          "base_uri": "https://localhost:8080/"
        },
        "outputId": "d1ebd5a9-0a02-42ec-9c88-32efb61b123b"
      },
      "execution_count": 114,
      "outputs": [
        {
          "output_type": "stream",
          "name": "stdout",
          "text": [
            "[12:32:11] WARNING: /workspace/src/objective/regression_obj.cu:152: reg:linear is now deprecated in favor of reg:squarederror.\n",
            "[12:32:11] WARNING: /workspace/src/objective/regression_obj.cu:152: reg:linear is now deprecated in favor of reg:squarederror.\n",
            "[12:32:11] WARNING: /workspace/src/objective/regression_obj.cu:152: reg:linear is now deprecated in favor of reg:squarederror.\n",
            "[12:32:12] WARNING: /workspace/src/objective/regression_obj.cu:152: reg:linear is now deprecated in favor of reg:squarederror.\n",
            "[12:32:12] WARNING: /workspace/src/objective/regression_obj.cu:152: reg:linear is now deprecated in favor of reg:squarederror.\n",
            "[12:32:12] WARNING: /workspace/src/objective/regression_obj.cu:152: reg:linear is now deprecated in favor of reg:squarederror.\n",
            "[12:32:13] WARNING: /workspace/src/objective/regression_obj.cu:152: reg:linear is now deprecated in favor of reg:squarederror.\n",
            "[12:32:13] WARNING: /workspace/src/objective/regression_obj.cu:152: reg:linear is now deprecated in favor of reg:squarederror.\n",
            "[12:32:14] WARNING: /workspace/src/objective/regression_obj.cu:152: reg:linear is now deprecated in favor of reg:squarederror.\n",
            "[12:32:14] WARNING: /workspace/src/objective/regression_obj.cu:152: reg:linear is now deprecated in favor of reg:squarederror.\n"
          ]
        }
      ]
    },
    {
      "cell_type": "code",
      "source": [
        "# Printing the 'r2' score of all the algorithms\n",
        "\n",
        "print('R2 score of all the algorithms are:')\n",
        "scores"
      ],
      "metadata": {
        "id": "DtCFsxnJCWfp",
        "colab": {
          "base_uri": "https://localhost:8080/"
        },
        "outputId": "8971edb6-a31a-4c0c-e8b8-0910dc04cc9d"
      },
      "execution_count": 115,
      "outputs": [
        {
          "output_type": "stream",
          "name": "stdout",
          "text": [
            "R2 score of all the algorithms are:\n"
          ]
        },
        {
          "output_type": "execute_result",
          "data": {
            "text/plain": [
              "{'Decision Tree Regressor': 0.8195733474953888,\n",
              " 'Gradient Boosting': 0.8752114170098192,\n",
              " 'Lasso': 0.6078468475290153,\n",
              " 'Linear Regression': 0.6469629510423128,\n",
              " 'Random Forest Regressor': 0.9064268629024514,\n",
              " 'Ridge': 0.6469636348323571,\n",
              " 'SVR': 0.7574736256282836,\n",
              " 'XGB Regressor': 0.8754381208552722}"
            ]
          },
          "metadata": {},
          "execution_count": 115
        }
      ]
    },
    {
      "cell_type": "markdown",
      "source": [
        "### **R2 Score of the algorithms**"
      ],
      "metadata": {
        "id": "Ad6wzhn7X2RL"
      }
    },
    {
      "cell_type": "code",
      "source": [
        "# Defining plot size\n",
        "plt.figure(figsize=(12,7))\n",
        "\n",
        "# Plotting a bargraph\n",
        "figure = sns.barplot(x=list(scores.keys()),y=list(scores.values()))\n",
        "\n",
        "# Defining the title, xticks rotation and x and y labels\n",
        "plt.xticks(rotation=45)\n",
        "figure.set(title='R2 Score of the algorithms')\n",
        "figure.set(xlabel='Algorithms', ylabel='R2 Score')\n",
        "\n",
        "# Displaying the graph\n",
        "plt.show(figure)"
      ],
      "metadata": {
        "id": "gCKj7EdlCtj5",
        "colab": {
          "base_uri": "https://localhost:8080/",
          "height": 546
        },
        "outputId": "35aa3bdc-4239-4138-ffbf-ebca3e80704b"
      },
      "execution_count": 116,
      "outputs": [
        {
          "output_type": "display_data",
          "data": {
            "text/plain": [
              "<Figure size 864x504 with 1 Axes>"
            ],
            "image/png": "[encoded data removed]"
          },
          "metadata": {
            "needs_background": "light"
          }
        }
      ]
    },
    {
      "cell_type": "markdown",
      "source": [
        "### **Hyper-Parameter Tuning of Random Forest Regressor:**"
      ],
      "metadata": {
        "id": "wHbMVYJCnkOB"
      }
    },
    {
      "cell_type": "code",
      "source": [
        "# Initializing the Random Forest Regressor Model\n",
        "model_rf = RandomForestRegressor(random_state = 42)\n",
        "\n",
        "# Getting the parameters used by the Random Forest Regressor Model\n",
        "print('Parameters currently in use:\\n')\n",
        "model_rf.get_params()"
      ],
      "metadata": {
        "id": "QNbsAXBmFR8X",
        "colab": {
          "base_uri": "https://localhost:8080/"
        },
        "outputId": "c984c011-39a2-4b13-9cd7-2a9f64a29cc6"
      },
      "execution_count": 117,
      "outputs": [
        {
          "output_type": "stream",
          "name": "stdout",
          "text": [
            "Parameters currently in use:\n",
            "\n"
          ]
        },
        {
          "output_type": "execute_result",
          "data": {
            "text/plain": [
              "{'bootstrap': True,\n",
              " 'ccp_alpha': 0.0,\n",
              " 'criterion': 'squared_error',\n",
              " 'max_depth': None,\n",
              " 'max_features': 'auto',\n",
              " 'max_leaf_nodes': None,\n",
              " 'max_samples': None,\n",
              " 'min_impurity_decrease': 0.0,\n",
              " 'min_samples_leaf': 1,\n",
              " 'min_samples_split': 2,\n",
              " 'min_weight_fraction_leaf': 0.0,\n",
              " 'n_estimators': 100,\n",
              " 'n_jobs': None,\n",
              " 'oob_score': False,\n",
              " 'random_state': 42,\n",
              " 'verbose': 0,\n",
              " 'warm_start': False}"
            ]
          },
          "metadata": {},
          "execution_count": 117
        }
      ]
    },
    {
      "cell_type": "code",
      "source": [
        "# Giving a range of values to the hyper-parameters to select the best from it\n",
        "\n",
        "# Number of trees\n",
        "n_estimators = [int(x) for x in np.linspace(start = 200, stop = 2000, num = 10)]\n",
        "\n",
        "# Maximum number of levels in tree\n",
        "max_depth = [int(x) for x in np.linspace(10, 110, num = 11)]\n",
        "\n",
        "# Minimum number of samples required to split a node\n",
        "min_samples_split = range(2, 10)\n",
        "\n",
        "# Minimum number of samples required at each leaf node\n",
        "min_samples_leaf = range(2, 10)\n",
        "\n",
        "# Method of selecting samples for training each tree\n",
        "bootstrap = [True, False]\n",
        "\n",
        "# Create a dictionary of all the hyper-parameters\n",
        "random_grid = {'n_estimators': n_estimators,\n",
        "               'max_depth': max_depth,\n",
        "               'min_samples_split': min_samples_split,\n",
        "               'min_samples_leaf': min_samples_leaf,\n",
        "               'bootstrap': bootstrap}"
      ],
      "metadata": {
        "id": "q_LLqF6I__JN"
      },
      "execution_count": 118,
      "outputs": []
    },
    {
      "cell_type": "code",
      "source": [
        "# using Random Search CV to find the best parameters for the model\n",
        "rf_random = RandomizedSearchCV(estimator=model_rf, param_distributions=random_grid, cv = 10, verbose=2, random_state=42, scoring='r2')\n",
        "\n",
        "# Fitting the model with the training dataset\n",
        "rf_random.fit(X_train, Y_train)"
      ],
      "metadata": {
        "colab": {
          "base_uri": "https://localhost:8080/"
        },
        "id": "pRolNC3BoVb3",
        "outputId": "ab11c914-f51b-4938-80d9-6b384e319ece"
      },
      "execution_count": 119,
      "outputs": [
        {
          "output_type": "stream",
          "name": "stdout",
          "text": [
            "Fitting 10 folds for each of 10 candidates, totalling 100 fits\n",
            "[CV] END bootstrap=False, max_depth=10, min_samples_leaf=4, min_samples_split=9, n_estimators=200; total time=   4.5s\n",
            "[CV] END bootstrap=False, max_depth=10, min_samples_leaf=4, min_samples_split=9, n_estimators=200; total time=   4.5s\n",
            "[CV] END bootstrap=False, max_depth=10, min_samples_leaf=4, min_samples_split=9, n_estimators=200; total time=   4.5s\n",
            "[CV] END bootstrap=False, max_depth=10, min_samples_leaf=4, min_samples_split=9, n_estimators=200; total time=   4.5s\n",
            "[CV] END bootstrap=False, max_depth=10, min_samples_leaf=4, min_samples_split=9, n_estimators=200; total time=   4.5s\n",
            "[CV] END bootstrap=False, max_depth=10, min_samples_leaf=4, min_samples_split=9, n_estimators=200; total time=   4.5s\n",
            "[CV] END bootstrap=False, max_depth=10, min_samples_leaf=4, min_samples_split=9, n_estimators=200; total time=   4.5s\n",
            "[CV] END bootstrap=False, max_depth=10, min_samples_leaf=4, min_samples_split=9, n_estimators=200; total time=   4.5s\n",
            "[CV] END bootstrap=False, max_depth=10, min_samples_leaf=4, min_samples_split=9, n_estimators=200; total time=   4.5s\n",
            "[CV] END bootstrap=False, max_depth=10, min_samples_leaf=4, min_samples_split=9, n_estimators=200; total time=   4.5s\n",
            "[CV] END bootstrap=True, max_depth=20, min_samples_leaf=4, min_samples_split=8, n_estimators=200; total time=   3.7s\n",
            "[CV] END bootstrap=True, max_depth=20, min_samples_leaf=4, min_samples_split=8, n_estimators=200; total time=   3.7s\n",
            "[CV] END bootstrap=True, max_depth=20, min_samples_leaf=4, min_samples_split=8, n_estimators=200; total time=   3.7s\n",
            "[CV] END bootstrap=True, max_depth=20, min_samples_leaf=4, min_samples_split=8, n_estimators=200; total time=   3.7s\n",
            "[CV] END bootstrap=True, max_depth=20, min_samples_leaf=4, min_samples_split=8, n_estimators=200; total time=   3.8s\n",
            "[CV] END bootstrap=True, max_depth=20, min_samples_leaf=4, min_samples_split=8, n_estimators=200; total time=   3.7s\n",
            "[CV] END bootstrap=True, max_depth=20, min_samples_leaf=4, min_samples_split=8, n_estimators=200; total time=   3.7s\n",
            "[CV] END bootstrap=True, max_depth=20, min_samples_leaf=4, min_samples_split=8, n_estimators=200; total time=   3.8s\n",
            "[CV] END bootstrap=True, max_depth=20, min_samples_leaf=4, min_samples_split=8, n_estimators=200; total time=   3.7s\n",
            "[CV] END bootstrap=True, max_depth=20, min_samples_leaf=4, min_samples_split=8, n_estimators=200; total time=   3.7s\n",
            "[CV] END bootstrap=True, max_depth=90, min_samples_leaf=5, min_samples_split=5, n_estimators=200; total time=   3.6s\n",
            "[CV] END bootstrap=True, max_depth=90, min_samples_leaf=5, min_samples_split=5, n_estimators=200; total time=   3.6s\n",
            "[CV] END bootstrap=True, max_depth=90, min_samples_leaf=5, min_samples_split=5, n_estimators=200; total time=   3.6s\n",
            "[CV] END bootstrap=True, max_depth=90, min_samples_leaf=5, min_samples_split=5, n_estimators=200; total time=   3.6s\n",
            "[CV] END bootstrap=True, max_depth=90, min_samples_leaf=5, min_samples_split=5, n_estimators=200; total time=   3.6s\n",
            "[CV] END bootstrap=True, max_depth=90, min_samples_leaf=5, min_samples_split=5, n_estimators=200; total time=   3.6s\n",
            "[CV] END bootstrap=True, max_depth=90, min_samples_leaf=5, min_samples_split=5, n_estimators=200; total time=   3.6s\n",
            "[CV] END bootstrap=True, max_depth=90, min_samples_leaf=5, min_samples_split=5, n_estimators=200; total time=   3.6s\n",
            "[CV] END bootstrap=True, max_depth=90, min_samples_leaf=5, min_samples_split=5, n_estimators=200; total time=   3.6s\n",
            "[CV] END bootstrap=True, max_depth=90, min_samples_leaf=5, min_samples_split=5, n_estimators=200; total time=   3.6s\n",
            "[CV] END bootstrap=False, max_depth=100, min_samples_leaf=9, min_samples_split=7, n_estimators=1800; total time=  45.4s\n",
            "[CV] END bootstrap=False, max_depth=100, min_samples_leaf=9, min_samples_split=7, n_estimators=1800; total time=  45.4s\n",
            "[CV] END bootstrap=False, max_depth=100, min_samples_leaf=9, min_samples_split=7, n_estimators=1800; total time=  46.2s\n",
            "[CV] END bootstrap=False, max_depth=100, min_samples_leaf=9, min_samples_split=7, n_estimators=1800; total time=  46.7s\n",
            "[CV] END bootstrap=False, max_depth=100, min_samples_leaf=9, min_samples_split=7, n_estimators=1800; total time=  45.3s\n",
            "[CV] END bootstrap=False, max_depth=100, min_samples_leaf=9, min_samples_split=7, n_estimators=1800; total time=  45.8s\n",
            "[CV] END bootstrap=False, max_depth=100, min_samples_leaf=9, min_samples_split=7, n_estimators=1800; total time=  45.6s\n",
            "[CV] END bootstrap=False, max_depth=100, min_samples_leaf=9, min_samples_split=7, n_estimators=1800; total time=  45.5s\n",
            "[CV] END bootstrap=False, max_depth=100, min_samples_leaf=9, min_samples_split=7, n_estimators=1800; total time=  46.2s\n",
            "[CV] END bootstrap=False, max_depth=100, min_samples_leaf=9, min_samples_split=7, n_estimators=1800; total time=  45.8s\n",
            "[CV] END bootstrap=True, max_depth=90, min_samples_leaf=2, min_samples_split=9, n_estimators=400; total time=   7.7s\n",
            "[CV] END bootstrap=True, max_depth=90, min_samples_leaf=2, min_samples_split=9, n_estimators=400; total time=   7.7s\n",
            "[CV] END bootstrap=True, max_depth=90, min_samples_leaf=2, min_samples_split=9, n_estimators=400; total time=   7.7s\n",
            "[CV] END bootstrap=True, max_depth=90, min_samples_leaf=2, min_samples_split=9, n_estimators=400; total time=   7.8s\n",
            "[CV] END bootstrap=True, max_depth=90, min_samples_leaf=2, min_samples_split=9, n_estimators=400; total time=   7.7s\n",
            "[CV] END bootstrap=True, max_depth=90, min_samples_leaf=2, min_samples_split=9, n_estimators=400; total time=   7.8s\n",
            "[CV] END bootstrap=True, max_depth=90, min_samples_leaf=2, min_samples_split=9, n_estimators=400; total time=   7.7s\n",
            "[CV] END bootstrap=True, max_depth=90, min_samples_leaf=2, min_samples_split=9, n_estimators=400; total time=   7.7s\n",
            "[CV] END bootstrap=True, max_depth=90, min_samples_leaf=2, min_samples_split=9, n_estimators=400; total time=   7.7s\n",
            "[CV] END bootstrap=True, max_depth=90, min_samples_leaf=2, min_samples_split=9, n_estimators=400; total time=   7.8s\n",
            "[CV] END bootstrap=False, max_depth=80, min_samples_leaf=7, min_samples_split=6, n_estimators=1000; total time=  26.5s\n",
            "[CV] END bootstrap=False, max_depth=80, min_samples_leaf=7, min_samples_split=6, n_estimators=1000; total time=  26.3s\n",
            "[CV] END bootstrap=False, max_depth=80, min_samples_leaf=7, min_samples_split=6, n_estimators=1000; total time=  26.6s\n",
            "[CV] END bootstrap=False, max_depth=80, min_samples_leaf=7, min_samples_split=6, n_estimators=1000; total time=  26.9s\n",
            "[CV] END bootstrap=False, max_depth=80, min_samples_leaf=7, min_samples_split=6, n_estimators=1000; total time=  26.2s\n",
            "[CV] END bootstrap=False, max_depth=80, min_samples_leaf=7, min_samples_split=6, n_estimators=1000; total time=  26.6s\n",
            "[CV] END bootstrap=False, max_depth=80, min_samples_leaf=7, min_samples_split=6, n_estimators=1000; total time=  26.5s\n",
            "[CV] END bootstrap=False, max_depth=80, min_samples_leaf=7, min_samples_split=6, n_estimators=1000; total time=  26.6s\n",
            "[CV] END bootstrap=False, max_depth=80, min_samples_leaf=7, min_samples_split=6, n_estimators=1000; total time=  26.7s\n",
            "[CV] END bootstrap=False, max_depth=80, min_samples_leaf=7, min_samples_split=6, n_estimators=1000; total time=  26.8s\n",
            "[CV] END bootstrap=False, max_depth=70, min_samples_leaf=7, min_samples_split=2, n_estimators=1000; total time=  26.4s\n",
            "[CV] END bootstrap=False, max_depth=70, min_samples_leaf=7, min_samples_split=2, n_estimators=1000; total time=  26.4s\n",
            "[CV] END bootstrap=False, max_depth=70, min_samples_leaf=7, min_samples_split=2, n_estimators=1000; total time=  26.6s\n",
            "[CV] END bootstrap=False, max_depth=70, min_samples_leaf=7, min_samples_split=2, n_estimators=1000; total time=  26.9s\n",
            "[CV] END bootstrap=False, max_depth=70, min_samples_leaf=7, min_samples_split=2, n_estimators=1000; total time=  26.2s\n",
            "[CV] END bootstrap=False, max_depth=70, min_samples_leaf=7, min_samples_split=2, n_estimators=1000; total time=  26.5s\n",
            "[CV] END bootstrap=False, max_depth=70, min_samples_leaf=7, min_samples_split=2, n_estimators=1000; total time=  26.5s\n",
            "[CV] END bootstrap=False, max_depth=70, min_samples_leaf=7, min_samples_split=2, n_estimators=1000; total time=  26.5s\n",
            "[CV] END bootstrap=False, max_depth=70, min_samples_leaf=7, min_samples_split=2, n_estimators=1000; total time=  26.8s\n",
            "[CV] END bootstrap=False, max_depth=70, min_samples_leaf=7, min_samples_split=2, n_estimators=1000; total time=  26.8s\n",
            "[CV] END bootstrap=True, max_depth=90, min_samples_leaf=9, min_samples_split=7, n_estimators=1000; total time=  16.1s\n",
            "[CV] END bootstrap=True, max_depth=90, min_samples_leaf=9, min_samples_split=7, n_estimators=1000; total time=  16.1s\n",
            "[CV] END bootstrap=True, max_depth=90, min_samples_leaf=9, min_samples_split=7, n_estimators=1000; total time=  16.1s\n",
            "[CV] END bootstrap=True, max_depth=90, min_samples_leaf=9, min_samples_split=7, n_estimators=1000; total time=  16.2s\n",
            "[CV] END bootstrap=True, max_depth=90, min_samples_leaf=9, min_samples_split=7, n_estimators=1000; total time=  16.1s\n",
            "[CV] END bootstrap=True, max_depth=90, min_samples_leaf=9, min_samples_split=7, n_estimators=1000; total time=  16.1s\n",
            "[CV] END bootstrap=True, max_depth=90, min_samples_leaf=9, min_samples_split=7, n_estimators=1000; total time=  16.1s\n",
            "[CV] END bootstrap=True, max_depth=90, min_samples_leaf=9, min_samples_split=7, n_estimators=1000; total time=  16.0s\n",
            "[CV] END bootstrap=True, max_depth=90, min_samples_leaf=9, min_samples_split=7, n_estimators=1000; total time=  16.1s\n",
            "[CV] END bootstrap=True, max_depth=90, min_samples_leaf=9, min_samples_split=7, n_estimators=1000; total time=  16.2s\n",
            "[CV] END bootstrap=True, max_depth=100, min_samples_leaf=8, min_samples_split=4, n_estimators=1200; total time=  19.7s\n",
            "[CV] END bootstrap=True, max_depth=100, min_samples_leaf=8, min_samples_split=4, n_estimators=1200; total time=  19.7s\n",
            "[CV] END bootstrap=True, max_depth=100, min_samples_leaf=8, min_samples_split=4, n_estimators=1200; total time=  19.7s\n",
            "[CV] END bootstrap=True, max_depth=100, min_samples_leaf=8, min_samples_split=4, n_estimators=1200; total time=  19.9s\n",
            "[CV] END bootstrap=True, max_depth=100, min_samples_leaf=8, min_samples_split=4, n_estimators=1200; total time=  19.8s\n",
            "[CV] END bootstrap=True, max_depth=100, min_samples_leaf=8, min_samples_split=4, n_estimators=1200; total time=  19.8s\n",
            "[CV] END bootstrap=True, max_depth=100, min_samples_leaf=8, min_samples_split=4, n_estimators=1200; total time=  19.7s\n",
            "[CV] END bootstrap=True, max_depth=100, min_samples_leaf=8, min_samples_split=4, n_estimators=1200; total time=  19.7s\n",
            "[CV] END bootstrap=True, max_depth=100, min_samples_leaf=8, min_samples_split=4, n_estimators=1200; total time=  19.7s\n",
            "[CV] END bootstrap=True, max_depth=100, min_samples_leaf=8, min_samples_split=4, n_estimators=1200; total time=  19.9s\n",
            "[CV] END bootstrap=True, max_depth=10, min_samples_leaf=7, min_samples_split=8, n_estimators=1400; total time=  20.7s\n",
            "[CV] END bootstrap=True, max_depth=10, min_samples_leaf=7, min_samples_split=8, n_estimators=1400; total time=  20.6s\n",
            "[CV] END bootstrap=True, max_depth=10, min_samples_leaf=7, min_samples_split=8, n_estimators=1400; total time=  20.5s\n",
            "[CV] END bootstrap=True, max_depth=10, min_samples_leaf=7, min_samples_split=8, n_estimators=1400; total time=  20.6s\n",
            "[CV] END bootstrap=True, max_depth=10, min_samples_leaf=7, min_samples_split=8, n_estimators=1400; total time=  20.7s\n",
            "[CV] END bootstrap=True, max_depth=10, min_samples_leaf=7, min_samples_split=8, n_estimators=1400; total time=  20.6s\n",
            "[CV] END bootstrap=True, max_depth=10, min_samples_leaf=7, min_samples_split=8, n_estimators=1400; total time=  20.7s\n",
            "[CV] END bootstrap=True, max_depth=10, min_samples_leaf=7, min_samples_split=8, n_estimators=1400; total time=  20.7s\n",
            "[CV] END bootstrap=True, max_depth=10, min_samples_leaf=7, min_samples_split=8, n_estimators=1400; total time=  20.6s\n",
            "[CV] END bootstrap=True, max_depth=10, min_samples_leaf=7, min_samples_split=8, n_estimators=1400; total time=  20.6s\n"
          ]
        },
        {
          "output_type": "execute_result",
          "data": {
            "text/plain": [
              "RandomizedSearchCV(cv=10, estimator=RandomForestRegressor(random_state=42),\n",
              "                   param_distributions={'bootstrap': [True, False],\n",
              "                                        'max_depth': [10, 20, 30, 40, 50, 60,\n",
              "                                                      70, 80, 90, 100, 110],\n",
              "                                        'min_samples_leaf': range(2, 10),\n",
              "                                        'min_samples_split': range(2, 10),\n",
              "                                        'n_estimators': [200, 400, 600, 800,\n",
              "                                                         1000, 1200, 1400, 1600,\n",
              "                                                         1800, 2000]},\n",
              "                   random_state=42, scoring='r2', verbose=2)"
            ]
          },
          "metadata": {},
          "execution_count": 119
        }
      ]
    },
    {
      "cell_type": "code",
      "source": [
        "# Getting the best parameters after the Random Search Cross Validation\n",
        "\n",
        "rf_random.best_params_"
      ],
      "metadata": {
        "colab": {
          "base_uri": "https://localhost:8080/"
        },
        "id": "3GznXzSk9qZp",
        "outputId": "bde54344-6ce3-4a29-8d13-acf0e0adac8b"
      },
      "execution_count": 120,
      "outputs": [
        {
          "output_type": "execute_result",
          "data": {
            "text/plain": [
              "{'bootstrap': True,\n",
              " 'max_depth': 90,\n",
              " 'min_samples_leaf': 2,\n",
              " 'min_samples_split': 9,\n",
              " 'n_estimators': 400}"
            ]
          },
          "metadata": {},
          "execution_count": 120
        }
      ]
    },
    {
      "cell_type": "code",
      "source": [
        "# Storing the best parameters in a variables\n",
        "rf_best_parameters = rf_random.best_params_\n",
        "\n",
        "# Using the best parameters to train the model\n",
        "rf_model = RandomForestRegressor(bootstrap = rf_best_parameters['bootstrap'],\n",
        "                                 max_depth = rf_best_parameters['max_depth'],\n",
        "                                 min_samples_leaf = rf_best_parameters['min_samples_leaf'],\n",
        "                                 min_samples_split = rf_best_parameters['min_samples_split'],\n",
        "                                 n_estimators = rf_best_parameters['n_estimators'])\n",
        "\n",
        "# Fitting the training data using the best parameters of the model\n",
        "rf_model.fit(X_train, Y_train)"
      ],
      "metadata": {
        "colab": {
          "base_uri": "https://localhost:8080/"
        },
        "id": "KzqvFQiUzrYt",
        "outputId": "25b06ff7-09e2-48e7-aec0-1108f98e1110"
      },
      "execution_count": 121,
      "outputs": [
        {
          "output_type": "execute_result",
          "data": {
            "text/plain": [
              "RandomForestRegressor(max_depth=90, min_samples_leaf=2, min_samples_split=9,\n",
              "                      n_estimators=400)"
            ]
          },
          "metadata": {},
          "execution_count": 121
        }
      ]
    },
    {
      "cell_type": "code",
      "source": [
        "# Getting the training predictions\n",
        "rf_train_preds = rf_model.predict(X_train)\n",
        "\n",
        "#Getting the testing predictions\n",
        "rf_test_preds = rf_model.predict(X_test)"
      ],
      "metadata": {
        "id": "GNK_vPRV3v_J"
      },
      "execution_count": 122,
      "outputs": []
    },
    {
      "cell_type": "code",
      "source": [
        "# Defining a function for calculating adjusted R2 score\n",
        "\n",
        "def adjusted_r2(n, k, actual, predicted):\n",
        "  return 1 - (((n-1)/(n-k-1))*(1-r2_score(actual, predicted)))"
      ],
      "metadata": {
        "id": "ExkmJnVmiofE"
      },
      "execution_count": 123,
      "outputs": []
    },
    {
      "cell_type": "code",
      "source": [
        "# Defining a function to calculate the evaluation metrics of the model\n",
        "\n",
        "def print_evaluation_metrics(actual_train, predicted_train, actual_test, predicted_test):\n",
        "  print('Training Mean Squared Error is {}'.format(mean_squared_error(actual_train, predicted_train)))\n",
        "  print('Testing Mean Squared Error is {}\\n'.format(mean_squared_error(actual_test, predicted_test)))\n",
        "  print('Training Root Mean Squared Error is {}'.format(math.sqrt(mean_squared_error(actual_train, predicted_train))))\n",
        "  print('Testing Root Mean Squared Error is {}\\n'.format(math.sqrt(mean_squared_error(actual_test, predicted_test))))\n",
        "  print('Training R2 Score is {}'.format(r2_score(actual_train, predicted_train)))\n",
        "  print('Testing R2 Score is {}\\n'.format(r2_score(actual_test, predicted_test)))\n",
        "  print('Training Mean Absolute Error is {}'.format(mean_absolute_error(actual_train, predicted_train)))\n",
        "  print('Testing Mean Absolute Error is {}\\n'.format(mean_absolute_error(actual_test, predicted_test)))\n",
        "  print('Training Mean Absolute Percentage Error is {}'.format(np.mean(np.abs((actual_train-predicted_train)/actual_train))*100))\n",
        "  print('Testing Mean Absolute Percentage Error is {}\\n'.format(np.mean(np.abs((actual_test-predicted_test)/actual_test))*100))\n",
        "  print('Training Adjusted R2 Score is {}'.format(adjusted_r2(len(actual_train), len(X.columns), actual_train, predicted_train)))\n",
        "  print('Testing Adjusted R2 Score is {}\\n'.format(adjusted_r2(len(actual_test), len(X.columns), actual_test, predicted_test)))"
      ],
      "metadata": {
        "id": "w0pjl7oYh5vl"
      },
      "execution_count": 124,
      "outputs": []
    },
    {
      "cell_type": "code",
      "source": [
        "# Displaying all the evaluation metrics for the Random Forest Regressor Algorithm\n",
        "\n",
        "print_evaluation_metrics(Y_train, rf_train_preds, Y_test, rf_test_preds)"
      ],
      "metadata": {
        "colab": {
          "base_uri": "https://localhost:8080/"
        },
        "id": "TeORu1J1jns-",
        "outputId": "8a8cb7ba-f246-46f7-c7e0-aaafa7e1c90e"
      },
      "execution_count": 125,
      "outputs": [
        {
          "output_type": "stream",
          "name": "stdout",
          "text": [
            "Training Mean Squared Error is 5.079612900920288\n",
            "Testing Mean Squared Error is 15.160363011959456\n",
            "\n",
            "Training Root Mean Squared Error is 2.253799658558916\n",
            "Testing Root Mean Squared Error is 3.893631083186934\n",
            "\n",
            "Training R2 Score is 0.9637477348502848\n",
            "Testing R2 Score is 0.8935600989162856\n",
            "\n",
            "Training Mean Absolute Error is 1.4561776430524866\n",
            "Testing Mean Absolute Error is 2.712391499706965\n",
            "\n",
            "Training Mean Absolute Percentage Error is 8.737858120538245\n",
            "Testing Mean Absolute Percentage Error is 15.171336410999206\n",
            "\n",
            "Training Adjusted R2 Score is 0.9636726228609261\n",
            "Testing Adjusted R2 Score is 0.8926720425306051\n",
            "\n"
          ]
        }
      ]
    },
    {
      "cell_type": "code",
      "source": [
        "# Installing shap\n",
        "\n",
        "!pip install shap"
      ],
      "metadata": {
        "colab": {
          "base_uri": "https://localhost:8080/"
        },
        "id": "1IdXjlxWHD2d",
        "outputId": "7c230671-1aee-4862-b263-55a1d91fcff8"
      },
      "execution_count": 126,
      "outputs": [
        {
          "output_type": "stream",
          "name": "stdout",
          "text": [
            "Collecting shap\n",
            "  Downloading shap-0.40.0-cp37-cp37m-manylinux2010_x86_64.whl (564 kB)\n",
            "\u001b[?25l\r\u001b[K     |▋                               | 10 kB 24.8 MB/s eta 0:00:01\r\u001b[K     |█▏                              | 20 kB 29.3 MB/s eta 0:00:01\r\u001b[K     |█▊                              | 30 kB 34.1 MB/s eta 0:00:01\r\u001b[K     |██▎                             | 40 kB 30.1 MB/s eta 0:00:01\r\u001b[K     |███                             | 51 kB 22.6 MB/s eta 0:00:01\r\u001b[K     |███▌                            | 61 kB 25.5 MB/s eta 0:00:01\r\u001b[K     |████                            | 71 kB 24.9 MB/s eta 0:00:01\r\u001b[K     |████▋                           | 81 kB 26.2 MB/s eta 0:00:01\r\u001b[K     |█████▏                          | 92 kB 28.1 MB/s eta 0:00:01\r\u001b[K     |█████▉                          | 102 kB 26.6 MB/s eta 0:00:01\r\u001b[K     |██████▍                         | 112 kB 26.6 MB/s eta 0:00:01\r\u001b[K     |███████                         | 122 kB 26.6 MB/s eta 0:00:01\r\u001b[K     |███████▌                        | 133 kB 26.6 MB/s eta 0:00:01\r\u001b[K     |████████▏                       | 143 kB 26.6 MB/s eta 0:00:01\r\u001b[K     |████████▊                       | 153 kB 26.6 MB/s eta 0:00:01\r\u001b[K     |█████████▎                      | 163 kB 26.6 MB/s eta 0:00:01\r\u001b[K     |█████████▉                      | 174 kB 26.6 MB/s eta 0:00:01\r\u001b[K     |██████████▍                     | 184 kB 26.6 MB/s eta 0:00:01\r\u001b[K     |███████████                     | 194 kB 26.6 MB/s eta 0:00:01\r\u001b[K     |███████████▋                    | 204 kB 26.6 MB/s eta 0:00:01\r\u001b[K     |████████████▏                   | 215 kB 26.6 MB/s eta 0:00:01\r\u001b[K     |████████████▊                   | 225 kB 26.6 MB/s eta 0:00:01\r\u001b[K     |█████████████▍                  | 235 kB 26.6 MB/s eta 0:00:01\r\u001b[K     |██████████████                  | 245 kB 26.6 MB/s eta 0:00:01\r\u001b[K     |██████████████▌                 | 256 kB 26.6 MB/s eta 0:00:01\r\u001b[K     |███████████████                 | 266 kB 26.6 MB/s eta 0:00:01\r\u001b[K     |███████████████▋                | 276 kB 26.6 MB/s eta 0:00:01\r\u001b[K     |████████████████▎               | 286 kB 26.6 MB/s eta 0:00:01\r\u001b[K     |████████████████▉               | 296 kB 26.6 MB/s eta 0:00:01\r\u001b[K     |█████████████████▍              | 307 kB 26.6 MB/s eta 0:00:01\r\u001b[K     |██████████████████              | 317 kB 26.6 MB/s eta 0:00:01\r\u001b[K     |██████████████████▋             | 327 kB 26.6 MB/s eta 0:00:01\r\u001b[K     |███████████████████▏            | 337 kB 26.6 MB/s eta 0:00:01\r\u001b[K     |███████████████████▊            | 348 kB 26.6 MB/s eta 0:00:01\r\u001b[K     |████████████████████▎           | 358 kB 26.6 MB/s eta 0:00:01\r\u001b[K     |████████████████████▉           | 368 kB 26.6 MB/s eta 0:00:01\r\u001b[K     |█████████████████████▌          | 378 kB 26.6 MB/s eta 0:00:01\r\u001b[K     |██████████████████████          | 389 kB 26.6 MB/s eta 0:00:01\r\u001b[K     |██████████████████████▋         | 399 kB 26.6 MB/s eta 0:00:01\r\u001b[K     |███████████████████████▏        | 409 kB 26.6 MB/s eta 0:00:01\r\u001b[K     |███████████████████████▉        | 419 kB 26.6 MB/s eta 0:00:01\r\u001b[K     |████████████████████████▍       | 430 kB 26.6 MB/s eta 0:00:01\r\u001b[K     |█████████████████████████       | 440 kB 26.6 MB/s eta 0:00:01\r\u001b[K     |█████████████████████████▌      | 450 kB 26.6 MB/s eta 0:00:01\r\u001b[K     |██████████████████████████      | 460 kB 26.6 MB/s eta 0:00:01\r\u001b[K     |██████████████████████████▊     | 471 kB 26.6 MB/s eta 0:00:01\r\u001b[K     |███████████████████████████▎    | 481 kB 26.6 MB/s eta 0:00:01\r\u001b[K     |███████████████████████████▉    | 491 kB 26.6 MB/s eta 0:00:01\r\u001b[K     |████████████████████████████▍   | 501 kB 26.6 MB/s eta 0:00:01\r\u001b[K     |█████████████████████████████   | 512 kB 26.6 MB/s eta 0:00:01\r\u001b[K     |█████████████████████████████▋  | 522 kB 26.6 MB/s eta 0:00:01\r\u001b[K     |██████████████████████████████▏ | 532 kB 26.6 MB/s eta 0:00:01\r\u001b[K     |██████████████████████████████▊ | 542 kB 26.6 MB/s eta 0:00:01\r\u001b[K     |███████████████████████████████▎| 552 kB 26.6 MB/s eta 0:00:01\r\u001b[K     |████████████████████████████████| 563 kB 26.6 MB/s eta 0:00:01\r\u001b[K     |████████████████████████████████| 564 kB 26.6 MB/s \n",
            "\u001b[?25hRequirement already satisfied: scikit-learn in /usr/local/lib/python3.7/dist-packages (from shap) (1.0.2)\n",
            "Requirement already satisfied: packaging>20.9 in /usr/local/lib/python3.7/dist-packages (from shap) (21.3)\n",
            "Requirement already satisfied: numba in /usr/local/lib/python3.7/dist-packages (from shap) (0.51.2)\n",
            "Requirement already satisfied: pandas in /usr/local/lib/python3.7/dist-packages (from shap) (1.3.5)\n",
            "Requirement already satisfied: tqdm>4.25.0 in /usr/local/lib/python3.7/dist-packages (from shap) (4.64.0)\n",
            "Collecting slicer==0.0.7\n",
            "  Downloading slicer-0.0.7-py3-none-any.whl (14 kB)\n",
            "Requirement already satisfied: numpy in /usr/local/lib/python3.7/dist-packages (from shap) (1.21.5)\n",
            "Requirement already satisfied: cloudpickle in /usr/local/lib/python3.7/dist-packages (from shap) (1.3.0)\n",
            "Requirement already satisfied: scipy in /usr/local/lib/python3.7/dist-packages (from shap) (1.4.1)\n",
            "Requirement already satisfied: pyparsing!=3.0.5,>=2.0.2 in /usr/local/lib/python3.7/dist-packages (from packaging>20.9->shap) (3.0.8)\n",
            "Requirement already satisfied: llvmlite<0.35,>=0.34.0.dev0 in /usr/local/lib/python3.7/dist-packages (from numba->shap) (0.34.0)\n",
            "Requirement already satisfied: setuptools in /usr/local/lib/python3.7/dist-packages (from numba->shap) (57.4.0)\n",
            "Requirement already satisfied: pytz>=2017.3 in /usr/local/lib/python3.7/dist-packages (from pandas->shap) (2018.9)\n",
            "Requirement already satisfied: python-dateutil>=2.7.3 in /usr/local/lib/python3.7/dist-packages (from pandas->shap) (2.8.2)\n",
            "Requirement already satisfied: six>=1.5 in /usr/local/lib/python3.7/dist-packages (from python-dateutil>=2.7.3->pandas->shap) (1.15.0)\n",
            "Requirement already satisfied: joblib>=0.11 in /usr/local/lib/python3.7/dist-packages (from scikit-learn->shap) (1.1.0)\n",
            "Requirement already satisfied: threadpoolctl>=2.0.0 in /usr/local/lib/python3.7/dist-packages (from scikit-learn->shap) (3.1.0)\n",
            "Installing collected packages: slicer, shap\n",
            "Successfully installed shap-0.40.0 slicer-0.0.7\n"
          ]
        }
      ]
    },
    {
      "cell_type": "code",
      "source": [
        "# Importing shap for model interpretability\n",
        "\n",
        "import shap"
      ],
      "metadata": {
        "id": "B3LVM_kGHJOL"
      },
      "execution_count": 127,
      "outputs": []
    },
    {
      "cell_type": "code",
      "source": [
        "# Creating a dataframe for column names to be used in shap visualization\n",
        "\n",
        "feature_columns = pd.DataFrame(X_test, columns=['Hour', 'Temperature(°C)', 'Humidity(%)',\n",
        "                                                'Visibility (10m)', 'Solar Radiation (MJ/m2)',\n",
        "                                                'Rainfall(mm)', 'Snowfall (cm)', 'Month', 'Day',\n",
        "                                                'Seasons_Spring', 'Seasons_Summer', 'Seasons_Winter',\n",
        "                                                'Holiday_No Holiday', 'Year_2018'])"
      ],
      "metadata": {
        "id": "-Ml0lYCeHJHx"
      },
      "execution_count": 128,
      "outputs": []
    },
    {
      "cell_type": "code",
      "source": [
        "# Getting the Random Forest Regressor Model Interpretability using shap\n",
        "\n",
        "explainer_rf = shap.TreeExplainer(rf_model)\n",
        "shap_values_rf = explainer_rf.shap_values(X_test)"
      ],
      "metadata": {
        "id": "0fiaUZ1YHJCM"
      },
      "execution_count": 129,
      "outputs": []
    },
    {
      "cell_type": "code",
      "source": [
        "# Plotting a bar graph of the features according to the importance\n",
        "\n",
        "shap.summary_plot(shap_values_rf, feature_columns, plot_type=\"bar\")"
      ],
      "metadata": {
        "colab": {
          "base_uri": "https://localhost:8080/",
          "height": 451
        },
        "id": "Tdrv-R5TIhTi",
        "outputId": "871d00e8-1d58-4651-c035-d86ea7f60b1c"
      },
      "execution_count": 130,
      "outputs": [
        {
          "output_type": "display_data",
          "data": {
            "text/plain": [
              "<Figure size 576x511.2 with 1 Axes>"
            ],
            "image/png": "[encoded data removed]"
          },
          "metadata": {
            "needs_background": "light"
          }
        }
      ]
    },
    {
      "cell_type": "markdown",
      "source": [
        "### **Hyper-Parameter Tuning of Gradient Boosting Regressor**"
      ],
      "metadata": {
        "id": "ZDKT25gurokZ"
      }
    },
    {
      "cell_type": "code",
      "source": [
        "# Initializing the Gradient Boosting Regressor Model\n",
        "model_gbr = GradientBoostingRegressor(random_state = 42)\n",
        "\n",
        "# Getting the parameters used by the Gradient Boosting Regressor Model\n",
        "print('Parameters currently in use:\\n')\n",
        "model_gbr.get_params()"
      ],
      "metadata": {
        "colab": {
          "base_uri": "https://localhost:8080/"
        },
        "id": "dXGMsWzKo6Y8",
        "outputId": "1af08d88-479e-4e5f-a47d-a16e43efe656"
      },
      "execution_count": 131,
      "outputs": [
        {
          "output_type": "stream",
          "name": "stdout",
          "text": [
            "Parameters currently in use:\n",
            "\n"
          ]
        },
        {
          "output_type": "execute_result",
          "data": {
            "text/plain": [
              "{'alpha': 0.9,\n",
              " 'ccp_alpha': 0.0,\n",
              " 'criterion': 'friedman_mse',\n",
              " 'init': None,\n",
              " 'learning_rate': 0.1,\n",
              " 'loss': 'squared_error',\n",
              " 'max_depth': 3,\n",
              " 'max_features': None,\n",
              " 'max_leaf_nodes': None,\n",
              " 'min_impurity_decrease': 0.0,\n",
              " 'min_samples_leaf': 1,\n",
              " 'min_samples_split': 2,\n",
              " 'min_weight_fraction_leaf': 0.0,\n",
              " 'n_estimators': 100,\n",
              " 'n_iter_no_change': None,\n",
              " 'random_state': 42,\n",
              " 'subsample': 1.0,\n",
              " 'tol': 0.0001,\n",
              " 'validation_fraction': 0.1,\n",
              " 'verbose': 0,\n",
              " 'warm_start': False}"
            ]
          },
          "metadata": {},
          "execution_count": 131
        }
      ]
    },
    {
      "cell_type": "code",
      "source": [
        "# Giving a range to the hyperparameters for selecting best parameters from them\n",
        "\n",
        "# Learning Rate\n",
        "learning_rate = [0.1, 0.01, 1, 10]\n",
        "\n",
        "# Maximum number of levels in tree\n",
        "max_depth = range(3, 20)\n",
        "\n",
        "# Maximum number of leaves in a tree\n",
        "max_leaf_nodes = range(3, 20)\n",
        "\n",
        "# Minimum number of samples required at each leaf node\n",
        "min_samples_leaf = range(1, 10)\n",
        "\n",
        "# Minimum number of samples required to split a node\n",
        "min_samples_split = range(1, 10)\n",
        "\n",
        "# Number of trees\n",
        "n_estimators = range(100, 2000, 200)\n",
        "\n",
        "# Create a dictionary of all the hyper-parameters\n",
        "gradient_grid = {'learning_rate': learning_rate,\n",
        "                'max_depth': max_depth,\n",
        "                'max_leaf_nodes': max_leaf_nodes,\n",
        "                'min_samples_leaf': min_samples_leaf,\n",
        "                'min_samples_split': min_samples_split,\n",
        "                'n_estimators': n_estimators}"
      ],
      "metadata": {
        "id": "kjDVPJy4sGhZ"
      },
      "execution_count": 132,
      "outputs": []
    },
    {
      "cell_type": "code",
      "source": [
        "# using Random Search CV to find the best parameters for the model\n",
        "gbr_random = RandomizedSearchCV(estimator=model_gbr, param_distributions=gradient_grid, cv = 10, verbose=2, random_state=42, scoring='r2')\n",
        "\n",
        "# Fitting the model with the training dataset\n",
        "gbr_random.fit(X_train, Y_train)"
      ],
      "metadata": {
        "colab": {
          "base_uri": "https://localhost:8080/"
        },
        "id": "UbB4ns2f5vnt",
        "outputId": "70c88273-fa22-45b7-dc27-a02adbd10095"
      },
      "execution_count": 133,
      "outputs": [
        {
          "output_type": "stream",
          "name": "stdout",
          "text": [
            "Fitting 10 folds for each of 10 candidates, totalling 100 fits\n",
            "[CV] END learning_rate=0.1, max_depth=11, max_leaf_nodes=17, min_samples_leaf=6, min_samples_split=1, n_estimators=1700; total time=   0.0s\n",
            "[CV] END learning_rate=0.1, max_depth=11, max_leaf_nodes=17, min_samples_leaf=6, min_samples_split=1, n_estimators=1700; total time=   0.0s\n",
            "[CV] END learning_rate=0.1, max_depth=11, max_leaf_nodes=17, min_samples_leaf=6, min_samples_split=1, n_estimators=1700; total time=   0.0s\n",
            "[CV] END learning_rate=0.1, max_depth=11, max_leaf_nodes=17, min_samples_leaf=6, min_samples_split=1, n_estimators=1700; total time=   0.0s\n",
            "[CV] END learning_rate=0.1, max_depth=11, max_leaf_nodes=17, min_samples_leaf=6, min_samples_split=1, n_estimators=1700; total time=   0.0s\n",
            "[CV] END learning_rate=0.1, max_depth=11, max_leaf_nodes=17, min_samples_leaf=6, min_samples_split=1, n_estimators=1700; total time=   0.0s\n",
            "[CV] END learning_rate=0.1, max_depth=11, max_leaf_nodes=17, min_samples_leaf=6, min_samples_split=1, n_estimators=1700; total time=   0.0s\n",
            "[CV] END learning_rate=0.1, max_depth=11, max_leaf_nodes=17, min_samples_leaf=6, min_samples_split=1, n_estimators=1700; total time=   0.0s\n",
            "[CV] END learning_rate=0.1, max_depth=11, max_leaf_nodes=17, min_samples_leaf=6, min_samples_split=1, n_estimators=1700; total time=   0.0s\n",
            "[CV] END learning_rate=0.1, max_depth=11, max_leaf_nodes=17, min_samples_leaf=6, min_samples_split=1, n_estimators=1700; total time=   0.0s\n",
            "[CV] END learning_rate=1, max_depth=17, max_leaf_nodes=15, min_samples_leaf=6, min_samples_split=3, n_estimators=1100; total time=  10.4s\n",
            "[CV] END learning_rate=1, max_depth=17, max_leaf_nodes=15, min_samples_leaf=6, min_samples_split=3, n_estimators=1100; total time=  18.0s\n",
            "[CV] END learning_rate=1, max_depth=17, max_leaf_nodes=15, min_samples_leaf=6, min_samples_split=3, n_estimators=1100; total time=  12.9s\n",
            "[CV] END learning_rate=1, max_depth=17, max_leaf_nodes=15, min_samples_leaf=6, min_samples_split=3, n_estimators=1100; total time=   9.1s\n",
            "[CV] END learning_rate=1, max_depth=17, max_leaf_nodes=15, min_samples_leaf=6, min_samples_split=3, n_estimators=1100; total time=   9.1s\n",
            "[CV] END learning_rate=1, max_depth=17, max_leaf_nodes=15, min_samples_leaf=6, min_samples_split=3, n_estimators=1100; total time=   9.0s\n",
            "[CV] END learning_rate=1, max_depth=17, max_leaf_nodes=15, min_samples_leaf=6, min_samples_split=3, n_estimators=1100; total time=   9.1s\n",
            "[CV] END learning_rate=1, max_depth=17, max_leaf_nodes=15, min_samples_leaf=6, min_samples_split=3, n_estimators=1100; total time=   9.1s\n",
            "[CV] END learning_rate=1, max_depth=17, max_leaf_nodes=15, min_samples_leaf=6, min_samples_split=3, n_estimators=1100; total time=   9.2s\n",
            "[CV] END learning_rate=1, max_depth=17, max_leaf_nodes=15, min_samples_leaf=6, min_samples_split=3, n_estimators=1100; total time=   9.0s\n",
            "[CV] END learning_rate=0.1, max_depth=12, max_leaf_nodes=12, min_samples_leaf=8, min_samples_split=9, n_estimators=500; total time=   4.2s\n",
            "[CV] END learning_rate=0.1, max_depth=12, max_leaf_nodes=12, min_samples_leaf=8, min_samples_split=9, n_estimators=500; total time=   4.2s\n",
            "[CV] END learning_rate=0.1, max_depth=12, max_leaf_nodes=12, min_samples_leaf=8, min_samples_split=9, n_estimators=500; total time=   4.2s\n",
            "[CV] END learning_rate=0.1, max_depth=12, max_leaf_nodes=12, min_samples_leaf=8, min_samples_split=9, n_estimators=500; total time=   4.1s\n",
            "[CV] END learning_rate=0.1, max_depth=12, max_leaf_nodes=12, min_samples_leaf=8, min_samples_split=9, n_estimators=500; total time=   4.2s\n",
            "[CV] END learning_rate=0.1, max_depth=12, max_leaf_nodes=12, min_samples_leaf=8, min_samples_split=9, n_estimators=500; total time=   4.2s\n",
            "[CV] END learning_rate=0.1, max_depth=12, max_leaf_nodes=12, min_samples_leaf=8, min_samples_split=9, n_estimators=500; total time=   4.2s\n",
            "[CV] END learning_rate=0.1, max_depth=12, max_leaf_nodes=12, min_samples_leaf=8, min_samples_split=9, n_estimators=500; total time=   5.9s\n",
            "[CV] END learning_rate=0.1, max_depth=12, max_leaf_nodes=12, min_samples_leaf=8, min_samples_split=9, n_estimators=500; total time=   4.2s\n",
            "[CV] END learning_rate=0.1, max_depth=12, max_leaf_nodes=12, min_samples_leaf=8, min_samples_split=9, n_estimators=500; total time=   4.3s\n",
            "[CV] END learning_rate=0.01, max_depth=12, max_leaf_nodes=12, min_samples_leaf=6, min_samples_split=8, n_estimators=1700; total time=  17.4s\n",
            "[CV] END learning_rate=0.01, max_depth=12, max_leaf_nodes=12, min_samples_leaf=6, min_samples_split=8, n_estimators=1700; total time=  17.3s\n",
            "[CV] END learning_rate=0.01, max_depth=12, max_leaf_nodes=12, min_samples_leaf=6, min_samples_split=8, n_estimators=1700; total time=  17.2s\n",
            "[CV] END learning_rate=0.01, max_depth=12, max_leaf_nodes=12, min_samples_leaf=6, min_samples_split=8, n_estimators=1700; total time=  17.4s\n",
            "[CV] END learning_rate=0.01, max_depth=12, max_leaf_nodes=12, min_samples_leaf=6, min_samples_split=8, n_estimators=1700; total time=  17.2s\n",
            "[CV] END learning_rate=0.01, max_depth=12, max_leaf_nodes=12, min_samples_leaf=6, min_samples_split=8, n_estimators=1700; total time=  17.1s\n",
            "[CV] END learning_rate=0.01, max_depth=12, max_leaf_nodes=12, min_samples_leaf=6, min_samples_split=8, n_estimators=1700; total time=  17.5s\n",
            "[CV] END learning_rate=0.01, max_depth=12, max_leaf_nodes=12, min_samples_leaf=6, min_samples_split=8, n_estimators=1700; total time=  17.2s\n",
            "[CV] END learning_rate=0.01, max_depth=12, max_leaf_nodes=12, min_samples_leaf=6, min_samples_split=8, n_estimators=1700; total time=  17.3s\n",
            "[CV] END learning_rate=0.01, max_depth=12, max_leaf_nodes=12, min_samples_leaf=6, min_samples_split=8, n_estimators=1700; total time=  17.5s\n",
            "[CV] END learning_rate=0.01, max_depth=4, max_leaf_nodes=16, min_samples_leaf=9, min_samples_split=7, n_estimators=1700; total time=  16.4s\n",
            "[CV] END learning_rate=0.01, max_depth=4, max_leaf_nodes=16, min_samples_leaf=9, min_samples_split=7, n_estimators=1700; total time=  16.5s\n",
            "[CV] END learning_rate=0.01, max_depth=4, max_leaf_nodes=16, min_samples_leaf=9, min_samples_split=7, n_estimators=1700; total time=  16.4s\n",
            "[CV] END learning_rate=0.01, max_depth=4, max_leaf_nodes=16, min_samples_leaf=9, min_samples_split=7, n_estimators=1700; total time=  16.5s\n",
            "[CV] END learning_rate=0.01, max_depth=4, max_leaf_nodes=16, min_samples_leaf=9, min_samples_split=7, n_estimators=1700; total time=  16.5s\n",
            "[CV] END learning_rate=0.01, max_depth=4, max_leaf_nodes=16, min_samples_leaf=9, min_samples_split=7, n_estimators=1700; total time=  16.4s\n",
            "[CV] END learning_rate=0.01, max_depth=4, max_leaf_nodes=16, min_samples_leaf=9, min_samples_split=7, n_estimators=1700; total time=  16.5s\n",
            "[CV] END learning_rate=0.01, max_depth=4, max_leaf_nodes=16, min_samples_leaf=9, min_samples_split=7, n_estimators=1700; total time=  16.4s\n",
            "[CV] END learning_rate=0.01, max_depth=4, max_leaf_nodes=16, min_samples_leaf=9, min_samples_split=7, n_estimators=1700; total time=  16.5s\n",
            "[CV] END learning_rate=0.01, max_depth=4, max_leaf_nodes=16, min_samples_leaf=9, min_samples_split=7, n_estimators=1700; total time=  16.4s\n",
            "[CV] END learning_rate=1, max_depth=15, max_leaf_nodes=16, min_samples_leaf=3, min_samples_split=4, n_estimators=1500; total time=  12.0s\n",
            "[CV] END learning_rate=1, max_depth=15, max_leaf_nodes=16, min_samples_leaf=3, min_samples_split=4, n_estimators=1500; total time=  12.1s\n",
            "[CV] END learning_rate=1, max_depth=15, max_leaf_nodes=16, min_samples_leaf=3, min_samples_split=4, n_estimators=1500; total time=  12.0s\n",
            "[CV] END learning_rate=1, max_depth=15, max_leaf_nodes=16, min_samples_leaf=3, min_samples_split=4, n_estimators=1500; total time=  12.2s\n",
            "[CV] END learning_rate=1, max_depth=15, max_leaf_nodes=16, min_samples_leaf=3, min_samples_split=4, n_estimators=1500; total time=  12.0s\n",
            "[CV] END learning_rate=1, max_depth=15, max_leaf_nodes=16, min_samples_leaf=3, min_samples_split=4, n_estimators=1500; total time=  11.9s\n",
            "[CV] END learning_rate=1, max_depth=15, max_leaf_nodes=16, min_samples_leaf=3, min_samples_split=4, n_estimators=1500; total time=  12.0s\n",
            "[CV] END learning_rate=1, max_depth=15, max_leaf_nodes=16, min_samples_leaf=3, min_samples_split=4, n_estimators=1500; total time=  12.0s\n",
            "[CV] END learning_rate=1, max_depth=15, max_leaf_nodes=16, min_samples_leaf=3, min_samples_split=4, n_estimators=1500; total time=  12.0s\n",
            "[CV] END learning_rate=1, max_depth=15, max_leaf_nodes=16, min_samples_leaf=3, min_samples_split=4, n_estimators=1500; total time=  12.0s\n",
            "[CV] END learning_rate=0.1, max_depth=11, max_leaf_nodes=3, min_samples_leaf=2, min_samples_split=2, n_estimators=1700; total time=   9.9s\n",
            "[CV] END learning_rate=0.1, max_depth=11, max_leaf_nodes=3, min_samples_leaf=2, min_samples_split=2, n_estimators=1700; total time=   9.8s\n",
            "[CV] END learning_rate=0.1, max_depth=11, max_leaf_nodes=3, min_samples_leaf=2, min_samples_split=2, n_estimators=1700; total time=   9.7s\n",
            "[CV] END learning_rate=0.1, max_depth=11, max_leaf_nodes=3, min_samples_leaf=2, min_samples_split=2, n_estimators=1700; total time=   9.8s\n",
            "[CV] END learning_rate=0.1, max_depth=11, max_leaf_nodes=3, min_samples_leaf=2, min_samples_split=2, n_estimators=1700; total time=   9.8s\n",
            "[CV] END learning_rate=0.1, max_depth=11, max_leaf_nodes=3, min_samples_leaf=2, min_samples_split=2, n_estimators=1700; total time=   9.8s\n",
            "[CV] END learning_rate=0.1, max_depth=11, max_leaf_nodes=3, min_samples_leaf=2, min_samples_split=2, n_estimators=1700; total time=   9.8s\n",
            "[CV] END learning_rate=0.1, max_depth=11, max_leaf_nodes=3, min_samples_leaf=2, min_samples_split=2, n_estimators=1700; total time=   9.7s\n",
            "[CV] END learning_rate=0.1, max_depth=11, max_leaf_nodes=3, min_samples_leaf=2, min_samples_split=2, n_estimators=1700; total time=   9.8s\n",
            "[CV] END learning_rate=0.1, max_depth=11, max_leaf_nodes=3, min_samples_leaf=2, min_samples_split=2, n_estimators=1700; total time=   9.8s\n",
            "[CV] END learning_rate=10, max_depth=5, max_leaf_nodes=5, min_samples_leaf=9, min_samples_split=4, n_estimators=100; total time=   0.7s\n",
            "[CV] END learning_rate=10, max_depth=5, max_leaf_nodes=5, min_samples_leaf=9, min_samples_split=4, n_estimators=100; total time=   0.7s\n",
            "[CV] END learning_rate=10, max_depth=5, max_leaf_nodes=5, min_samples_leaf=9, min_samples_split=4, n_estimators=100; total time=   0.8s\n",
            "[CV] END learning_rate=10, max_depth=5, max_leaf_nodes=5, min_samples_leaf=9, min_samples_split=4, n_estimators=100; total time=   0.8s\n",
            "[CV] END learning_rate=10, max_depth=5, max_leaf_nodes=5, min_samples_leaf=9, min_samples_split=4, n_estimators=100; total time=   0.7s\n",
            "[CV] END learning_rate=10, max_depth=5, max_leaf_nodes=5, min_samples_leaf=9, min_samples_split=4, n_estimators=100; total time=   0.7s\n",
            "[CV] END learning_rate=10, max_depth=5, max_leaf_nodes=5, min_samples_leaf=9, min_samples_split=4, n_estimators=100; total time=   0.7s\n",
            "[CV] END learning_rate=10, max_depth=5, max_leaf_nodes=5, min_samples_leaf=9, min_samples_split=4, n_estimators=100; total time=   0.7s\n",
            "[CV] END learning_rate=10, max_depth=5, max_leaf_nodes=5, min_samples_leaf=9, min_samples_split=4, n_estimators=100; total time=   0.7s\n",
            "[CV] END learning_rate=10, max_depth=5, max_leaf_nodes=5, min_samples_leaf=9, min_samples_split=4, n_estimators=100; total time=   0.7s\n",
            "[CV] END learning_rate=0.1, max_depth=6, max_leaf_nodes=19, min_samples_leaf=7, min_samples_split=8, n_estimators=1300; total time=  13.0s\n",
            "[CV] END learning_rate=0.1, max_depth=6, max_leaf_nodes=19, min_samples_leaf=7, min_samples_split=8, n_estimators=1300; total time=  13.0s\n",
            "[CV] END learning_rate=0.1, max_depth=6, max_leaf_nodes=19, min_samples_leaf=7, min_samples_split=8, n_estimators=1300; total time=  13.1s\n",
            "[CV] END learning_rate=0.1, max_depth=6, max_leaf_nodes=19, min_samples_leaf=7, min_samples_split=8, n_estimators=1300; total time=  13.0s\n",
            "[CV] END learning_rate=0.1, max_depth=6, max_leaf_nodes=19, min_samples_leaf=7, min_samples_split=8, n_estimators=1300; total time=  13.4s\n",
            "[CV] END learning_rate=0.1, max_depth=6, max_leaf_nodes=19, min_samples_leaf=7, min_samples_split=8, n_estimators=1300; total time=  13.1s\n",
            "[CV] END learning_rate=0.1, max_depth=6, max_leaf_nodes=19, min_samples_leaf=7, min_samples_split=8, n_estimators=1300; total time=  13.1s\n",
            "[CV] END learning_rate=0.1, max_depth=6, max_leaf_nodes=19, min_samples_leaf=7, min_samples_split=8, n_estimators=1300; total time=  12.9s\n",
            "[CV] END learning_rate=0.1, max_depth=6, max_leaf_nodes=19, min_samples_leaf=7, min_samples_split=8, n_estimators=1300; total time=  13.2s\n",
            "[CV] END learning_rate=0.1, max_depth=6, max_leaf_nodes=19, min_samples_leaf=7, min_samples_split=8, n_estimators=1300; total time=  13.0s\n",
            "[CV] END learning_rate=0.1, max_depth=12, max_leaf_nodes=19, min_samples_leaf=5, min_samples_split=9, n_estimators=1500; total time=  12.8s\n",
            "[CV] END learning_rate=0.1, max_depth=12, max_leaf_nodes=19, min_samples_leaf=5, min_samples_split=9, n_estimators=1500; total time=  12.8s\n",
            "[CV] END learning_rate=0.1, max_depth=12, max_leaf_nodes=19, min_samples_leaf=5, min_samples_split=9, n_estimators=1500; total time=  12.7s\n",
            "[CV] END learning_rate=0.1, max_depth=12, max_leaf_nodes=19, min_samples_leaf=5, min_samples_split=9, n_estimators=1500; total time=  12.8s\n",
            "[CV] END learning_rate=0.1, max_depth=12, max_leaf_nodes=19, min_samples_leaf=5, min_samples_split=9, n_estimators=1500; total time=  12.7s\n",
            "[CV] END learning_rate=0.1, max_depth=12, max_leaf_nodes=19, min_samples_leaf=5, min_samples_split=9, n_estimators=1500; total time=  12.8s\n",
            "[CV] END learning_rate=0.1, max_depth=12, max_leaf_nodes=19, min_samples_leaf=5, min_samples_split=9, n_estimators=1500; total time=  13.0s\n",
            "[CV] END learning_rate=0.1, max_depth=12, max_leaf_nodes=19, min_samples_leaf=5, min_samples_split=9, n_estimators=1500; total time=  13.2s\n",
            "[CV] END learning_rate=0.1, max_depth=12, max_leaf_nodes=19, min_samples_leaf=5, min_samples_split=9, n_estimators=1500; total time=  12.7s\n",
            "[CV] END learning_rate=0.1, max_depth=12, max_leaf_nodes=19, min_samples_leaf=5, min_samples_split=9, n_estimators=1500; total time=  13.2s\n"
          ]
        },
        {
          "output_type": "execute_result",
          "data": {
            "text/plain": [
              "RandomizedSearchCV(cv=10, estimator=GradientBoostingRegressor(random_state=42),\n",
              "                   param_distributions={'learning_rate': [0.1, 0.01, 1, 10],\n",
              "                                        'max_depth': range(3, 20),\n",
              "                                        'max_leaf_nodes': range(3, 20),\n",
              "                                        'min_samples_leaf': range(1, 10),\n",
              "                                        'min_samples_split': range(1, 10),\n",
              "                                        'n_estimators': range(100, 2000, 200)},\n",
              "                   random_state=42, scoring='r2', verbose=2)"
            ]
          },
          "metadata": {},
          "execution_count": 133
        }
      ]
    },
    {
      "cell_type": "code",
      "source": [
        "# Getting the best parameters after the Random Search Cross Validation\n",
        "\n",
        "gbr_random.best_params_"
      ],
      "metadata": {
        "colab": {
          "base_uri": "https://localhost:8080/"
        },
        "id": "UUi6i2C94xB4",
        "outputId": "74b3094e-5a80-4d8b-c857-61643ef89a96"
      },
      "execution_count": 134,
      "outputs": [
        {
          "output_type": "execute_result",
          "data": {
            "text/plain": [
              "{'learning_rate': 0.1,\n",
              " 'max_depth': 12,\n",
              " 'max_leaf_nodes': 19,\n",
              " 'min_samples_leaf': 5,\n",
              " 'min_samples_split': 9,\n",
              " 'n_estimators': 1500}"
            ]
          },
          "metadata": {},
          "execution_count": 134
        }
      ]
    },
    {
      "cell_type": "code",
      "source": [
        "# Storing the best parameters in a variables\n",
        "gbr_best_parameters = gbr_random.best_params_\n",
        "\n",
        "# Using the best parameters to train the model\n",
        "gbr_model = GradientBoostingRegressor(learning_rate = gbr_best_parameters['learning_rate'],\n",
        "                                      max_depth = gbr_best_parameters['max_depth'],\n",
        "                                      max_leaf_nodes = gbr_best_parameters['max_leaf_nodes'],\n",
        "                                      min_samples_leaf = gbr_best_parameters['min_samples_leaf'],\n",
        "                                      min_samples_split = gbr_best_parameters['min_samples_split'],\n",
        "                                      n_estimators = gbr_best_parameters['n_estimators'])\n",
        "\n",
        "# Fitting the training data using the best parameters of the model\n",
        "gbr_model.fit(X_train, Y_train)"
      ],
      "metadata": {
        "colab": {
          "base_uri": "https://localhost:8080/"
        },
        "id": "FLY-ErQJ-Za1",
        "outputId": "7b01813f-90da-4a37-a24f-6d6494aa112e"
      },
      "execution_count": 135,
      "outputs": [
        {
          "output_type": "execute_result",
          "data": {
            "text/plain": [
              "GradientBoostingRegressor(max_depth=12, max_leaf_nodes=19, min_samples_leaf=5,\n",
              "                          min_samples_split=9, n_estimators=1500)"
            ]
          },
          "metadata": {},
          "execution_count": 135
        }
      ]
    },
    {
      "cell_type": "code",
      "source": [
        "# Getting the training predictions\n",
        "gbr_train_preds = gbr_model.predict(X_train)\n",
        "\n",
        "#Getting the testing predictions\n",
        "gbr_test_preds = gbr_model.predict(X_test)"
      ],
      "metadata": {
        "id": "3Y2tDTRk_1VA"
      },
      "execution_count": 136,
      "outputs": []
    },
    {
      "cell_type": "code",
      "source": [
        "# Displaying all the evaluation metrics for the Gradient Boosting Regressor Algorithm\n",
        "\n",
        "print_evaluation_metrics(Y_train, gbr_train_preds, Y_test, gbr_test_preds)"
      ],
      "metadata": {
        "colab": {
          "base_uri": "https://localhost:8080/"
        },
        "id": "ImDQC4Ge_-dq",
        "outputId": "4909fe9f-6f6e-44a9-e0aa-b537dbe43f88"
      },
      "execution_count": 137,
      "outputs": [
        {
          "output_type": "stream",
          "name": "stdout",
          "text": [
            "Training Mean Squared Error is 0.5125915240391778\n",
            "Testing Mean Squared Error is 12.496607295336117\n",
            "\n",
            "Training Root Mean Squared Error is 0.7159549734719202\n",
            "Testing Root Mean Squared Error is 3.535054072476985\n",
            "\n",
            "Training R2 Score is 0.9963417283550094\n",
            "Testing R2 Score is 0.9122621507579797\n",
            "\n",
            "Training Mean Absolute Error is 0.49164645969877707\n",
            "Testing Mean Absolute Error is 2.4483797279513584\n",
            "\n",
            "Training Mean Absolute Percentage Error is 2.7641351718111076\n",
            "Testing Mean Absolute Percentage Error is 14.324152934992687\n",
            "\n",
            "Training Adjusted R2 Score is 0.996334148689029\n",
            "Testing Adjusted R2 Score is 0.9115301305616815\n",
            "\n"
          ]
        }
      ]
    },
    {
      "cell_type": "code",
      "source": [
        "# Getting the Random Forest Regressor Model Interpretability using shap\n",
        "\n",
        "explainer_gbr = shap.TreeExplainer(gbr_model)\n",
        "shap_values_gbr = explainer_gbr.shap_values(X_test)"
      ],
      "metadata": {
        "id": "F-gnTO1HKJ_O"
      },
      "execution_count": 138,
      "outputs": []
    },
    {
      "cell_type": "code",
      "source": [
        "# Plotting a bar graph of the features according to the importance\n",
        "\n",
        "shap.summary_plot(shap_values_gbr, feature_columns, plot_type=\"bar\")"
      ],
      "metadata": {
        "colab": {
          "base_uri": "https://localhost:8080/",
          "height": 451
        },
        "outputId": "0716cb66-e3fc-458e-f3cf-68d4751162ad",
        "id": "alQG_0c2KJ_j"
      },
      "execution_count": 139,
      "outputs": [
        {
          "output_type": "display_data",
          "data": {
            "text/plain": [
              "<Figure size 576x511.2 with 1 Axes>"
            ],
            "image/png": "[encoded data removed]"
          },
          "metadata": {
            "needs_background": "light"
          }
        }
      ]
    },
    {
      "cell_type": "markdown",
      "source": [
        "### **Hyper-Parameter Tuning of XGB Regressor:**"
      ],
      "metadata": {
        "id": "ZyxEn546Ahro"
      }
    },
    {
      "cell_type": "code",
      "source": [
        "# Initializing the XG Boost Regressor Model\n",
        "model_xgb = XGBRegressor(random_state = 42)\n",
        "\n",
        "# Getting the parameters used by the XG Boost Regressor Model\n",
        "print('Parameters currently in use:\\n')\n",
        "model_xgb.get_params()"
      ],
      "metadata": {
        "id": "GIxUh7NC6TfO",
        "colab": {
          "base_uri": "https://localhost:8080/"
        },
        "outputId": "50a12e64-4360-4b52-84c0-fa6a561652c1"
      },
      "execution_count": 140,
      "outputs": [
        {
          "output_type": "stream",
          "name": "stdout",
          "text": [
            "Parameters currently in use:\n",
            "\n"
          ]
        },
        {
          "output_type": "execute_result",
          "data": {
            "text/plain": [
              "{'base_score': 0.5,\n",
              " 'booster': 'gbtree',\n",
              " 'colsample_bylevel': 1,\n",
              " 'colsample_bynode': 1,\n",
              " 'colsample_bytree': 1,\n",
              " 'gamma': 0,\n",
              " 'importance_type': 'gain',\n",
              " 'learning_rate': 0.1,\n",
              " 'max_delta_step': 0,\n",
              " 'max_depth': 3,\n",
              " 'min_child_weight': 1,\n",
              " 'missing': None,\n",
              " 'n_estimators': 100,\n",
              " 'n_jobs': 1,\n",
              " 'nthread': None,\n",
              " 'objective': 'reg:linear',\n",
              " 'random_state': 42,\n",
              " 'reg_alpha': 0,\n",
              " 'reg_lambda': 1,\n",
              " 'scale_pos_weight': 1,\n",
              " 'seed': None,\n",
              " 'silent': None,\n",
              " 'subsample': 1,\n",
              " 'verbosity': 1}"
            ]
          },
          "metadata": {},
          "execution_count": 140
        }
      ]
    },
    {
      "cell_type": "code",
      "source": [
        "# Giving a range to the hyperparameters for selecting best parameters from them\n",
        "\n",
        "# Minimum loss reduction required to make a split\n",
        "gamma = range(0,5)\n",
        "\n",
        "# Learning Rate\n",
        "learning_rate = [0.1, 0.01, 1, 10]\n",
        "\n",
        "# Consideration of each tree’s weight estimation\n",
        "max_delta_step = range(0, 10)\n",
        "\n",
        "# Maximum number of levels in tree\n",
        "max_depth = range(3, 20)\n",
        "\n",
        "# Minimum sum of weights of all observations required in a child.\n",
        "min_child_weight = range(0,10)\n",
        "\n",
        "# Number of trees\n",
        "n_estimators = range(100, 2000, 200)\n",
        "\n",
        "# L1 regularization term on weights\n",
        "reg_alpha = range(0, 200, 20)\n",
        "\n",
        "# L2 regularization term on weights\n",
        "reg_lambda = range(1,5)\n",
        "\n",
        "# Storing the hyperparameters in a dictionary\n",
        "xgboost_grid = {'gamma': gamma,\n",
        "                'learning_rate': learning_rate,\n",
        "                'max_delta_step': max_delta_step,\n",
        "                'max_depth': max_depth,\n",
        "                'min_child_weight': min_child_weight,\n",
        "                'n_estimators': n_estimators,\n",
        "                'reg_alpha': reg_alpha,\n",
        "                'reg_lambda': reg_lambda}"
      ],
      "metadata": {
        "id": "_6Kt_GzhA1vS"
      },
      "execution_count": 141,
      "outputs": []
    },
    {
      "cell_type": "code",
      "source": [
        "# Using Random Search CV to find the best parameters for the model\n",
        "xgb_random = RandomizedSearchCV(estimator=model_xgb, param_distributions=xgboost_grid, cv = 10, verbose=2, random_state=42, scoring='r2')\n",
        "\n",
        "# Fitting the model with the training dataset\n",
        "xgb_random.fit(X_train, Y_train)"
      ],
      "metadata": {
        "colab": {
          "base_uri": "https://localhost:8080/"
        },
        "id": "PU17NaDrCScM",
        "outputId": "1430036c-7c15-439b-e981-af84f6cae8a0"
      },
      "execution_count": 142,
      "outputs": [
        {
          "output_type": "stream",
          "name": "stdout",
          "text": [
            "Fitting 10 folds for each of 10 candidates, totalling 100 fits\n",
            "[13:22:15] WARNING: /workspace/src/objective/regression_obj.cu:152: reg:linear is now deprecated in favor of reg:squarederror.\n",
            "[CV] END gamma=2, learning_rate=0.01, max_delta_step=4, max_depth=10, min_child_weight=8, n_estimators=900, reg_alpha=140, reg_lambda=1; total time=   7.8s\n",
            "[13:22:23] WARNING: /workspace/src/objective/regression_obj.cu:152: reg:linear is now deprecated in favor of reg:squarederror.\n",
            "[CV] END gamma=2, learning_rate=0.01, max_delta_step=4, max_depth=10, min_child_weight=8, n_estimators=900, reg_alpha=140, reg_lambda=1; total time=   7.8s\n",
            "[13:22:31] WARNING: /workspace/src/objective/regression_obj.cu:152: reg:linear is now deprecated in favor of reg:squarederror.\n",
            "[CV] END gamma=2, learning_rate=0.01, max_delta_step=4, max_depth=10, min_child_weight=8, n_estimators=900, reg_alpha=140, reg_lambda=1; total time=   7.7s\n",
            "[13:22:39] WARNING: /workspace/src/objective/regression_obj.cu:152: reg:linear is now deprecated in favor of reg:squarederror.\n",
            "[CV] END gamma=2, learning_rate=0.01, max_delta_step=4, max_depth=10, min_child_weight=8, n_estimators=900, reg_alpha=140, reg_lambda=1; total time=   7.6s\n",
            "[13:22:46] WARNING: /workspace/src/objective/regression_obj.cu:152: reg:linear is now deprecated in favor of reg:squarederror.\n",
            "[CV] END gamma=2, learning_rate=0.01, max_delta_step=4, max_depth=10, min_child_weight=8, n_estimators=900, reg_alpha=140, reg_lambda=1; total time=   7.7s\n",
            "[13:22:54] WARNING: /workspace/src/objective/regression_obj.cu:152: reg:linear is now deprecated in favor of reg:squarederror.\n",
            "[CV] END gamma=2, learning_rate=0.01, max_delta_step=4, max_depth=10, min_child_weight=8, n_estimators=900, reg_alpha=140, reg_lambda=1; total time=   7.6s\n",
            "[13:23:02] WARNING: /workspace/src/objective/regression_obj.cu:152: reg:linear is now deprecated in favor of reg:squarederror.\n",
            "[CV] END gamma=2, learning_rate=0.01, max_delta_step=4, max_depth=10, min_child_weight=8, n_estimators=900, reg_alpha=140, reg_lambda=1; total time=   7.7s\n",
            "[13:23:09] WARNING: /workspace/src/objective/regression_obj.cu:152: reg:linear is now deprecated in favor of reg:squarederror.\n",
            "[CV] END gamma=2, learning_rate=0.01, max_delta_step=4, max_depth=10, min_child_weight=8, n_estimators=900, reg_alpha=140, reg_lambda=1; total time=   7.7s\n",
            "[13:23:17] WARNING: /workspace/src/objective/regression_obj.cu:152: reg:linear is now deprecated in favor of reg:squarederror.\n",
            "[CV] END gamma=2, learning_rate=0.01, max_delta_step=4, max_depth=10, min_child_weight=8, n_estimators=900, reg_alpha=140, reg_lambda=1; total time=   7.7s\n",
            "[13:23:25] WARNING: /workspace/src/objective/regression_obj.cu:152: reg:linear is now deprecated in favor of reg:squarederror.\n",
            "[CV] END gamma=2, learning_rate=0.01, max_delta_step=4, max_depth=10, min_child_weight=8, n_estimators=900, reg_alpha=140, reg_lambda=1; total time=   7.6s\n",
            "[13:23:32] WARNING: /workspace/src/objective/regression_obj.cu:152: reg:linear is now deprecated in favor of reg:squarederror.\n",
            "[CV] END gamma=2, learning_rate=0.01, max_delta_step=6, max_depth=8, min_child_weight=6, n_estimators=1100, reg_alpha=160, reg_lambda=3; total time=  10.1s\n",
            "[13:23:42] WARNING: /workspace/src/objective/regression_obj.cu:152: reg:linear is now deprecated in favor of reg:squarederror.\n",
            "[CV] END gamma=2, learning_rate=0.01, max_delta_step=6, max_depth=8, min_child_weight=6, n_estimators=1100, reg_alpha=160, reg_lambda=3; total time=  10.2s\n",
            "[13:23:53] WARNING: /workspace/src/objective/regression_obj.cu:152: reg:linear is now deprecated in favor of reg:squarederror.\n",
            "[CV] END gamma=2, learning_rate=0.01, max_delta_step=6, max_depth=8, min_child_weight=6, n_estimators=1100, reg_alpha=160, reg_lambda=3; total time=  10.2s\n",
            "[13:24:03] WARNING: /workspace/src/objective/regression_obj.cu:152: reg:linear is now deprecated in favor of reg:squarederror.\n",
            "[CV] END gamma=2, learning_rate=0.01, max_delta_step=6, max_depth=8, min_child_weight=6, n_estimators=1100, reg_alpha=160, reg_lambda=3; total time=  10.1s\n",
            "[13:24:13] WARNING: /workspace/src/objective/regression_obj.cu:152: reg:linear is now deprecated in favor of reg:squarederror.\n",
            "[CV] END gamma=2, learning_rate=0.01, max_delta_step=6, max_depth=8, min_child_weight=6, n_estimators=1100, reg_alpha=160, reg_lambda=3; total time=  10.1s\n",
            "[13:24:23] WARNING: /workspace/src/objective/regression_obj.cu:152: reg:linear is now deprecated in favor of reg:squarederror.\n",
            "[CV] END gamma=2, learning_rate=0.01, max_delta_step=6, max_depth=8, min_child_weight=6, n_estimators=1100, reg_alpha=160, reg_lambda=3; total time=  10.2s\n",
            "[13:24:33] WARNING: /workspace/src/objective/regression_obj.cu:152: reg:linear is now deprecated in favor of reg:squarederror.\n",
            "[CV] END gamma=2, learning_rate=0.01, max_delta_step=6, max_depth=8, min_child_weight=6, n_estimators=1100, reg_alpha=160, reg_lambda=3; total time=  10.1s\n",
            "[13:24:43] WARNING: /workspace/src/objective/regression_obj.cu:152: reg:linear is now deprecated in favor of reg:squarederror.\n",
            "[CV] END gamma=2, learning_rate=0.01, max_delta_step=6, max_depth=8, min_child_weight=6, n_estimators=1100, reg_alpha=160, reg_lambda=3; total time=  10.1s\n",
            "[13:24:53] WARNING: /workspace/src/objective/regression_obj.cu:152: reg:linear is now deprecated in favor of reg:squarederror.\n",
            "[CV] END gamma=2, learning_rate=0.01, max_delta_step=6, max_depth=8, min_child_weight=6, n_estimators=1100, reg_alpha=160, reg_lambda=3; total time=  10.1s\n",
            "[13:25:03] WARNING: /workspace/src/objective/regression_obj.cu:152: reg:linear is now deprecated in favor of reg:squarederror.\n",
            "[CV] END gamma=2, learning_rate=0.01, max_delta_step=6, max_depth=8, min_child_weight=6, n_estimators=1100, reg_alpha=160, reg_lambda=3; total time=  10.1s\n",
            "[13:25:14] WARNING: /workspace/src/objective/regression_obj.cu:152: reg:linear is now deprecated in favor of reg:squarederror.\n",
            "[CV] END gamma=3, learning_rate=1, max_delta_step=8, max_depth=7, min_child_weight=3, n_estimators=700, reg_alpha=140, reg_lambda=4; total time=   1.4s\n",
            "[13:25:15] WARNING: /workspace/src/objective/regression_obj.cu:152: reg:linear is now deprecated in favor of reg:squarederror.\n",
            "[CV] END gamma=3, learning_rate=1, max_delta_step=8, max_depth=7, min_child_weight=3, n_estimators=700, reg_alpha=140, reg_lambda=4; total time=   1.3s\n",
            "[13:25:16] WARNING: /workspace/src/objective/regression_obj.cu:152: reg:linear is now deprecated in favor of reg:squarederror.\n",
            "[CV] END gamma=3, learning_rate=1, max_delta_step=8, max_depth=7, min_child_weight=3, n_estimators=700, reg_alpha=140, reg_lambda=4; total time=   1.4s\n",
            "[13:25:18] WARNING: /workspace/src/objective/regression_obj.cu:152: reg:linear is now deprecated in favor of reg:squarederror.\n",
            "[CV] END gamma=3, learning_rate=1, max_delta_step=8, max_depth=7, min_child_weight=3, n_estimators=700, reg_alpha=140, reg_lambda=4; total time=   1.4s\n",
            "[13:25:19] WARNING: /workspace/src/objective/regression_obj.cu:152: reg:linear is now deprecated in favor of reg:squarederror.\n",
            "[CV] END gamma=3, learning_rate=1, max_delta_step=8, max_depth=7, min_child_weight=3, n_estimators=700, reg_alpha=140, reg_lambda=4; total time=   1.4s\n",
            "[13:25:20] WARNING: /workspace/src/objective/regression_obj.cu:152: reg:linear is now deprecated in favor of reg:squarederror.\n",
            "[CV] END gamma=3, learning_rate=1, max_delta_step=8, max_depth=7, min_child_weight=3, n_estimators=700, reg_alpha=140, reg_lambda=4; total time=   1.4s\n",
            "[13:25:22] WARNING: /workspace/src/objective/regression_obj.cu:152: reg:linear is now deprecated in favor of reg:squarederror.\n",
            "[CV] END gamma=3, learning_rate=1, max_delta_step=8, max_depth=7, min_child_weight=3, n_estimators=700, reg_alpha=140, reg_lambda=4; total time=   1.3s\n",
            "[13:25:23] WARNING: /workspace/src/objective/regression_obj.cu:152: reg:linear is now deprecated in favor of reg:squarederror.\n",
            "[CV] END gamma=3, learning_rate=1, max_delta_step=8, max_depth=7, min_child_weight=3, n_estimators=700, reg_alpha=140, reg_lambda=4; total time=   1.4s\n",
            "[13:25:24] WARNING: /workspace/src/objective/regression_obj.cu:152: reg:linear is now deprecated in favor of reg:squarederror.\n",
            "[CV] END gamma=3, learning_rate=1, max_delta_step=8, max_depth=7, min_child_weight=3, n_estimators=700, reg_alpha=140, reg_lambda=4; total time=   1.3s\n",
            "[13:25:26] WARNING: /workspace/src/objective/regression_obj.cu:152: reg:linear is now deprecated in favor of reg:squarederror.\n",
            "[CV] END gamma=3, learning_rate=1, max_delta_step=8, max_depth=7, min_child_weight=3, n_estimators=700, reg_alpha=140, reg_lambda=4; total time=   1.3s\n",
            "[13:25:27] WARNING: /workspace/src/objective/regression_obj.cu:152: reg:linear is now deprecated in favor of reg:squarederror.\n",
            "[CV] END gamma=1, learning_rate=1, max_delta_step=3, max_depth=8, min_child_weight=1, n_estimators=900, reg_alpha=60, reg_lambda=1; total time=   1.9s\n",
            "[13:25:29] WARNING: /workspace/src/objective/regression_obj.cu:152: reg:linear is now deprecated in favor of reg:squarederror.\n",
            "[CV] END gamma=1, learning_rate=1, max_delta_step=3, max_depth=8, min_child_weight=1, n_estimators=900, reg_alpha=60, reg_lambda=1; total time=   2.0s\n",
            "[13:25:31] WARNING: /workspace/src/objective/regression_obj.cu:152: reg:linear is now deprecated in favor of reg:squarederror.\n",
            "[CV] END gamma=1, learning_rate=1, max_delta_step=3, max_depth=8, min_child_weight=1, n_estimators=900, reg_alpha=60, reg_lambda=1; total time=   1.9s\n",
            "[13:25:33] WARNING: /workspace/src/objective/regression_obj.cu:152: reg:linear is now deprecated in favor of reg:squarederror.\n",
            "[CV] END gamma=1, learning_rate=1, max_delta_step=3, max_depth=8, min_child_weight=1, n_estimators=900, reg_alpha=60, reg_lambda=1; total time=   2.1s\n",
            "[13:25:35] WARNING: /workspace/src/objective/regression_obj.cu:152: reg:linear is now deprecated in favor of reg:squarederror.\n",
            "[CV] END gamma=1, learning_rate=1, max_delta_step=3, max_depth=8, min_child_weight=1, n_estimators=900, reg_alpha=60, reg_lambda=1; total time=   2.0s\n",
            "[13:25:37] WARNING: /workspace/src/objective/regression_obj.cu:152: reg:linear is now deprecated in favor of reg:squarederror.\n",
            "[CV] END gamma=1, learning_rate=1, max_delta_step=3, max_depth=8, min_child_weight=1, n_estimators=900, reg_alpha=60, reg_lambda=1; total time=   2.0s\n",
            "[13:25:39] WARNING: /workspace/src/objective/regression_obj.cu:152: reg:linear is now deprecated in favor of reg:squarederror.\n",
            "[CV] END gamma=1, learning_rate=1, max_delta_step=3, max_depth=8, min_child_weight=1, n_estimators=900, reg_alpha=60, reg_lambda=1; total time=   2.0s\n",
            "[13:25:41] WARNING: /workspace/src/objective/regression_obj.cu:152: reg:linear is now deprecated in favor of reg:squarederror.\n",
            "[CV] END gamma=1, learning_rate=1, max_delta_step=3, max_depth=8, min_child_weight=1, n_estimators=900, reg_alpha=60, reg_lambda=1; total time=   1.9s\n",
            "[13:25:43] WARNING: /workspace/src/objective/regression_obj.cu:152: reg:linear is now deprecated in favor of reg:squarederror.\n",
            "[CV] END gamma=1, learning_rate=1, max_delta_step=3, max_depth=8, min_child_weight=1, n_estimators=900, reg_alpha=60, reg_lambda=1; total time=   2.0s\n",
            "[13:25:45] WARNING: /workspace/src/objective/regression_obj.cu:152: reg:linear is now deprecated in favor of reg:squarederror.\n",
            "[CV] END gamma=1, learning_rate=1, max_delta_step=3, max_depth=8, min_child_weight=1, n_estimators=900, reg_alpha=60, reg_lambda=1; total time=   2.1s\n",
            "[13:25:47] WARNING: /workspace/src/objective/regression_obj.cu:152: reg:linear is now deprecated in favor of reg:squarederror.\n",
            "[CV] END gamma=4, learning_rate=10, max_delta_step=5, max_depth=16, min_child_weight=7, n_estimators=1500, reg_alpha=60, reg_lambda=1; total time=   2.5s\n",
            "[13:25:49] WARNING: /workspace/src/objective/regression_obj.cu:152: reg:linear is now deprecated in favor of reg:squarederror.\n",
            "[CV] END gamma=4, learning_rate=10, max_delta_step=5, max_depth=16, min_child_weight=7, n_estimators=1500, reg_alpha=60, reg_lambda=1; total time=   2.4s\n",
            "[13:25:52] WARNING: /workspace/src/objective/regression_obj.cu:152: reg:linear is now deprecated in favor of reg:squarederror.\n",
            "[CV] END gamma=4, learning_rate=10, max_delta_step=5, max_depth=16, min_child_weight=7, n_estimators=1500, reg_alpha=60, reg_lambda=1; total time=   2.5s\n",
            "[13:25:54] WARNING: /workspace/src/objective/regression_obj.cu:152: reg:linear is now deprecated in favor of reg:squarederror.\n",
            "[CV] END gamma=4, learning_rate=10, max_delta_step=5, max_depth=16, min_child_weight=7, n_estimators=1500, reg_alpha=60, reg_lambda=1; total time=   2.4s\n",
            "[13:25:57] WARNING: /workspace/src/objective/regression_obj.cu:152: reg:linear is now deprecated in favor of reg:squarederror.\n",
            "[CV] END gamma=4, learning_rate=10, max_delta_step=5, max_depth=16, min_child_weight=7, n_estimators=1500, reg_alpha=60, reg_lambda=1; total time=   2.4s\n",
            "[13:25:59] WARNING: /workspace/src/objective/regression_obj.cu:152: reg:linear is now deprecated in favor of reg:squarederror.\n",
            "[CV] END gamma=4, learning_rate=10, max_delta_step=5, max_depth=16, min_child_weight=7, n_estimators=1500, reg_alpha=60, reg_lambda=1; total time=   2.4s\n",
            "[13:26:02] WARNING: /workspace/src/objective/regression_obj.cu:152: reg:linear is now deprecated in favor of reg:squarederror.\n",
            "[CV] END gamma=4, learning_rate=10, max_delta_step=5, max_depth=16, min_child_weight=7, n_estimators=1500, reg_alpha=60, reg_lambda=1; total time=   2.4s\n",
            "[13:26:04] WARNING: /workspace/src/objective/regression_obj.cu:152: reg:linear is now deprecated in favor of reg:squarederror.\n",
            "[CV] END gamma=4, learning_rate=10, max_delta_step=5, max_depth=16, min_child_weight=7, n_estimators=1500, reg_alpha=60, reg_lambda=1; total time=   2.4s\n",
            "[13:26:07] WARNING: /workspace/src/objective/regression_obj.cu:152: reg:linear is now deprecated in favor of reg:squarederror.\n",
            "[CV] END gamma=4, learning_rate=10, max_delta_step=5, max_depth=16, min_child_weight=7, n_estimators=1500, reg_alpha=60, reg_lambda=1; total time=   2.4s\n",
            "[13:26:09] WARNING: /workspace/src/objective/regression_obj.cu:152: reg:linear is now deprecated in favor of reg:squarederror.\n",
            "[CV] END gamma=4, learning_rate=10, max_delta_step=5, max_depth=16, min_child_weight=7, n_estimators=1500, reg_alpha=60, reg_lambda=1; total time=   2.5s\n",
            "[13:26:12] WARNING: /workspace/src/objective/regression_obj.cu:152: reg:linear is now deprecated in favor of reg:squarederror.\n",
            "[CV] END gamma=0, learning_rate=10, max_delta_step=2, max_depth=17, min_child_weight=6, n_estimators=500, reg_alpha=40, reg_lambda=2; total time=   2.2s\n",
            "[13:26:14] WARNING: /workspace/src/objective/regression_obj.cu:152: reg:linear is now deprecated in favor of reg:squarederror.\n",
            "[CV] END gamma=0, learning_rate=10, max_delta_step=2, max_depth=17, min_child_weight=6, n_estimators=500, reg_alpha=40, reg_lambda=2; total time=   2.8s\n",
            "[13:26:17] WARNING: /workspace/src/objective/regression_obj.cu:152: reg:linear is now deprecated in favor of reg:squarederror.\n",
            "[CV] END gamma=0, learning_rate=10, max_delta_step=2, max_depth=17, min_child_weight=6, n_estimators=500, reg_alpha=40, reg_lambda=2; total time=   2.6s\n",
            "[13:26:19] WARNING: /workspace/src/objective/regression_obj.cu:152: reg:linear is now deprecated in favor of reg:squarederror.\n",
            "[CV] END gamma=0, learning_rate=10, max_delta_step=2, max_depth=17, min_child_weight=6, n_estimators=500, reg_alpha=40, reg_lambda=2; total time=   3.4s\n",
            "[13:26:22] WARNING: /workspace/src/objective/regression_obj.cu:152: reg:linear is now deprecated in favor of reg:squarederror.\n",
            "[CV] END gamma=0, learning_rate=10, max_delta_step=2, max_depth=17, min_child_weight=6, n_estimators=500, reg_alpha=40, reg_lambda=2; total time=   3.9s\n",
            "[13:26:26] WARNING: /workspace/src/objective/regression_obj.cu:152: reg:linear is now deprecated in favor of reg:squarederror.\n",
            "[CV] END gamma=0, learning_rate=10, max_delta_step=2, max_depth=17, min_child_weight=6, n_estimators=500, reg_alpha=40, reg_lambda=2; total time=   3.8s\n",
            "[13:26:30] WARNING: /workspace/src/objective/regression_obj.cu:152: reg:linear is now deprecated in favor of reg:squarederror.\n",
            "[CV] END gamma=0, learning_rate=10, max_delta_step=2, max_depth=17, min_child_weight=6, n_estimators=500, reg_alpha=40, reg_lambda=2; total time=   3.4s\n",
            "[13:26:34] WARNING: /workspace/src/objective/regression_obj.cu:152: reg:linear is now deprecated in favor of reg:squarederror.\n",
            "[CV] END gamma=0, learning_rate=10, max_delta_step=2, max_depth=17, min_child_weight=6, n_estimators=500, reg_alpha=40, reg_lambda=2; total time=   3.1s\n",
            "[13:26:37] WARNING: /workspace/src/objective/regression_obj.cu:152: reg:linear is now deprecated in favor of reg:squarederror.\n",
            "[CV] END gamma=0, learning_rate=10, max_delta_step=2, max_depth=17, min_child_weight=6, n_estimators=500, reg_alpha=40, reg_lambda=2; total time=   2.0s\n",
            "[13:26:39] WARNING: /workspace/src/objective/regression_obj.cu:152: reg:linear is now deprecated in favor of reg:squarederror.\n",
            "[CV] END gamma=0, learning_rate=10, max_delta_step=2, max_depth=17, min_child_weight=6, n_estimators=500, reg_alpha=40, reg_lambda=2; total time=   3.8s\n",
            "[13:26:43] WARNING: /workspace/src/objective/regression_obj.cu:152: reg:linear is now deprecated in favor of reg:squarederror.\n",
            "[CV] END gamma=3, learning_rate=1, max_delta_step=6, max_depth=10, min_child_weight=6, n_estimators=1100, reg_alpha=60, reg_lambda=3; total time=  12.2s\n",
            "[13:26:55] WARNING: /workspace/src/objective/regression_obj.cu:152: reg:linear is now deprecated in favor of reg:squarederror.\n",
            "[CV] END gamma=3, learning_rate=1, max_delta_step=6, max_depth=10, min_child_weight=6, n_estimators=1100, reg_alpha=60, reg_lambda=3; total time=  12.4s\n",
            "[13:27:07] WARNING: /workspace/src/objective/regression_obj.cu:152: reg:linear is now deprecated in favor of reg:squarederror.\n",
            "[CV] END gamma=3, learning_rate=1, max_delta_step=6, max_depth=10, min_child_weight=6, n_estimators=1100, reg_alpha=60, reg_lambda=3; total time=   9.6s\n",
            "[13:27:17] WARNING: /workspace/src/objective/regression_obj.cu:152: reg:linear is now deprecated in favor of reg:squarederror.\n",
            "[CV] END gamma=3, learning_rate=1, max_delta_step=6, max_depth=10, min_child_weight=6, n_estimators=1100, reg_alpha=60, reg_lambda=3; total time=  10.2s\n",
            "[13:27:27] WARNING: /workspace/src/objective/regression_obj.cu:152: reg:linear is now deprecated in favor of reg:squarederror.\n",
            "[CV] END gamma=3, learning_rate=1, max_delta_step=6, max_depth=10, min_child_weight=6, n_estimators=1100, reg_alpha=60, reg_lambda=3; total time=  12.8s\n",
            "[13:27:40] WARNING: /workspace/src/objective/regression_obj.cu:152: reg:linear is now deprecated in favor of reg:squarederror.\n",
            "[CV] END gamma=3, learning_rate=1, max_delta_step=6, max_depth=10, min_child_weight=6, n_estimators=1100, reg_alpha=60, reg_lambda=3; total time=  11.9s\n",
            "[13:27:52] WARNING: /workspace/src/objective/regression_obj.cu:152: reg:linear is now deprecated in favor of reg:squarederror.\n",
            "[CV] END gamma=3, learning_rate=1, max_delta_step=6, max_depth=10, min_child_weight=6, n_estimators=1100, reg_alpha=60, reg_lambda=3; total time=  12.2s\n",
            "[13:28:04] WARNING: /workspace/src/objective/regression_obj.cu:152: reg:linear is now deprecated in favor of reg:squarederror.\n",
            "[CV] END gamma=3, learning_rate=1, max_delta_step=6, max_depth=10, min_child_weight=6, n_estimators=1100, reg_alpha=60, reg_lambda=3; total time=  10.7s\n",
            "[13:28:15] WARNING: /workspace/src/objective/regression_obj.cu:152: reg:linear is now deprecated in favor of reg:squarederror.\n",
            "[CV] END gamma=3, learning_rate=1, max_delta_step=6, max_depth=10, min_child_weight=6, n_estimators=1100, reg_alpha=60, reg_lambda=3; total time=  10.9s\n",
            "[13:28:25] WARNING: /workspace/src/objective/regression_obj.cu:152: reg:linear is now deprecated in favor of reg:squarederror.\n",
            "[CV] END gamma=3, learning_rate=1, max_delta_step=6, max_depth=10, min_child_weight=6, n_estimators=1100, reg_alpha=60, reg_lambda=3; total time=  12.2s\n",
            "[13:28:38] WARNING: /workspace/src/objective/regression_obj.cu:152: reg:linear is now deprecated in favor of reg:squarederror.\n",
            "[CV] END gamma=3, learning_rate=1, max_delta_step=0, max_depth=4, min_child_weight=1, n_estimators=1500, reg_alpha=0, reg_lambda=3; total time=   5.8s\n",
            "[13:28:43] WARNING: /workspace/src/objective/regression_obj.cu:152: reg:linear is now deprecated in favor of reg:squarederror.\n",
            "[CV] END gamma=3, learning_rate=1, max_delta_step=0, max_depth=4, min_child_weight=1, n_estimators=1500, reg_alpha=0, reg_lambda=3; total time=   6.0s\n",
            "[13:28:49] WARNING: /workspace/src/objective/regression_obj.cu:152: reg:linear is now deprecated in favor of reg:squarederror.\n",
            "[CV] END gamma=3, learning_rate=1, max_delta_step=0, max_depth=4, min_child_weight=1, n_estimators=1500, reg_alpha=0, reg_lambda=3; total time=   5.9s\n",
            "[13:28:55] WARNING: /workspace/src/objective/regression_obj.cu:152: reg:linear is now deprecated in favor of reg:squarederror.\n",
            "[CV] END gamma=3, learning_rate=1, max_delta_step=0, max_depth=4, min_child_weight=1, n_estimators=1500, reg_alpha=0, reg_lambda=3; total time=   5.8s\n",
            "[13:29:01] WARNING: /workspace/src/objective/regression_obj.cu:152: reg:linear is now deprecated in favor of reg:squarederror.\n",
            "[CV] END gamma=3, learning_rate=1, max_delta_step=0, max_depth=4, min_child_weight=1, n_estimators=1500, reg_alpha=0, reg_lambda=3; total time=   5.7s\n",
            "[13:29:07] WARNING: /workspace/src/objective/regression_obj.cu:152: reg:linear is now deprecated in favor of reg:squarederror.\n",
            "[CV] END gamma=3, learning_rate=1, max_delta_step=0, max_depth=4, min_child_weight=1, n_estimators=1500, reg_alpha=0, reg_lambda=3; total time=   6.0s\n",
            "[13:29:13] WARNING: /workspace/src/objective/regression_obj.cu:152: reg:linear is now deprecated in favor of reg:squarederror.\n",
            "[CV] END gamma=3, learning_rate=1, max_delta_step=0, max_depth=4, min_child_weight=1, n_estimators=1500, reg_alpha=0, reg_lambda=3; total time=   5.9s\n",
            "[13:29:19] WARNING: /workspace/src/objective/regression_obj.cu:152: reg:linear is now deprecated in favor of reg:squarederror.\n",
            "[CV] END gamma=3, learning_rate=1, max_delta_step=0, max_depth=4, min_child_weight=1, n_estimators=1500, reg_alpha=0, reg_lambda=3; total time=   5.9s\n",
            "[13:29:25] WARNING: /workspace/src/objective/regression_obj.cu:152: reg:linear is now deprecated in favor of reg:squarederror.\n",
            "[CV] END gamma=3, learning_rate=1, max_delta_step=0, max_depth=4, min_child_weight=1, n_estimators=1500, reg_alpha=0, reg_lambda=3; total time=   5.9s\n",
            "[13:29:30] WARNING: /workspace/src/objective/regression_obj.cu:152: reg:linear is now deprecated in favor of reg:squarederror.\n",
            "[CV] END gamma=3, learning_rate=1, max_delta_step=0, max_depth=4, min_child_weight=1, n_estimators=1500, reg_alpha=0, reg_lambda=3; total time=   5.7s\n",
            "[13:29:36] WARNING: /workspace/src/objective/regression_obj.cu:152: reg:linear is now deprecated in favor of reg:squarederror.\n",
            "[CV] END gamma=4, learning_rate=1, max_delta_step=2, max_depth=17, min_child_weight=3, n_estimators=1500, reg_alpha=60, reg_lambda=4; total time=  25.4s\n",
            "[13:30:02] WARNING: /workspace/src/objective/regression_obj.cu:152: reg:linear is now deprecated in favor of reg:squarederror.\n",
            "[CV] END gamma=4, learning_rate=1, max_delta_step=2, max_depth=17, min_child_weight=3, n_estimators=1500, reg_alpha=60, reg_lambda=4; total time=  15.3s\n",
            "[13:30:17] WARNING: /workspace/src/objective/regression_obj.cu:152: reg:linear is now deprecated in favor of reg:squarederror.\n",
            "[CV] END gamma=4, learning_rate=1, max_delta_step=2, max_depth=17, min_child_weight=3, n_estimators=1500, reg_alpha=60, reg_lambda=4; total time=  24.5s\n",
            "[13:30:42] WARNING: /workspace/src/objective/regression_obj.cu:152: reg:linear is now deprecated in favor of reg:squarederror.\n",
            "[CV] END gamma=4, learning_rate=1, max_delta_step=2, max_depth=17, min_child_weight=3, n_estimators=1500, reg_alpha=60, reg_lambda=4; total time=  23.4s\n",
            "[13:31:05] WARNING: /workspace/src/objective/regression_obj.cu:152: reg:linear is now deprecated in favor of reg:squarederror.\n",
            "[CV] END gamma=4, learning_rate=1, max_delta_step=2, max_depth=17, min_child_weight=3, n_estimators=1500, reg_alpha=60, reg_lambda=4; total time=  15.3s\n",
            "[13:31:20] WARNING: /workspace/src/objective/regression_obj.cu:152: reg:linear is now deprecated in favor of reg:squarederror.\n",
            "[CV] END gamma=4, learning_rate=1, max_delta_step=2, max_depth=17, min_child_weight=3, n_estimators=1500, reg_alpha=60, reg_lambda=4; total time=  22.1s\n",
            "[13:31:42] WARNING: /workspace/src/objective/regression_obj.cu:152: reg:linear is now deprecated in favor of reg:squarederror.\n",
            "[CV] END gamma=4, learning_rate=1, max_delta_step=2, max_depth=17, min_child_weight=3, n_estimators=1500, reg_alpha=60, reg_lambda=4; total time=  18.7s\n",
            "[13:32:01] WARNING: /workspace/src/objective/regression_obj.cu:152: reg:linear is now deprecated in favor of reg:squarederror.\n",
            "[CV] END gamma=4, learning_rate=1, max_delta_step=2, max_depth=17, min_child_weight=3, n_estimators=1500, reg_alpha=60, reg_lambda=4; total time=  15.9s\n",
            "[13:32:17] WARNING: /workspace/src/objective/regression_obj.cu:152: reg:linear is now deprecated in favor of reg:squarederror.\n",
            "[CV] END gamma=4, learning_rate=1, max_delta_step=2, max_depth=17, min_child_weight=3, n_estimators=1500, reg_alpha=60, reg_lambda=4; total time=  26.8s\n",
            "[13:32:44] WARNING: /workspace/src/objective/regression_obj.cu:152: reg:linear is now deprecated in favor of reg:squarederror.\n",
            "[CV] END gamma=4, learning_rate=1, max_delta_step=2, max_depth=17, min_child_weight=3, n_estimators=1500, reg_alpha=60, reg_lambda=4; total time=  18.7s\n",
            "[13:33:02] WARNING: /workspace/src/objective/regression_obj.cu:152: reg:linear is now deprecated in favor of reg:squarederror.\n",
            "[CV] END gamma=2, learning_rate=1, max_delta_step=5, max_depth=19, min_child_weight=0, n_estimators=1100, reg_alpha=60, reg_lambda=1; total time=   2.6s\n",
            "[13:33:05] WARNING: /workspace/src/objective/regression_obj.cu:152: reg:linear is now deprecated in favor of reg:squarederror.\n",
            "[CV] END gamma=2, learning_rate=1, max_delta_step=5, max_depth=19, min_child_weight=0, n_estimators=1100, reg_alpha=60, reg_lambda=1; total time=   2.7s\n",
            "[13:33:08] WARNING: /workspace/src/objective/regression_obj.cu:152: reg:linear is now deprecated in favor of reg:squarederror.\n",
            "[CV] END gamma=2, learning_rate=1, max_delta_step=5, max_depth=19, min_child_weight=0, n_estimators=1100, reg_alpha=60, reg_lambda=1; total time=   2.5s\n",
            "[13:33:10] WARNING: /workspace/src/objective/regression_obj.cu:152: reg:linear is now deprecated in favor of reg:squarederror.\n",
            "[CV] END gamma=2, learning_rate=1, max_delta_step=5, max_depth=19, min_child_weight=0, n_estimators=1100, reg_alpha=60, reg_lambda=1; total time=   2.6s\n",
            "[13:33:13] WARNING: /workspace/src/objective/regression_obj.cu:152: reg:linear is now deprecated in favor of reg:squarederror.\n",
            "[CV] END gamma=2, learning_rate=1, max_delta_step=5, max_depth=19, min_child_weight=0, n_estimators=1100, reg_alpha=60, reg_lambda=1; total time=   2.5s\n",
            "[13:33:15] WARNING: /workspace/src/objective/regression_obj.cu:152: reg:linear is now deprecated in favor of reg:squarederror.\n",
            "[CV] END gamma=2, learning_rate=1, max_delta_step=5, max_depth=19, min_child_weight=0, n_estimators=1100, reg_alpha=60, reg_lambda=1; total time=   2.7s\n",
            "[13:33:18] WARNING: /workspace/src/objective/regression_obj.cu:152: reg:linear is now deprecated in favor of reg:squarederror.\n",
            "[CV] END gamma=2, learning_rate=1, max_delta_step=5, max_depth=19, min_child_weight=0, n_estimators=1100, reg_alpha=60, reg_lambda=1; total time=   2.6s\n",
            "[13:33:21] WARNING: /workspace/src/objective/regression_obj.cu:152: reg:linear is now deprecated in favor of reg:squarederror.\n",
            "[CV] END gamma=2, learning_rate=1, max_delta_step=5, max_depth=19, min_child_weight=0, n_estimators=1100, reg_alpha=60, reg_lambda=1; total time=   2.5s\n",
            "[13:33:23] WARNING: /workspace/src/objective/regression_obj.cu:152: reg:linear is now deprecated in favor of reg:squarederror.\n",
            "[CV] END gamma=2, learning_rate=1, max_delta_step=5, max_depth=19, min_child_weight=0, n_estimators=1100, reg_alpha=60, reg_lambda=1; total time=  15.6s\n",
            "[13:33:39] WARNING: /workspace/src/objective/regression_obj.cu:152: reg:linear is now deprecated in favor of reg:squarederror.\n",
            "[CV] END gamma=2, learning_rate=1, max_delta_step=5, max_depth=19, min_child_weight=0, n_estimators=1100, reg_alpha=60, reg_lambda=1; total time=   2.8s\n",
            "[13:33:41] WARNING: /workspace/src/objective/regression_obj.cu:152: reg:linear is now deprecated in favor of reg:squarederror.\n"
          ]
        },
        {
          "output_type": "execute_result",
          "data": {
            "text/plain": [
              "RandomizedSearchCV(cv=10, estimator=XGBRegressor(random_state=42),\n",
              "                   param_distributions={'gamma': range(0, 5),\n",
              "                                        'learning_rate': [0.1, 0.01, 1, 10],\n",
              "                                        'max_delta_step': range(0, 10),\n",
              "                                        'max_depth': range(3, 20),\n",
              "                                        'min_child_weight': range(0, 10),\n",
              "                                        'n_estimators': range(100, 2000, 200),\n",
              "                                        'reg_alpha': range(0, 200, 20),\n",
              "                                        'reg_lambda': range(1, 5)},\n",
              "                   random_state=42, scoring='r2', verbose=2)"
            ]
          },
          "metadata": {},
          "execution_count": 142
        }
      ]
    },
    {
      "cell_type": "code",
      "source": [
        "# Getting the best parameters after the Random Search Cross Validation\n",
        "\n",
        "xgb_random.best_params_"
      ],
      "metadata": {
        "colab": {
          "base_uri": "https://localhost:8080/"
        },
        "id": "F4NXxsm8CreD",
        "outputId": "d2345f40-942a-47e3-8e60-869b7b5e83d9"
      },
      "execution_count": 143,
      "outputs": [
        {
          "output_type": "execute_result",
          "data": {
            "text/plain": [
              "{'gamma': 4,\n",
              " 'learning_rate': 1,\n",
              " 'max_delta_step': 2,\n",
              " 'max_depth': 17,\n",
              " 'min_child_weight': 3,\n",
              " 'n_estimators': 1500,\n",
              " 'reg_alpha': 60,\n",
              " 'reg_lambda': 4}"
            ]
          },
          "metadata": {},
          "execution_count": 143
        }
      ]
    },
    {
      "cell_type": "code",
      "source": [
        "# Storing the best parameters in a variables\n",
        "xgb_best_parameters = xgb_random.best_params_\n",
        "\n",
        "# Using the best parameters to train the model\n",
        "xgb_model = XGBRegressor(gamma = xgb_best_parameters['gamma'],\n",
        "                        learning_rate = xgb_best_parameters['learning_rate'],\n",
        "                        max_delta_step = xgb_best_parameters['max_delta_step'],\n",
        "                        max_depth = xgb_best_parameters['max_depth'],\n",
        "                        min_child_weight = xgb_best_parameters['min_child_weight'],\n",
        "                        n_estimators = xgb_best_parameters['n_estimators'],\n",
        "                        reg_alpha = xgb_best_parameters['reg_alpha'],\n",
        "                        reg_lambda = xgb_best_parameters['reg_lambda'])\n",
        "\n",
        "# Fitting the training data using the best parameters of the model\n",
        "xgb_model.fit(X_train, Y_train)"
      ],
      "metadata": {
        "colab": {
          "base_uri": "https://localhost:8080/"
        },
        "id": "_qxkz1MtE3D_",
        "outputId": "5ed5f251-dea9-4760-cc9b-ef73c825e1b5"
      },
      "execution_count": 144,
      "outputs": [
        {
          "output_type": "stream",
          "name": "stdout",
          "text": [
            "[13:34:06] WARNING: /workspace/src/objective/regression_obj.cu:152: reg:linear is now deprecated in favor of reg:squarederror.\n"
          ]
        },
        {
          "output_type": "execute_result",
          "data": {
            "text/plain": [
              "XGBRegressor(gamma=4, learning_rate=1, max_delta_step=2, max_depth=17,\n",
              "             min_child_weight=3, n_estimators=1500, reg_alpha=60, reg_lambda=4)"
            ]
          },
          "metadata": {},
          "execution_count": 144
        }
      ]
    },
    {
      "cell_type": "code",
      "source": [
        "# Getting the training predictions\n",
        "xgb_train_preds = xgb_model.predict(X_train)\n",
        "\n",
        "#Getting the testing predictions\n",
        "xgb_test_preds = xgb_model.predict(X_test)"
      ],
      "metadata": {
        "id": "2LTteb10GW_u"
      },
      "execution_count": 145,
      "outputs": []
    },
    {
      "cell_type": "code",
      "source": [
        "# Displaying all the evaluation metrics for the XG Boost Regressor Algorithm\n",
        "\n",
        "print_evaluation_metrics(Y_train, xgb_train_preds, Y_test, xgb_test_preds)"
      ],
      "metadata": {
        "colab": {
          "base_uri": "https://localhost:8080/"
        },
        "outputId": "6dc9d8b4-c6f3-4ba3-daf4-77f93467e300",
        "id": "08ifsNArGW_w"
      },
      "execution_count": 146,
      "outputs": [
        {
          "output_type": "stream",
          "name": "stdout",
          "text": [
            "Training Mean Squared Error is 4.3332403705073945\n",
            "Testing Mean Squared Error is 22.169134976929477\n",
            "\n",
            "Training Root Mean Squared Error is 2.081643670397841\n",
            "Testing Root Mean Squared Error is 4.708411088353424\n",
            "\n",
            "Training R2 Score is 0.9690744586382509\n",
            "Testing R2 Score is 0.8443519767835097\n",
            "\n",
            "Training Mean Absolute Error is 1.4943152855154282\n",
            "Testing Mean Absolute Error is 3.3322904182240145\n",
            "\n",
            "Training Mean Absolute Percentage Error is 8.711726173772025\n",
            "Testing Mean Absolute Percentage Error is 18.691208139564907\n",
            "\n",
            "Training Adjusted R2 Score is 0.9690103832232643\n",
            "Testing Adjusted R2 Score is 0.8430533639557202\n",
            "\n"
          ]
        }
      ]
    },
    {
      "cell_type": "code",
      "source": [
        "# Getting the Random Forest Regressor Model Interpretability using shap\n",
        "\n",
        "explainer_xgb = shap.TreeExplainer(xgb_model)\n",
        "shap_values_xgb = explainer_xgb.shap_values(X_test)"
      ],
      "metadata": {
        "id": "TX4kqtiVKaOm"
      },
      "execution_count": 147,
      "outputs": []
    },
    {
      "cell_type": "code",
      "source": [
        "# Plotting a bar graph of the features according to the importance\n",
        "\n",
        "shap.summary_plot(shap_values_xgb, feature_columns, plot_type=\"bar\")"
      ],
      "metadata": {
        "colab": {
          "base_uri": "https://localhost:8080/",
          "height": 451
        },
        "outputId": "ed311c0a-4d90-45a3-baa5-83a676460724",
        "id": "xOi0ze-hKaOo"
      },
      "execution_count": 148,
      "outputs": [
        {
          "output_type": "display_data",
          "data": {
            "text/plain": [
              "<Figure size 576x511.2 with 1 Axes>"
            ],
            "image/png": "[encoded data removed]"
          },
          "metadata": {
            "needs_background": "light"
          }
        }
      ]
    },
    {
      "cell_type": "code",
      "source": [
        ""
      ],
      "metadata": {
        "id": "WdJVl_rY45_b"
      },
      "execution_count": null,
      "outputs": []
    }
  ]
}